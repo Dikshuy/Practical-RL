{
  "nbformat": 4,
  "nbformat_minor": 0,
  "metadata": {
    "colab": {
      "name": "Approximate Q-learning.ipynb",
      "provenance": [],
      "collapsed_sections": []
    },
    "kernelspec": {
      "name": "python3",
      "display_name": "Python 3"
    },
    "language_info": {
      "name": "python"
    }
  },
  "cells": [
    {
      "cell_type": "markdown",
      "source": [
        "### Approximate q-learning\n",
        "In this notebook you will teach a PyTorch neural network to do Q-learning."
      ],
      "metadata": {
        "id": "hmQUHZMpSmDa"
      }
    },
    {
      "cell_type": "code",
      "execution_count": 1,
      "metadata": {
        "colab": {
          "base_uri": "https://localhost:8080/"
        },
        "id": "DVTBxY1dSft3",
        "outputId": "2517a5b5-fb6f-4acc-aeee-9bd23406e14b"
      },
      "outputs": [
        {
          "output_type": "stream",
          "name": "stdout",
          "text": [
            "Starting virtual X frame buffer: Xvfb.\n"
          ]
        }
      ],
      "source": [
        "import sys, os\n",
        "if 'google.colab' in sys.modules and not os.path.exists('.setup_complete'):\n",
        "    !wget -q https://raw.githubusercontent.com/yandexdataschool/Practical_RL/master/setup_colab.sh -O- | bash\n",
        "    !touch .setup_complete\n",
        "\n",
        "# This code creates a virtual display to draw game images on.\n",
        "# It will have no effect if your machine has a monitor.\n",
        "if type(os.environ.get(\"DISPLAY\")) is not str or len(os.environ.get(\"DISPLAY\")) == 0:\n",
        "    !bash ../xvfb start\n",
        "    os.environ['DISPLAY'] = ':1'"
      ]
    },
    {
      "cell_type": "code",
      "source": [
        "import gym\n",
        "import numpy as np\n",
        "import pandas as pd\n",
        "import matplotlib.pyplot as plt\n",
        "%matplotlib inline"
      ],
      "metadata": {
        "id": "N7bX1ZBmStWQ"
      },
      "execution_count": 2,
      "outputs": []
    },
    {
      "cell_type": "code",
      "source": [
        "env = gym.make(\"CartPole-v0\").env\n",
        "env.reset()\n",
        "n_actions = env.action_space.n\n",
        "state_dim = env.observation_space.shape\n",
        "\n",
        "plt.imshow(env.render(\"rgb_array\"))\n",
        "env.close()"
      ],
      "metadata": {
        "colab": {
          "base_uri": "https://localhost:8080/",
          "height": 269
        },
        "id": "AcJajdViSvIK",
        "outputId": "05917568-e5ea-4ec8-9f7d-d64e2d614adf"
      },
      "execution_count": 3,
      "outputs": [
        {
          "output_type": "display_data",
          "data": {
            "text/plain": [
              "<Figure size 432x288 with 1 Axes>"
            ],
            "image/png": "[encoded data removed]"
          },
          "metadata": {
            "needs_background": "light"
          }
        }
      ]
    },
    {
      "cell_type": "markdown",
      "source": [
        "## Approximate Q-learning: building the network\n",
        "To train a neural network policy one must have a neural network policy. Let's build it.\n",
        "\n",
        "Since we're working with a pre-extracted features (cart positions, angles and velocities), we don't need a complicated network yet. In fact, let's build something like this for starters:\n",
        "\n",
        "For your first run, please only use linear layers (nn.Linear) and activations. Stuff like batch normalization or dropout may ruin everything if used haphazardly.\n",
        "\n",
        "Also please avoid using nonlinearities like sigmoid & tanh: since agent's observations are not normalized, sigmoids might be saturated at initialization. Instead, use non-saturating nonlinearities like ReLU.\n",
        "\n",
        "Ideally you should start small with maybe 1-2 hidden layers with < 200 neurons and then increase network size if agent doesn't beat the target score."
      ],
      "metadata": {
        "id": "eTxXLlCES3iA"
      }
    },
    {
      "cell_type": "code",
      "source": [
        "import torch\n",
        "import torch.nn as nn\n",
        "import torch.nn.functional as F"
      ],
      "metadata": {
        "id": "PrJWTFFmTOXt"
      },
      "execution_count": 4,
      "outputs": []
    },
    {
      "cell_type": "code",
      "source": [
        "if torch.cuda.is_available():\n",
        "    dev = \"cuda:0\"\n",
        "else:\n",
        "    dev = \"cpu\"\n",
        "\n",
        "device = torch.device(dev)\n",
        "print(device)"
      ],
      "metadata": {
        "colab": {
          "base_uri": "https://localhost:8080/"
        },
        "id": "mH6pmrFidZzb",
        "outputId": "87dd075e-0743-4d7c-f93d-b3dbece66868"
      },
      "execution_count": 5,
      "outputs": [
        {
          "output_type": "stream",
          "name": "stdout",
          "text": [
            "cpu\n"
          ]
        }
      ]
    },
    {
      "cell_type": "code",
      "source": [
        "network = nn.Sequential()\n",
        "\n",
        "# hint: use state_dim[0] as input size\n",
        "network.add_module('layer 1', nn.Linear(state_dim[0], 100))\n",
        "network.add_module('relu1', nn.ReLU())\n",
        "network.add_module('layer 2', nn.Linear(100, 100))\n",
        "network.add_module('relu1', nn.ReLU())\n",
        "network.add_module('layer 3', nn.Linear(100, n_actions))\n",
        "\n",
        "# move the network to GPU if have one\n",
        "network.to(dev)"
      ],
      "metadata": {
        "colab": {
          "base_uri": "https://localhost:8080/"
        },
        "id": "POFC4KIpTPLh",
        "outputId": "9552e9df-bba1-407e-c16d-84fc3c7084cc"
      },
      "execution_count": 6,
      "outputs": [
        {
          "output_type": "execute_result",
          "data": {
            "text/plain": [
              "Sequential(\n",
              "  (layer 1): Linear(in_features=4, out_features=100, bias=True)\n",
              "  (relu1): ReLU()\n",
              "  (layer 2): Linear(in_features=100, out_features=100, bias=True)\n",
              "  (layer 3): Linear(in_features=100, out_features=2, bias=True)\n",
              ")"
            ]
          },
          "metadata": {},
          "execution_count": 6
        }
      ]
    },
    {
      "cell_type": "code",
      "source": [
        "def get_action(state, epsilon=0):\n",
        "    \"\"\"\n",
        "    sample actions with epsilon-greedy policy\n",
        "    recap: with p = epsilon pick random action, else pick action with highest Q(s,a)\n",
        "    \"\"\"\n",
        "    state = torch.tensor(state[None], dtype=torch.float32)\n",
        "    q_values = network(state).detach().numpy()\n",
        "\n",
        "    # <YOUR CODE>\n",
        "    q_values = q_values[0]\n",
        "\n",
        "    max_q = max(q_values)\n",
        "\n",
        "    best_actions = [idx for idx, q in enumerate(q_values) if q==max_q]\n",
        "    best_action = np.random.choice(best_actions)\n",
        "\n",
        "    action = []\n",
        "\n",
        "    if np.random.random() < epsilon:\n",
        "        action = np.random.choice(n_actions)\n",
        "    else:\n",
        "        action = best_action\n",
        "\n",
        "    # return int( <YOUR CODE: epsilon-greedily selected action> )\n",
        "    return int(action)"
      ],
      "metadata": {
        "id": "rZm2d0rRUCTa"
      },
      "execution_count": 7,
      "outputs": []
    },
    {
      "cell_type": "code",
      "source": [
        "s = env.reset()\n",
        "assert tuple(network(torch.tensor([s]*3, dtype=torch.float32).to(dev)).size()) == (\n",
        "    3, n_actions), \"please make sure your model maps state s -> [Q(s,a0), ..., Q(s, a_last)]\"\n",
        "assert isinstance(list(network.modules(\n",
        "))[-1], nn.Linear), \"please make sure you predict q-values without nonlinearity (ignore if you know what you're doing)\"\n",
        "assert isinstance(get_action(\n",
        "    s), int), \"get_action(s) must return int, not %s. try int(action)\" % (type(get_action(s)))\n",
        "\n",
        "# test epsilon-greedy exploration\n",
        "for eps in [0., 0.1, 0.5, 1.0]:\n",
        "    state_frequencies = np.bincount(\n",
        "        [get_action(s, epsilon=eps) for i in range(10000)], minlength=n_actions)\n",
        "    best_action = state_frequencies.argmax()\n",
        "    assert abs(state_frequencies[best_action] -\n",
        "               10000 * (1 - eps + eps / n_actions)) < 200\n",
        "    for other_action in range(n_actions):\n",
        "        if other_action != best_action:\n",
        "            assert abs(state_frequencies[other_action] -\n",
        "                       10000 * (eps / n_actions)) < 200\n",
        "    print('e=%.1f tests passed' % eps)"
      ],
      "metadata": {
        "colab": {
          "base_uri": "https://localhost:8080/"
        },
        "id": "axMoYb4aUGqG",
        "outputId": "d1d6a56e-c080-4a15-e90d-192cedee0159"
      },
      "execution_count": 8,
      "outputs": [
        {
          "output_type": "stream",
          "name": "stderr",
          "text": [
            "/usr/local/lib/python3.7/dist-packages/ipykernel_launcher.py:2: UserWarning: Creating a tensor from a list of numpy.ndarrays is extremely slow. Please consider converting the list to a single numpy.ndarray with numpy.array() before converting to a tensor. (Triggered internally at  ../torch/csrc/utils/tensor_new.cpp:210.)\n",
            "  \n"
          ]
        },
        {
          "output_type": "stream",
          "name": "stdout",
          "text": [
            "e=0.0 tests passed\n",
            "e=0.1 tests passed\n",
            "e=0.5 tests passed\n",
            "e=1.0 tests passed\n"
          ]
        }
      ]
    },
    {
      "cell_type": "markdown",
      "source": [
        "### Q-learning via gradient descent\n",
        "\n",
        "We shall now train our agent's Q-function by minimizing the TD loss\n",
        "\n",
        "To do so, we shall use x.detach() function which basically says \"consider this thing constant when doingbackprop\"."
      ],
      "metadata": {
        "id": "JAgwWfuaYe_7"
      }
    },
    {
      "cell_type": "code",
      "source": [
        "def compute_td_loss(states, actions, rewards, next_states, is_done, gamma=0.99, check_shapes=False):\n",
        "    \"\"\" Compute td loss using torch operations only. Use the formula above. \"\"\"\n",
        "    states = torch.tensor(\n",
        "        states, dtype=torch.float32).to(dev)                                  # shape: [batch_size, state_size]\n",
        "    actions = torch.tensor(actions, dtype=torch.long)                 # shape: [batch_size]\n",
        "    rewards = torch.tensor(rewards, dtype=torch.float32).to(dev)              # shape: [batch_size]\n",
        "    # shape: [batch_size, state_size]\n",
        "    next_states = torch.tensor(next_states, dtype=torch.float32).to(dev)\n",
        "    is_done = torch.tensor(is_done, dtype=torch.uint8).to(dev)                # shape: [batch_size]\n",
        "\n",
        "    # get q-values for all actions in current states\n",
        "    predicted_qvalues = network(states)                               # shape: [batch_size, n_actions]\n",
        "\n",
        "    # select q-values for chosen actions\n",
        "    predicted_qvalues_for_actions = predicted_qvalues[                # shape: [batch_size]\n",
        "      range(states.shape[0]), actions\n",
        "    ]\n",
        "\n",
        "    # compute q-values for all actions in next states\n",
        "    predicted_next_qvalues = network(next_states)\n",
        "\n",
        "    # compute V*(next_states) using predicted next q-values\n",
        "    next_state_values, _ = torch.max(predicted_next_qvalues,1)\n",
        "    assert next_state_values.dtype == torch.float32\n",
        "\n",
        "    # compute \"target q-values\" for loss - it's what's inside square parentheses in the above formula.\n",
        "    target_qvalues_for_actions = rewards + gamma * next_state_values\n",
        "\n",
        "    # at the last state we shall use simplified formula: Q(s,a) = r(s,a) since s' doesn't exist\n",
        "    target_qvalues_for_actions = torch.where(\n",
        "        is_done, rewards, target_qvalues_for_actions)\n",
        "\n",
        "    # mean squared error loss to minimize\n",
        "    loss = torch.mean((predicted_qvalues_for_actions -\n",
        "                       target_qvalues_for_actions.detach()) ** 2)\n",
        "\n",
        "    if check_shapes:\n",
        "        assert predicted_next_qvalues.data.dim(\n",
        "        ) == 2, \"make sure you predicted q-values for all actions in next state\"\n",
        "        assert next_state_values.data.dim(\n",
        "        ) == 1, \"make sure you computed V(s') as maximum over just the actions axis and not all axes\"\n",
        "        assert target_qvalues_for_actions.data.dim(\n",
        "        ) == 1, \"there's something wrong with target q-values, they must be a vector\"\n",
        "\n",
        "    return loss"
      ],
      "metadata": {
        "id": "eYLHxi46YTib"
      },
      "execution_count": 9,
      "outputs": []
    },
    {
      "cell_type": "code",
      "source": [
        "# sanity checks\n",
        "s = env.reset()\n",
        "a = env.action_space.sample()\n",
        "next_s, r, done, _ = env.step(a)\n",
        "loss = compute_td_loss([s], [a], [r], [next_s], [done], check_shapes=True)\n",
        "loss.backward()\n",
        "\n",
        "assert len(loss.size()) == 0, \"you must return scalar loss - mean over batch\"\n",
        "assert np.any(next(network.parameters()).grad.detach().to(\"cpu\").numpy() !=\n",
        "              0), \"loss must be differentiable w.r.t. network weights\""
      ],
      "metadata": {
        "colab": {
          "base_uri": "https://localhost:8080/"
        },
        "id": "mFvj7jY3bCnZ",
        "outputId": "cf55285c-ef08-4c2c-f156-fe05f364671c"
      },
      "execution_count": 10,
      "outputs": [
        {
          "output_type": "stream",
          "name": "stderr",
          "text": [
            "/usr/local/lib/python3.7/dist-packages/ipykernel_launcher.py:31: UserWarning: where received a uint8 condition tensor. This behavior is deprecated and will be removed in a future version of PyTorch. Use a boolean condition instead. (Triggered internally at  ../aten/src/ATen/native/TensorCompare.cpp:333.)\n"
          ]
        }
      ]
    },
    {
      "cell_type": "markdown",
      "source": [
        "Playing the game"
      ],
      "metadata": {
        "id": "I5wbr7WnbG-N"
      }
    },
    {
      "cell_type": "code",
      "source": [
        "opt = torch.optim.Adam(network.parameters(), lr=1e-4)"
      ],
      "metadata": {
        "id": "YLeZ0bukbIsg"
      },
      "execution_count": 11,
      "outputs": []
    },
    {
      "cell_type": "code",
      "source": [
        "def generate_session(env, t_max=1000, epsilon=0, train=False):\n",
        "    \"\"\"play env with approximate q-learning agent and train it at the same time\"\"\"\n",
        "    total_reward = 0\n",
        "    s = env.reset()\n",
        "\n",
        "    for t in range(t_max):\n",
        "        a = get_action(s, epsilon=epsilon)\n",
        "        next_s, r, done, _ = env.step(a)\n",
        "\n",
        "        if train:\n",
        "            opt.zero_grad()\n",
        "            compute_td_loss([s], [a], [r], [next_s], [done]).backward()\n",
        "            opt.step()\n",
        "\n",
        "        total_reward += r\n",
        "        s = next_s\n",
        "        if done:\n",
        "            break\n",
        "\n",
        "    return total_reward"
      ],
      "metadata": {
        "id": "rrIHxn23bKe3"
      },
      "execution_count": 12,
      "outputs": []
    },
    {
      "cell_type": "code",
      "source": [
        "epsilon = 0.5"
      ],
      "metadata": {
        "id": "azcpEVn0bM09"
      },
      "execution_count": 13,
      "outputs": []
    },
    {
      "cell_type": "code",
      "source": [
        "for i in range(1000):\n",
        "    session_rewards = [generate_session(env, epsilon=epsilon, train=True) for _ in range(100)]\n",
        "    print(\"epoch #{}\\tmean reward = {:.3f}\\tepsilon = {:.3f}\".format(i, np.mean(session_rewards), epsilon))\n",
        "\n",
        "    epsilon *= 0.99\n",
        "    assert epsilon >= 1e-4, \"Make sure epsilon is always nonzero during training\"\n",
        "\n",
        "    if np.mean(session_rewards) > 300:\n",
        "        print(\"You Win!\")\n",
        "        break"
      ],
      "metadata": {
        "colab": {
          "base_uri": "https://localhost:8080/"
        },
        "id": "HrWwvFoQbObl",
        "outputId": "06b9265d-fda0-46b5-cc0e-cc9d8317cbdf"
      },
      "execution_count": 14,
      "outputs": [
        {
          "output_type": "stream",
          "name": "stdout",
          "text": [
            "epoch #0\tmean reward = 13.630\tepsilon = 0.500\n",
            "epoch #1\tmean reward = 13.530\tepsilon = 0.495\n",
            "epoch #2\tmean reward = 14.550\tepsilon = 0.490\n",
            "epoch #3\tmean reward = 14.240\tepsilon = 0.485\n",
            "epoch #4\tmean reward = 20.290\tepsilon = 0.480\n",
            "epoch #5\tmean reward = 24.390\tepsilon = 0.475\n",
            "epoch #6\tmean reward = 30.170\tepsilon = 0.471\n",
            "epoch #7\tmean reward = 36.110\tepsilon = 0.466\n",
            "epoch #8\tmean reward = 39.150\tepsilon = 0.461\n",
            "epoch #9\tmean reward = 42.560\tepsilon = 0.457\n",
            "epoch #10\tmean reward = 46.880\tepsilon = 0.452\n",
            "epoch #11\tmean reward = 56.820\tepsilon = 0.448\n",
            "epoch #12\tmean reward = 80.650\tepsilon = 0.443\n",
            "epoch #13\tmean reward = 95.650\tepsilon = 0.439\n",
            "epoch #14\tmean reward = 108.570\tepsilon = 0.434\n",
            "epoch #15\tmean reward = 124.830\tepsilon = 0.430\n",
            "epoch #16\tmean reward = 136.200\tepsilon = 0.426\n",
            "epoch #17\tmean reward = 116.610\tepsilon = 0.421\n",
            "epoch #18\tmean reward = 100.360\tepsilon = 0.417\n",
            "epoch #19\tmean reward = 121.460\tepsilon = 0.413\n",
            "epoch #20\tmean reward = 124.740\tepsilon = 0.409\n",
            "epoch #21\tmean reward = 103.790\tepsilon = 0.405\n",
            "epoch #22\tmean reward = 171.940\tepsilon = 0.401\n",
            "epoch #23\tmean reward = 193.120\tepsilon = 0.397\n",
            "epoch #24\tmean reward = 203.380\tepsilon = 0.393\n",
            "epoch #25\tmean reward = 204.470\tepsilon = 0.389\n",
            "epoch #26\tmean reward = 241.040\tepsilon = 0.385\n",
            "epoch #27\tmean reward = 237.830\tepsilon = 0.381\n",
            "epoch #28\tmean reward = 270.810\tepsilon = 0.377\n",
            "epoch #29\tmean reward = 332.780\tepsilon = 0.374\n",
            "You Win!\n"
          ]
        }
      ]
    },
    {
      "cell_type": "markdown",
      "source": [
        "### How to interpret results\n",
        "Welcome to the f.. world of deep f...n reinforcement learning. Don't expect agent's reward to smoothly go up. Hope for it to go increase eventually. If it deems you worthy.\n",
        "\n",
        "Seriously though,\n",
        "\n",
        "mean reward is the average reward per game. For a correct implementation it may stay low for some 10 epochs, then start growing while oscilating insanely and converges by ~50-100 steps depending on the network architecture.\n",
        "If it never reaches target score by the end of for loop, try increasing the number of hidden neurons or look at the epsilon.\n",
        "epsilon - agent's willingness to explore. If you see that agent's already at < 0.01 epsilon before it's is at least 200, just reset it back to 0.1 - 0.5."
      ],
      "metadata": {
        "id": "nJyRcRq-cks2"
      }
    },
    {
      "cell_type": "markdown",
      "source": [
        "### Record videos\n",
        "As usual, we now use gym.wrappers.Monitor to record a video of our agent playing the game. Unlike our previous attempts with state binarization, this time we expect our agent to act (or fail) more smoothly since there's no more binarization error at play.\n",
        "\n",
        "As you already did with tabular q-learning, we set epsilon=0 for final evaluation to prevent agent from exploring himself to death."
      ],
      "metadata": {
        "id": "_OyTbO63c1A1"
      }
    },
    {
      "cell_type": "code",
      "source": [
        "# Record sessions\n",
        "\n",
        "import gym.wrappers\n",
        "\n",
        "with gym.wrappers.Monitor(gym.make(\"CartPole-v0\"), directory=\"videos\", force=True) as env_monitor:\n",
        "    sessions = [generate_session(env_monitor, epsilon=0, train=False) for _ in range(100)]"
      ],
      "metadata": {
        "id": "VgjiBz1zcwn-"
      },
      "execution_count": 15,
      "outputs": []
    },
    {
      "cell_type": "code",
      "source": [
        "# Show video. This may not work in some setups. If it doesn't\n",
        "# work for you, you can download the videos and view them locally.\n",
        "\n",
        "from pathlib import Path\n",
        "from base64 import b64encode\n",
        "from IPython.display import HTML\n",
        "\n",
        "video_paths = sorted([s for s in Path('videos').iterdir() if s.suffix == '.mp4'])\n",
        "video_path = video_paths[-1]  # You can also try other indices\n",
        "\n",
        "if 'google.colab' in sys.modules:\n",
        "    # https://stackoverflow.com/a/57378660/1214547\n",
        "    with video_path.open('rb') as fp:\n",
        "        mp4 = fp.read()\n",
        "    data_url = 'data:video/mp4;base64,' + b64encode(mp4).decode()\n",
        "else:\n",
        "    data_url = str(video_path)\n",
        "\n",
        "HTML(\"\"\"\n",
        "<video width=\"640\" height=\"480\" controls>\n",
        "  <source src=\"{}\" type=\"video/mp4\">\n",
        "</video>\n",
        "\"\"\".format(data_url))"
      ],
      "metadata": {
        "colab": {
          "base_uri": "https://localhost:8080/",
          "height": 501
        },
        "id": "XWTqDQFPc7mz",
        "outputId": "a7e0f3b9-dfbd-4145-d9a6-32e97d8d3289"
      },
      "execution_count": 16,
      "outputs": [
        {
          "output_type": "execute_result",
          "data": {
            "text/plain": [
              "<IPython.core.display.HTML object>"
            ],
            "text/html": [
              "\n",
              "<video width=\"640\" height=\"480\" controls>\n",
              "  <source src=\"data:video/mp4;base64,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\" type=\"video/mp4\">\n",
              "</video>\n"
            ]
          },
          "metadata": {},
          "execution_count": 16
        }
      ]
    }
  ]
}