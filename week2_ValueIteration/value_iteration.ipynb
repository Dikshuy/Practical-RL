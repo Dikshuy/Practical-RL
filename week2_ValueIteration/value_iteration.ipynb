{
  "nbformat": 4,
  "nbformat_minor": 0,
  "metadata": {
    "colab": {
      "name": "value-iteration.ipynb",
      "provenance": []
    },
    "kernelspec": {
      "name": "python3",
      "display_name": "Python 3"
    },
    "language_info": {
      "name": "python"
    }
  },
  "cells": [
    {
      "cell_type": "markdown",
      "source": [
        "## Markov decision process\n",
        "This week's methods are all built to solve Markov Decision Processes. In the broadest sense, an MDP is defined by how it changes states and how rewards are computed.\n",
        "\n",
        "State transition is defined by  - how likely are you to end at state  if you take action  from state . Now there's more than one way to define rewards, but we'll use  function for convenience."
      ],
      "metadata": {
        "id": "mowmYl_M83O6"
      }
    },
    {
      "cell_type": "code",
      "execution_count": 59,
      "metadata": {
        "id": "yNUW8X4r8z7w"
      },
      "outputs": [],
      "source": [
        "import sys, os\n",
        "if 'google.colab' in sys.modules and not os.path.exists('.setup_complete'):\n",
        "    !wget -q https://raw.githubusercontent.com/yandexdataschool/Practical_RL/master/setup_colab.sh -O- | bash\n",
        "    !wget -q https://raw.githubusercontent.com/yandexdataschool/Practical_RL/master/week02_value_based/mdp.py\n",
        "    !touch .setup_complete\n",
        "\n",
        "# This code creates a virtual display to draw game images on.\n",
        "# It will have no effect if your machine has a monitor.\n",
        "if type(os.environ.get(\"DISPLAY\")) is not str or len(os.environ.get(\"DISPLAY\")) == 0:\n",
        "    !bash ../xvfb start\n",
        "    os.environ['DISPLAY'] = ':1'"
      ]
    },
    {
      "cell_type": "code",
      "source": [
        "transition_probs = {\n",
        "    's0': {\n",
        "        'a0': {'s0': 0.5, 's2': 0.5},\n",
        "        'a1': {'s2': 1}\n",
        "    },\n",
        "    's1': {\n",
        "        'a0': {'s0': 0.7, 's1': 0.1, 's2': 0.2},\n",
        "        'a1': {'s1': 0.95, 's2': 0.05}\n",
        "    },\n",
        "    's2': {\n",
        "        'a0': {'s0': 0.4, 's2': 0.6},\n",
        "        'a1': {'s0': 0.3, 's1': 0.3, 's2': 0.4}\n",
        "    }\n",
        "}\n",
        "rewards = {\n",
        "    's1': {'a0': {'s0': +5}},\n",
        "    's2': {'a1': {'s0': -1}}\n",
        "}\n",
        "\n",
        "from mdp import MDP\n",
        "mdp = MDP(transition_probs, rewards, initial_state='s0')"
      ],
      "metadata": {
        "id": "8YNTAF0t9sMK"
      },
      "execution_count": 60,
      "outputs": []
    },
    {
      "cell_type": "code",
      "source": [
        "print('initial state =', mdp.reset())\n",
        "next_state, reward, done, info = mdp.step('a1')\n",
        "print('next_state = %s, reward = %s, done = %s' % (next_state, reward, done))"
      ],
      "metadata": {
        "colab": {
          "base_uri": "https://localhost:8080/"
        },
        "id": "ioCmTnfE91k_",
        "outputId": "978a4f18-8c5e-4bec-8aac-409e7ee63bf7"
      },
      "execution_count": 61,
      "outputs": [
        {
          "output_type": "stream",
          "name": "stdout",
          "text": [
            "initial state = s0\n",
            "next_state = s2, reward = 0.0, done = False\n"
          ]
        }
      ]
    },
    {
      "cell_type": "code",
      "source": [
        "print(\"mdp.get_all_states =\", mdp.get_all_states())\n",
        "print(\"mdp.get_possible_actions('s1') = \", mdp.get_possible_actions('s1'))\n",
        "print(\"mdp.get_next_states('s1', 'a0') = \", mdp.get_next_states('s1', 'a0'))\n",
        "print(\"mdp.get_reward('s1', 'a0', 's0') = \", mdp.get_reward('s1', 'a0', 's0'))\n",
        "print(\"mdp.get_transition_prob('s1', 'a0', 's0') = \", mdp.get_transition_prob('s1', 'a0', 's0'))"
      ],
      "metadata": {
        "colab": {
          "base_uri": "https://localhost:8080/"
        },
        "id": "_gnXvIOl9-3Q",
        "outputId": "0e0f4dce-adea-4d94-fafb-57104e66a02a"
      },
      "execution_count": 62,
      "outputs": [
        {
          "output_type": "stream",
          "name": "stdout",
          "text": [
            "mdp.get_all_states = ('s0', 's1', 's2')\n",
            "mdp.get_possible_actions('s1') =  ('a0', 'a1')\n",
            "mdp.get_next_states('s1', 'a0') =  {'s0': 0.7, 's1': 0.1, 's2': 0.2}\n",
            "mdp.get_reward('s1', 'a0', 's0') =  5\n",
            "mdp.get_transition_prob('s1', 'a0', 's0') =  0.7\n"
          ]
        }
      ]
    },
    {
      "cell_type": "code",
      "source": [
        "!pip install graphviz"
      ],
      "metadata": {
        "colab": {
          "base_uri": "https://localhost:8080/"
        },
        "id": "7vy0Mxjp-HtI",
        "outputId": "2eeda1e8-8f42-46f8-a3cf-6f7b492fb180"
      },
      "execution_count": 63,
      "outputs": [
        {
          "output_type": "stream",
          "name": "stdout",
          "text": [
            "Looking in indexes: https://pypi.org/simple, https://us-python.pkg.dev/colab-wheels/public/simple/\n",
            "Requirement already satisfied: graphviz in /usr/local/lib/python3.7/dist-packages (0.10.1)\n"
          ]
        }
      ]
    },
    {
      "cell_type": "code",
      "source": [
        "from mdp import has_graphviz\n",
        "from IPython.display import display\n",
        "print(\"Graphviz available:\", has_graphviz)"
      ],
      "metadata": {
        "colab": {
          "base_uri": "https://localhost:8080/"
        },
        "id": "YHIb2RTo-nQz",
        "outputId": "526a7fde-8ef0-4e15-95b5-a5264179fa5b"
      },
      "execution_count": 64,
      "outputs": [
        {
          "output_type": "stream",
          "name": "stdout",
          "text": [
            "Graphviz available: True\n"
          ]
        }
      ]
    },
    {
      "cell_type": "code",
      "source": [
        "if has_graphviz:\n",
        "    from mdp import plot_graph, plot_graph_with_state_values, plot_graph_optimal_strategy_and_state_values\n",
        "    display(plot_graph(mdp))"
      ],
      "metadata": {
        "colab": {
          "base_uri": "https://localhost:8080/",
          "height": 322
        },
        "id": "Pcr498f--psz",
        "outputId": "36fdf621-5a00-4f00-e5f7-b02f43ab7d7f"
      },
      "execution_count": 65,
      "outputs": [
        {
          "output_type": "display_data",
          "data": {
            "text/plain": [
              "<graphviz.dot.Digraph at 0x7fafbaf8c710>"
            ],
            "image/svg+xml": "<?xml version=\"1.0\" encoding=\"UTF-8\" standalone=\"no\"?>\n<!DOCTYPE svg PUBLIC \"-//W3C//DTD SVG 1.1//EN\"\n \"http://www.w3.org/Graphics/SVG/1.1/DTD/svg11.dtd\">\n<!-- Generated by graphviz version 2.40.1 (20161225.0304)\n -->\n<!-- Title: MDP Pages: 1 -->\n<svg width=\"720pt\" height=\"226pt\"\n viewBox=\"0.00 0.00 720.00 225.64\" xmlns=\"http://www.w3.org/2000/svg\" xmlns:xlink=\"http://www.w3.org/1999/xlink\">\n<g id=\"graph0\" class=\"graph\" transform=\"scale(.7008 .7008) rotate(0) translate(4 318)\">\n<title>MDP</title>\n<polygon fill=\"#ffffff\" stroke=\"transparent\" points=\"-4,4 -4,-318 1023.463,-318 1023.463,4 -4,4\"/>\n<!-- s0 -->\n<g id=\"node1\" class=\"node\">\n<title>s0</title>\n<ellipse fill=\"#85ff75\" stroke=\"#85ff75\" cx=\"40\" cy=\"-116\" rx=\"36\" ry=\"36\"/>\n<ellipse fill=\"none\" stroke=\"#85ff75\" cx=\"40\" cy=\"-116\" rx=\"40\" ry=\"40\"/>\n<text text-anchor=\"middle\" x=\"40\" y=\"-109.8\" font-family=\"Arial\" font-size=\"24.00\" fill=\"#000000\">s0</text>\n</g>\n<!-- s0&#45;a0 -->\n<g id=\"node2\" class=\"node\">\n<title>s0&#45;a0</title>\n<ellipse fill=\"#ffb6c1\" stroke=\"#ffb6c1\" cx=\"193.5772\" cy=\"-160\" rx=\"27.6545\" ry=\"27.6545\"/>\n<text text-anchor=\"middle\" x=\"193.5772\" y=\"-155\" font-family=\"Arial\" font-size=\"20.00\" fill=\"#000000\">a0</text>\n</g>\n<!-- s0&#45;&gt;s0&#45;a0 -->\n<g id=\"edge1\" class=\"edge\">\n<title>s0&#45;&gt;s0&#45;a0</title>\n<path fill=\"none\" stroke=\"#ff0000\" stroke-width=\"2\" d=\"M79.2844,-124.7026C99.8974,-129.5498 125.4811,-136.0095 148,-143 151.327,-144.0328 154.7652,-145.1741 158.1924,-146.3622\"/>\n<polygon fill=\"#ff0000\" stroke=\"#ff0000\" stroke-width=\"2\" points=\"157.1257,-149.698 167.7202,-149.7831 159.4912,-143.1097 157.1257,-149.698\"/>\n</g>\n<!-- s0&#45;a1 -->\n<g id=\"node4\" class=\"node\">\n<title>s0&#45;a1</title>\n<ellipse fill=\"#ffb6c1\" stroke=\"#ffb6c1\" cx=\"193.5772\" cy=\"-233\" rx=\"27.6545\" ry=\"27.6545\"/>\n<text text-anchor=\"middle\" x=\"193.5772\" y=\"-228\" font-family=\"Arial\" font-size=\"20.00\" fill=\"#000000\">a1</text>\n</g>\n<!-- s0&#45;&gt;s0&#45;a1 -->\n<g id=\"edge4\" class=\"edge\">\n<title>s0&#45;&gt;s0&#45;a1</title>\n<path fill=\"none\" stroke=\"#ff0000\" stroke-width=\"2\" d=\"M66.6878,-145.9984C76.104,-155.7862 87.0765,-166.3514 98,-175 117.3546,-190.324 141.0693,-204.7377 160.0344,-215.3632\"/>\n<polygon fill=\"#ff0000\" stroke=\"#ff0000\" stroke-width=\"2\" points=\"158.4757,-218.5005 168.923,-220.2624 161.8547,-212.37 158.4757,-218.5005\"/>\n</g>\n<!-- s0&#45;a0&#45;&gt;s0 -->\n<g id=\"edge2\" class=\"edge\">\n<title>s0&#45;a0&#45;&gt;s0</title>\n<path fill=\"none\" stroke=\"#0000ff\" stroke-dasharray=\"5,2\" d=\"M166.0433,-155.6398C146.7591,-152.2473 120.5165,-146.9481 98,-140 94.1846,-138.8227 90.2733,-137.4907 86.3715,-136.0724\"/>\n<polygon fill=\"#0000ff\" stroke=\"#0000ff\" points=\"87.3439,-132.6975 76.753,-132.4084 84.852,-139.239 87.3439,-132.6975\"/>\n<text text-anchor=\"middle\" x=\"123\" y=\"-158.2\" font-family=\"Arial\" font-size=\"16.00\" fill=\"#000000\">p = 0.5</text>\n</g>\n<!-- s2 -->\n<g id=\"node3\" class=\"node\">\n<title>s2</title>\n<ellipse fill=\"#85ff75\" stroke=\"#85ff75\" cx=\"433.1543\" cy=\"-183\" rx=\"36\" ry=\"36\"/>\n<ellipse fill=\"none\" stroke=\"#85ff75\" cx=\"433.1543\" cy=\"-183\" rx=\"40\" ry=\"40\"/>\n<text text-anchor=\"middle\" x=\"433.1543\" y=\"-176.8\" font-family=\"Arial\" font-size=\"24.00\" fill=\"#000000\">s2</text>\n</g>\n<!-- s0&#45;a0&#45;&gt;s2 -->\n<g id=\"edge3\" class=\"edge\">\n<title>s0&#45;a0&#45;&gt;s2</title>\n<path fill=\"none\" stroke=\"#0000ff\" stroke-dasharray=\"5,2\" d=\"M221.0597,-162.6384C260.5326,-166.4279 333.9353,-173.4747 383.1716,-178.2015\"/>\n<polygon fill=\"#0000ff\" stroke=\"#0000ff\" points=\"383.0017,-181.7012 393.2904,-179.173 383.6707,-174.7333 383.0017,-181.7012\"/>\n<text text-anchor=\"middle\" x=\"307.1543\" y=\"-182.2\" font-family=\"Arial\" font-size=\"16.00\" fill=\"#000000\">p = 0.5</text>\n</g>\n<!-- s2&#45;a0 -->\n<g id=\"node8\" class=\"node\">\n<title>s2&#45;a0</title>\n<ellipse fill=\"#ffb6c1\" stroke=\"#ffb6c1\" cx=\"666.7315\" cy=\"-162\" rx=\"27.6545\" ry=\"27.6545\"/>\n<text text-anchor=\"middle\" x=\"666.7315\" y=\"-157\" font-family=\"Arial\" font-size=\"20.00\" fill=\"#000000\">a0</text>\n</g>\n<!-- s2&#45;&gt;s2&#45;a0 -->\n<g id=\"edge13\" class=\"edge\">\n<title>s2&#45;&gt;s2&#45;a0</title>\n<path fill=\"none\" stroke=\"#ff0000\" stroke-width=\"2\" d=\"M473.2351,-186.9649C511.6217,-189.7355 570.9586,-191.3218 621.1543,-181 624.8123,-180.2478 628.5451,-179.2014 632.2213,-177.9828\"/>\n<polygon fill=\"#ff0000\" stroke=\"#ff0000\" stroke-width=\"2\" points=\"633.5825,-181.2107 641.7302,-174.4383 631.1375,-174.6516 633.5825,-181.2107\"/>\n</g>\n<!-- s2&#45;a1 -->\n<g id=\"node9\" class=\"node\">\n<title>s2&#45;a1</title>\n<ellipse fill=\"#ffb6c1\" stroke=\"#ffb6c1\" cx=\"666.7315\" cy=\"-80\" rx=\"27.6545\" ry=\"27.6545\"/>\n<text text-anchor=\"middle\" x=\"666.7315\" y=\"-75\" font-family=\"Arial\" font-size=\"20.00\" fill=\"#000000\">a1</text>\n</g>\n<!-- s2&#45;&gt;s2&#45;a1 -->\n<g id=\"edge16\" class=\"edge\">\n<title>s2&#45;&gt;s2&#45;a1</title>\n<path fill=\"none\" stroke=\"#ff0000\" stroke-width=\"2\" d=\"M467.3288,-161.7827C475.0423,-157.3286 483.2807,-152.8261 491.1543,-149 538.2751,-126.1024 595.0607,-104.8798 631.0354,-92.179\"/>\n<polygon fill=\"#ff0000\" stroke=\"#ff0000\" stroke-width=\"2\" points=\"632.3234,-95.4365 640.6049,-88.8284 630.0101,-88.8297 632.3234,-95.4365\"/>\n</g>\n<!-- s0&#45;a1&#45;&gt;s2 -->\n<g id=\"edge5\" class=\"edge\">\n<title>s0&#45;a1&#45;&gt;s2</title>\n<path fill=\"none\" stroke=\"#0000ff\" stroke-dasharray=\"5,2\" d=\"M221.1044,-228.5867C256.8082,-222.6933 320.9391,-211.5305 375.1543,-199 378.3093,-198.2708 381.5506,-197.4836 384.8112,-196.6631\"/>\n<polygon fill=\"#0000ff\" stroke=\"#0000ff\" points=\"385.7835,-200.0268 394.5834,-194.1266 384.0248,-193.2513 385.7835,-200.0268\"/>\n<text text-anchor=\"middle\" x=\"307.1543\" y=\"-230.2\" font-family=\"Arial\" font-size=\"16.00\" fill=\"#000000\">p = 1</text>\n</g>\n<!-- s1 -->\n<g id=\"node5\" class=\"node\">\n<title>s1</title>\n<ellipse fill=\"#85ff75\" stroke=\"#85ff75\" cx=\"829.3087\" cy=\"-116\" rx=\"36\" ry=\"36\"/>\n<ellipse fill=\"none\" stroke=\"#85ff75\" cx=\"829.3087\" cy=\"-116\" rx=\"40\" ry=\"40\"/>\n<text text-anchor=\"middle\" x=\"829.3087\" y=\"-109.8\" font-family=\"Arial\" font-size=\"24.00\" fill=\"#000000\">s1</text>\n</g>\n<!-- s1&#45;a0 -->\n<g id=\"node6\" class=\"node\">\n<title>s1&#45;a0</title>\n<ellipse fill=\"#ffb6c1\" stroke=\"#ffb6c1\" cx=\"991.8858\" cy=\"-92\" rx=\"27.6545\" ry=\"27.6545\"/>\n<text text-anchor=\"middle\" x=\"991.8858\" y=\"-87\" font-family=\"Arial\" font-size=\"20.00\" fill=\"#000000\">a0</text>\n</g>\n<!-- s1&#45;&gt;s1&#45;a0 -->\n<g id=\"edge6\" class=\"edge\">\n<title>s1&#45;&gt;s1&#45;a0</title>\n<path fill=\"none\" stroke=\"#ff0000\" stroke-width=\"2\" d=\"M869.2486,-112.1898C891.9249,-109.7844 920.7924,-106.3154 946.3087,-102 949.1542,-101.5187 952.0904,-100.9778 955.0369,-100.403\"/>\n<polygon fill=\"#ff0000\" stroke=\"#ff0000\" stroke-width=\"2\" points=\"955.889,-103.8011 964.9779,-98.3566 954.4775,-96.9449 955.889,-103.8011\"/>\n</g>\n<!-- s1&#45;a1 -->\n<g id=\"node7\" class=\"node\">\n<title>s1&#45;a1</title>\n<ellipse fill=\"#ffb6c1\" stroke=\"#ffb6c1\" cx=\"991.8858\" cy=\"-174\" rx=\"27.6545\" ry=\"27.6545\"/>\n<text text-anchor=\"middle\" x=\"991.8858\" y=\"-169\" font-family=\"Arial\" font-size=\"20.00\" fill=\"#000000\">a1</text>\n</g>\n<!-- s1&#45;&gt;s1&#45;a1 -->\n<g id=\"edge10\" class=\"edge\">\n<title>s1&#45;&gt;s1&#45;a1</title>\n<path fill=\"none\" stroke=\"#ff0000\" stroke-width=\"2\" d=\"M867.494,-127.948C890.4784,-135.3328 920.2423,-145.2373 946.3087,-155 949.8059,-156.3098 953.4327,-157.7241 957.0437,-159.1692\"/>\n<polygon fill=\"#ff0000\" stroke=\"#ff0000\" stroke-width=\"2\" points=\"955.8842,-162.4763 966.4653,-163.0165 958.5305,-155.9957 955.8842,-162.4763\"/>\n</g>\n<!-- s1&#45;a0&#45;&gt;s0 -->\n<g id=\"edge7\" class=\"edge\">\n<title>s1&#45;a0&#45;&gt;s0</title>\n<path fill=\"none\" stroke=\"#0000ff\" stroke-dasharray=\"5,2\" d=\"M972.3647,-72.0374C943.7154,-44.9794 887.3603,0 829.3087,0 193.5772,0 193.5772,0 193.5772,0 142.2271,0 97.1839,-41.8033 69.3807,-75.22\"/>\n<polygon fill=\"#0000ff\" stroke=\"#0000ff\" points=\"66.5993,-73.0932 63.0318,-83.0693 72.0419,-77.4953 66.5993,-73.0932\"/>\n<text text-anchor=\"middle\" x=\"556.1543\" y=\"-5.2\" font-family=\"Arial\" font-size=\"16.00\" fill=\"#000000\">p = 0.7 &#160;reward =5</text>\n</g>\n<!-- s1&#45;a0&#45;&gt;s2 -->\n<g id=\"edge9\" class=\"edge\">\n<title>s1&#45;a0&#45;&gt;s2</title>\n<path fill=\"none\" stroke=\"#0000ff\" stroke-dasharray=\"5,2\" d=\"M976.2683,-115.2719C972.0616,-122.1013 967.7329,-129.6999 964.3087,-137 953.7441,-159.5223 966.2691,-175.1526 946.3087,-190 783.9583,-310.7629 691.4414,-228.7477 491.1543,-200 487.8825,-199.5304 484.5378,-198.919 481.1875,-198.2077\"/>\n<polygon fill=\"#0000ff\" stroke=\"#0000ff\" points=\"481.7276,-194.7383 471.1878,-195.8166 480.0996,-201.5463 481.7276,-194.7383\"/>\n<text text-anchor=\"middle\" x=\"741.8087\" y=\"-258.2\" font-family=\"Arial\" font-size=\"16.00\" fill=\"#000000\">p = 0.2</text>\n</g>\n<!-- s1&#45;a0&#45;&gt;s1 -->\n<g id=\"edge8\" class=\"edge\">\n<title>s1&#45;a0&#45;&gt;s1</title>\n<path fill=\"none\" stroke=\"#0000ff\" stroke-dasharray=\"5,2\" d=\"M965.6405,-83.4352C944.2075,-77.7535 913.319,-72.584 887.3087,-80 881.5406,-81.6446 875.7864,-84.0459 870.2659,-86.8404\"/>\n<polygon fill=\"#0000ff\" stroke=\"#0000ff\" points=\"868.2815,-83.9387 861.2349,-91.8506 871.6774,-90.0599 868.2815,-83.9387\"/>\n<text text-anchor=\"middle\" x=\"916.8087\" y=\"-85.2\" font-family=\"Arial\" font-size=\"16.00\" fill=\"#000000\">p = 0.1</text>\n</g>\n<!-- s1&#45;a1&#45;&gt;s2 -->\n<g id=\"edge12\" class=\"edge\">\n<title>s1&#45;a1&#45;&gt;s2</title>\n<path fill=\"none\" stroke=\"#0000ff\" stroke-dasharray=\"5,2\" d=\"M979.9034,-198.873C972.2373,-211.8113 960.9673,-226.464 946.3087,-234 766.4005,-326.4912 679.6137,-307.5164 491.1543,-234 482.8044,-230.7427 474.8606,-225.7094 467.6802,-220.0496\"/>\n<polygon fill=\"#0000ff\" stroke=\"#0000ff\" points=\"469.5052,-217.0066 459.623,-213.1866 464.9661,-222.3354 469.5052,-217.0066\"/>\n<text text-anchor=\"middle\" x=\"741.8087\" y=\"-301.2\" font-family=\"Arial\" font-size=\"16.00\" fill=\"#000000\">p = 0.05</text>\n</g>\n<!-- s1&#45;a1&#45;&gt;s1 -->\n<g id=\"edge11\" class=\"edge\">\n<title>s1&#45;a1&#45;&gt;s1</title>\n<path fill=\"none\" stroke=\"#0000ff\" stroke-dasharray=\"5,2\" d=\"M964.4796,-170.89C942.9286,-167.8208 912.4497,-162.0831 887.3087,-152 881.8827,-149.8239 876.3943,-147.1497 871.069,-144.2503\"/>\n<polygon fill=\"#0000ff\" stroke=\"#0000ff\" points=\"872.7141,-141.1589 862.3007,-139.2062 869.2235,-147.2265 872.7141,-141.1589\"/>\n<text text-anchor=\"middle\" x=\"916.8087\" y=\"-173.2\" font-family=\"Arial\" font-size=\"16.00\" fill=\"#000000\">p = 0.95</text>\n</g>\n<!-- s2&#45;a0&#45;&gt;s0 -->\n<g id=\"edge14\" class=\"edge\">\n<title>s2&#45;a0&#45;&gt;s0</title>\n<path fill=\"none\" stroke=\"#0000ff\" stroke-dasharray=\"5,2\" d=\"M640.4115,-153.6379C634.1509,-151.8874 627.4576,-150.2085 621.1543,-149 446.1882,-115.4541 399.1567,-130.324 221.1543,-123 177.0766,-121.1864 126.9601,-119.2603 90.6308,-117.8886\"/>\n<polygon fill=\"#0000ff\" stroke=\"#0000ff\" points=\"90.4191,-114.3783 80.2944,-117.4993 90.1556,-121.3733 90.4191,-114.3783\"/>\n<text text-anchor=\"middle\" x=\"307.1543\" y=\"-131.2\" font-family=\"Arial\" font-size=\"16.00\" fill=\"#000000\">p = 0.4</text>\n</g>\n<!-- s2&#45;a0&#45;&gt;s2 -->\n<g id=\"edge15\" class=\"edge\">\n<title>s2&#45;a0&#45;&gt;s2</title>\n<path fill=\"none\" stroke=\"#0000ff\" stroke-dasharray=\"5,2\" d=\"M639.3416,-157.9791C604.5225,-153.6753 542.7351,-148.7496 491.1543,-159 487.066,-159.8125 482.9045,-160.9179 478.7831,-162.2107\"/>\n<polygon fill=\"#0000ff\" stroke=\"#0000ff\" points=\"477.5839,-158.9221 469.2922,-165.5174 479.887,-165.5324 477.5839,-158.9221\"/>\n<text text-anchor=\"middle\" x=\"556.1543\" y=\"-164.2\" font-family=\"Arial\" font-size=\"16.00\" fill=\"#000000\">p = 0.6</text>\n</g>\n<!-- s2&#45;a1&#45;&gt;s0 -->\n<g id=\"edge17\" class=\"edge\">\n<title>s2&#45;a1&#45;&gt;s0</title>\n<path fill=\"none\" stroke=\"#0000ff\" stroke-dasharray=\"5,2\" d=\"M643.5482,-64.3784C636.6374,-60.5416 628.8477,-56.9714 621.1543,-55 456.6448,-12.8443 407.9727,-45.5381 239.1543,-64 175.7418,-70.9348 158.9077,-71.0397 98,-90 93.9106,-91.273 89.7281,-92.7576 85.5746,-94.3605\"/>\n<polygon fill=\"#0000ff\" stroke=\"#0000ff\" points=\"83.9293,-91.2516 75.9933,-98.271 86.5745,-97.7326 83.9293,-91.2516\"/>\n<text text-anchor=\"middle\" x=\"307.1543\" y=\"-69.2\" font-family=\"Arial\" font-size=\"16.00\" fill=\"#000000\">p = 0.3 &#160;reward =&#45;1</text>\n</g>\n<!-- s2&#45;a1&#45;&gt;s2 -->\n<g id=\"edge19\" class=\"edge\">\n<title>s2&#45;a1&#45;&gt;s2</title>\n<path fill=\"none\" stroke=\"#0000ff\" stroke-dasharray=\"5,2\" d=\"M640.4326,-71.0411C604.0521,-60.3658 537.6085,-47.2183 491.1543,-75 469.3384,-88.0469 455.2541,-112.4282 446.4357,-134.7277\"/>\n<polygon fill=\"#0000ff\" stroke=\"#0000ff\" points=\"443.1489,-133.5248 442.9716,-144.1181 449.7163,-135.9475 443.1489,-133.5248\"/>\n<text text-anchor=\"middle\" x=\"556.1543\" y=\"-80.2\" font-family=\"Arial\" font-size=\"16.00\" fill=\"#000000\">p = 0.4</text>\n</g>\n<!-- s2&#45;a1&#45;&gt;s1 -->\n<g id=\"edge18\" class=\"edge\">\n<title>s2&#45;a1&#45;&gt;s1</title>\n<path fill=\"none\" stroke=\"#0000ff\" stroke-dasharray=\"5,2\" d=\"M693.9433,-86.0256C717.3708,-91.2132 751.7657,-98.8294 780.0218,-105.0862\"/>\n<polygon fill=\"#0000ff\" stroke=\"#0000ff\" points=\"779.6023,-108.5781 790.1225,-107.3229 781.1157,-101.7436 779.6023,-108.5781\"/>\n<text text-anchor=\"middle\" x=\"741.8087\" y=\"-108.2\" font-family=\"Arial\" font-size=\"16.00\" fill=\"#000000\">p = 0.3</text>\n</g>\n</g>\n</svg>\n"
          },
          "metadata": {}
        }
      ]
    },
    {
      "cell_type": "markdown",
      "source": [
        "## Value Iteration"
      ],
      "metadata": {
        "id": "7ZYtswK8-wV2"
      }
    },
    {
      "cell_type": "code",
      "source": [
        "import numpy as np\n",
        "\n",
        "def get_action_value(mdp, state_values, state, action, gamma):\n",
        "  \"\"\" Computes Q(s,a) \"\"\"\n",
        "  qsa = 0\n",
        "  for s in mdp.get_next_states(state, action):\n",
        "    qsa += mdp.get_transition_prob(state, action, s) * (mdp.get_reward(state, action, s) + gamma*state_values[s])\n",
        " \n",
        "  return qsa"
      ],
      "metadata": {
        "id": "pIfCmqtC-vNk"
      },
      "execution_count": 66,
      "outputs": []
    },
    {
      "cell_type": "code",
      "source": [
        "import numpy as np\n",
        "test_Vs = {s: i for i, s in enumerate(sorted(mdp.get_all_states()))}\n",
        "\n",
        "assert np.isclose(get_action_value(mdp, test_Vs, 's2', 'a1', 0.9), 0.69)\n",
        "assert np.isclose(get_action_value(mdp, test_Vs, 's1', 'a0', 0.9), 3.95)"
      ],
      "metadata": {
        "id": "gpjtB5iVCT8-"
      },
      "execution_count": 67,
      "outputs": []
    },
    {
      "cell_type": "code",
      "source": [
        "def get_new_state_value(mdp, state_values, state, gamma):\n",
        "  \"\"\" Computes next V(s). Please do not change state_values in process. \"\"\"\n",
        "  if mdp.is_terminal(state):\n",
        "    return 0 \n",
        "  state_value = -np.inf\n",
        "  for action in mdp.get_possible_actions(state):\n",
        "    state_value = max(state_value, get_action_value(mdp, state_values, state, action, gamma))\n",
        "  # print(state_value)\n",
        "  return state_value"
      ],
      "metadata": {
        "id": "nMHBQbcRDsdU"
      },
      "execution_count": 68,
      "outputs": []
    },
    {
      "cell_type": "code",
      "source": [
        "test_Vs_copy = dict(test_Vs)\n",
        "assert np.isclose(get_new_state_value(mdp, test_Vs, 's0', 0.9), 1.8)\n",
        "assert np.isclose(get_new_state_value(mdp, test_Vs, 's2', 0.9), 1.08)\n",
        "assert np.isclose(get_new_state_value(mdp, {'s0': -1e10, 's1': 0, 's2': -2e10}, 's0', 0.9), -13500000000.0), \\\n",
        "    \"Please ensure that you handle negative Q-values of arbitrary magnitude correctly\"\n",
        "assert test_Vs == test_Vs_copy, \"Please do not change state_values in get_new_state_value\""
      ],
      "metadata": {
        "id": "-dFyK4AMER6E"
      },
      "execution_count": 69,
      "outputs": []
    },
    {
      "cell_type": "code",
      "source": [
        "# parameters\n",
        "gamma = 0.9            # discount for MDP\n",
        "num_iter = 100         # maximum iterations, excluding initialization\n",
        "# stop VI if new values are this close to old values (or closer)\n",
        "min_difference = 0.001\n",
        "\n",
        "# initialize V(s)\n",
        "state_values = {s: 0 for s in mdp.get_all_states()}\n",
        "\n",
        "if has_graphviz:\n",
        "    display(plot_graph_with_state_values(mdp, state_values))\n",
        "\n",
        "for i in range(num_iter):\n",
        "\n",
        "    # Compute new state values using the functions you defined above.\n",
        "    # It must be a dict {state : float V_new(state)}\n",
        "    new_state_values = {state: get_new_state_value(mdp, state_values, state, gamma) for state in mdp.get_all_states()}\n",
        "\n",
        "    assert isinstance(new_state_values, dict)\n",
        "\n",
        "    # Compute difference\n",
        "    diff = max(abs(new_state_values[s] - state_values[s])\n",
        "               for s in mdp.get_all_states())\n",
        "    print(\"iter %4i   |   diff: %6.5f   |   \" % (i, diff), end=\"\")\n",
        "    print('   '.join(\"V(%s) = %.3f\" % (s, v) for s, v in state_values.items()))\n",
        "    state_values = new_state_values\n",
        "\n",
        "    if diff < min_difference:\n",
        "        print(\"Terminated\")\n",
        "        break"
      ],
      "metadata": {
        "colab": {
          "base_uri": "https://localhost:8080/",
          "height": 1000
        },
        "id": "zmW8BSpOIZ0t",
        "outputId": "c7b829c9-4de6-4b32-89f1-d48a4e92a778"
      },
      "execution_count": 70,
      "outputs": [
        {
          "output_type": "display_data",
          "data": {
            "text/plain": [
              "<graphviz.dot.Digraph at 0x7fafbaf0d910>"
            ],
            "image/svg+xml": "<?xml version=\"1.0\" encoding=\"UTF-8\" standalone=\"no\"?>\n<!DOCTYPE svg PUBLIC \"-//W3C//DTD SVG 1.1//EN\"\n \"http://www.w3.org/Graphics/SVG/1.1/DTD/svg11.dtd\">\n<!-- Generated by graphviz version 2.40.1 (20161225.0304)\n -->\n<!-- Title: MDP Pages: 1 -->\n<svg width=\"720pt\" height=\"215pt\"\n viewBox=\"0.00 0.00 720.00 214.87\" xmlns=\"http://www.w3.org/2000/svg\" xmlns:xlink=\"http://www.w3.org/1999/xlink\">\n<g id=\"graph0\" class=\"graph\" transform=\"scale(.6571 .6571) rotate(0) translate(4 323)\">\n<title>MDP</title>\n<polygon fill=\"#ffffff\" stroke=\"transparent\" points=\"-4,4 -4,-323 1091.7199,-323 1091.7199,4 -4,4\"/>\n<!-- s0 -->\n<g id=\"node1\" class=\"node\">\n<title>s0</title>\n<ellipse fill=\"#85ff75\" stroke=\"#85ff75\" cx=\"51.3762\" cy=\"-116\" rx=\"47.2622\" ry=\"47.2622\"/>\n<ellipse fill=\"none\" stroke=\"#85ff75\" cx=\"51.3762\" cy=\"-116\" rx=\"51.2526\" ry=\"51.2526\"/>\n<text text-anchor=\"middle\" x=\"51.3762\" y=\"-122.8\" font-family=\"Arial\" font-size=\"24.00\" fill=\"#000000\">s0</text>\n<text text-anchor=\"middle\" x=\"51.3762\" y=\"-96.8\" font-family=\"Arial\" font-size=\"24.00\" fill=\"#000000\">V =0</text>\n</g>\n<!-- s0&#45;a0 -->\n<g id=\"node2\" class=\"node\">\n<title>s0&#45;a0</title>\n<ellipse fill=\"#ffb6c1\" stroke=\"#ffb6c1\" cx=\"216.3295\" cy=\"-160\" rx=\"27.6545\" ry=\"27.6545\"/>\n<text text-anchor=\"middle\" x=\"216.3295\" y=\"-155\" font-family=\"Arial\" font-size=\"20.00\" fill=\"#000000\">a0</text>\n</g>\n<!-- s0&#45;&gt;s0&#45;a0 -->\n<g id=\"edge1\" class=\"edge\">\n<title>s0&#45;&gt;s0&#45;a0</title>\n<path fill=\"none\" stroke=\"#ff0000\" stroke-width=\"2\" d=\"M102.0079,-125.8759C123.3915,-130.4524 148.4549,-136.3529 170.7523,-143 174.0908,-143.9952 177.5367,-145.1111 180.9688,-146.2829\"/>\n<polygon fill=\"#ff0000\" stroke=\"#ff0000\" stroke-width=\"2\" points=\"179.9093,-149.6209 190.504,-149.6798 182.2584,-143.0268 179.9093,-149.6209\"/>\n</g>\n<!-- s0&#45;a1 -->\n<g id=\"node4\" class=\"node\">\n<title>s0&#45;a1</title>\n<ellipse fill=\"#ffb6c1\" stroke=\"#ffb6c1\" cx=\"216.3295\" cy=\"-233\" rx=\"27.6545\" ry=\"27.6545\"/>\n<text text-anchor=\"middle\" x=\"216.3295\" y=\"-228\" font-family=\"Arial\" font-size=\"20.00\" fill=\"#000000\">a1</text>\n</g>\n<!-- s0&#45;&gt;s0&#45;a1 -->\n<g id=\"edge4\" class=\"edge\">\n<title>s0&#45;&gt;s0&#45;a1</title>\n<path fill=\"none\" stroke=\"#ff0000\" stroke-width=\"2\" d=\"M90.2161,-150.1326C99.9695,-158.2363 110.5648,-166.6548 120.7523,-174 140.8702,-188.5051 164.5898,-203.1605 183.3665,-214.2365\"/>\n<polygon fill=\"#ff0000\" stroke=\"#ff0000\" stroke-width=\"2\" points=\"181.7499,-217.3456 192.1496,-219.3699 185.2822,-211.3021 181.7499,-217.3456\"/>\n</g>\n<!-- s0&#45;a0&#45;&gt;s0 -->\n<g id=\"edge2\" class=\"edge\">\n<title>s0&#45;a0&#45;&gt;s0</title>\n<path fill=\"none\" stroke=\"#0000ff\" stroke-dasharray=\"5,2\" d=\"M188.9184,-155.2197C169.6906,-151.6345 143.4649,-146.2777 120.7523,-140 117.163,-139.0079 113.4893,-137.9297 109.7972,-136.7978\"/>\n<polygon fill=\"#0000ff\" stroke=\"#0000ff\" points=\"110.6165,-133.3859 100.0263,-133.699 108.5003,-140.0584 110.6165,-133.3859\"/>\n<text text-anchor=\"middle\" x=\"145.7523\" y=\"-157.2\" font-family=\"Arial\" font-size=\"16.00\" fill=\"#000000\">p = 0.5</text>\n</g>\n<!-- s2 -->\n<g id=\"node3\" class=\"node\">\n<title>s2</title>\n<ellipse fill=\"#85ff75\" stroke=\"#85ff75\" cx=\"467.2828\" cy=\"-189\" rx=\"47.2622\" ry=\"47.2622\"/>\n<ellipse fill=\"none\" stroke=\"#85ff75\" cx=\"467.2828\" cy=\"-189\" rx=\"51.2526\" ry=\"51.2526\"/>\n<text text-anchor=\"middle\" x=\"467.2828\" y=\"-195.8\" font-family=\"Arial\" font-size=\"24.00\" fill=\"#000000\">s2</text>\n<text text-anchor=\"middle\" x=\"467.2828\" y=\"-169.8\" font-family=\"Arial\" font-size=\"24.00\" fill=\"#000000\">V =0</text>\n</g>\n<!-- s0&#45;a0&#45;&gt;s2 -->\n<g id=\"edge3\" class=\"edge\">\n<title>s0&#45;a0&#45;&gt;s2</title>\n<path fill=\"none\" stroke=\"#0000ff\" stroke-dasharray=\"5,2\" d=\"M244.1447,-163.2143C282.9077,-167.6937 354.2131,-175.9337 405.8055,-181.8957\"/>\n<polygon fill=\"#0000ff\" stroke=\"#0000ff\" points=\"405.51,-185.3848 415.8457,-183.056 406.3136,-178.4311 405.51,-185.3848\"/>\n<text text-anchor=\"middle\" x=\"329.9066\" y=\"-186.2\" font-family=\"Arial\" font-size=\"16.00\" fill=\"#000000\">p = 0.5</text>\n</g>\n<!-- s2&#45;a0 -->\n<g id=\"node8\" class=\"node\">\n<title>s2&#45;a0</title>\n<ellipse fill=\"#ffb6c1\" stroke=\"#ffb6c1\" cx=\"712.2361\" cy=\"-162\" rx=\"27.6545\" ry=\"27.6545\"/>\n<text text-anchor=\"middle\" x=\"712.2361\" y=\"-157\" font-family=\"Arial\" font-size=\"20.00\" fill=\"#000000\">a0</text>\n</g>\n<!-- s2&#45;&gt;s2&#45;a0 -->\n<g id=\"edge13\" class=\"edge\">\n<title>s2&#45;&gt;s2&#45;a0</title>\n<path fill=\"none\" stroke=\"#ff0000\" stroke-width=\"2\" d=\"M518.7275,-191.8844C559.3704,-192.9828 617.274,-191.9158 666.6589,-181 670.3054,-180.194 674.0306,-179.1121 677.7022,-177.8716\"/>\n<polygon fill=\"#ff0000\" stroke=\"#ff0000\" stroke-width=\"2\" points=\"679.0769,-181.0941 687.2048,-174.2979 676.6128,-174.5421 679.0769,-181.0941\"/>\n</g>\n<!-- s2&#45;a1 -->\n<g id=\"node9\" class=\"node\">\n<title>s2&#45;a1</title>\n<ellipse fill=\"#ffb6c1\" stroke=\"#ffb6c1\" cx=\"712.2361\" cy=\"-77\" rx=\"27.6545\" ry=\"27.6545\"/>\n<text text-anchor=\"middle\" x=\"712.2361\" y=\"-72\" font-family=\"Arial\" font-size=\"20.00\" fill=\"#000000\">a1</text>\n</g>\n<!-- s2&#45;&gt;s2&#45;a1 -->\n<g id=\"edge16\" class=\"edge\">\n<title>s2&#45;&gt;s2&#45;a1</title>\n<path fill=\"none\" stroke=\"#ff0000\" stroke-width=\"2\" d=\"M511.5893,-162.2838C519.8193,-157.6577 528.4209,-153.0415 536.6589,-149 583.9722,-125.7889 640.7096,-103.4733 676.6212,-89.9965\"/>\n<polygon fill=\"#ff0000\" stroke=\"#ff0000\" stroke-width=\"2\" points=\"678.0249,-93.2086 686.1727,-86.4364 675.58,-86.6494 678.0249,-93.2086\"/>\n</g>\n<!-- s0&#45;a1&#45;&gt;s2 -->\n<g id=\"edge5\" class=\"edge\">\n<title>s0&#45;a1&#45;&gt;s2</title>\n<path fill=\"none\" stroke=\"#0000ff\" stroke-dasharray=\"5,2\" d=\"M243.76,-228.7777C279.3606,-223.2267 343.3812,-213.0026 397.9066,-203 400.8922,-202.4523 403.9475,-201.88 407.0314,-201.2928\"/>\n<polygon fill=\"#0000ff\" stroke=\"#0000ff\" points=\"407.7735,-204.7142 416.9271,-199.3793 406.4445,-197.8415 407.7735,-204.7142\"/>\n<text text-anchor=\"middle\" x=\"329.9066\" y=\"-230.2\" font-family=\"Arial\" font-size=\"16.00\" fill=\"#000000\">p = 1</text>\n</g>\n<!-- s1 -->\n<g id=\"node5\" class=\"node\">\n<title>s1</title>\n<ellipse fill=\"#85ff75\" stroke=\"#85ff75\" cx=\"886.1894\" cy=\"-86\" rx=\"47.2622\" ry=\"47.2622\"/>\n<ellipse fill=\"none\" stroke=\"#85ff75\" cx=\"886.1894\" cy=\"-86\" rx=\"51.2526\" ry=\"51.2526\"/>\n<text text-anchor=\"middle\" x=\"886.1894\" y=\"-92.8\" font-family=\"Arial\" font-size=\"24.00\" fill=\"#000000\">s1</text>\n<text text-anchor=\"middle\" x=\"886.1894\" y=\"-66.8\" font-family=\"Arial\" font-size=\"24.00\" fill=\"#000000\">V =0</text>\n</g>\n<!-- s1&#45;a0 -->\n<g id=\"node6\" class=\"node\">\n<title>s1&#45;a0</title>\n<ellipse fill=\"#ffb6c1\" stroke=\"#ffb6c1\" cx=\"1060.1427\" cy=\"-62\" rx=\"27.6545\" ry=\"27.6545\"/>\n<text text-anchor=\"middle\" x=\"1060.1427\" y=\"-57\" font-family=\"Arial\" font-size=\"20.00\" fill=\"#000000\">a0</text>\n</g>\n<!-- s1&#45;&gt;s1&#45;a0 -->\n<g id=\"edge6\" class=\"edge\">\n<title>s1&#45;&gt;s1&#45;a0</title>\n<path fill=\"none\" stroke=\"#ff0000\" stroke-width=\"2\" d=\"M937.5851,-81.6684C961.127,-79.3581 989.3431,-76.1301 1014.5656,-72 1017.4136,-71.5336 1020.3516,-71.0034 1023.2994,-70.4362\"/>\n<polygon fill=\"#ff0000\" stroke=\"#ff0000\" stroke-width=\"2\" points=\"1024.1462,-73.8355 1033.2427,-68.4037 1022.7443,-66.9773 1024.1462,-73.8355\"/>\n</g>\n<!-- s1&#45;a1 -->\n<g id=\"node7\" class=\"node\">\n<title>s1&#45;a1</title>\n<ellipse fill=\"#ffb6c1\" stroke=\"#ffb6c1\" cx=\"1060.1427\" cy=\"-144\" rx=\"27.6545\" ry=\"27.6545\"/>\n<text text-anchor=\"middle\" x=\"1060.1427\" y=\"-139\" font-family=\"Arial\" font-size=\"20.00\" fill=\"#000000\">a1</text>\n</g>\n<!-- s1&#45;&gt;s1&#45;a1 -->\n<g id=\"edge10\" class=\"edge\">\n<title>s1&#45;&gt;s1&#45;a1</title>\n<path fill=\"none\" stroke=\"#ff0000\" stroke-width=\"2\" d=\"M935.9474,-99.8567C959.8989,-106.8461 988.9179,-115.7843 1014.5656,-125 1018.0801,-126.2628 1021.7182,-127.646 1025.3362,-129.0721\"/>\n<polygon fill=\"#ff0000\" stroke=\"#ff0000\" stroke-width=\"2\" points=\"1024.1847,-132.3819 1034.7672,-132.8938 1026.8137,-125.8943 1024.1847,-132.3819\"/>\n</g>\n<!-- s1&#45;a0&#45;&gt;s0 -->\n<g id=\"edge7\" class=\"edge\">\n<title>s1&#45;a0&#45;&gt;s0</title>\n<path fill=\"none\" stroke=\"#0000ff\" stroke-dasharray=\"5,2\" d=\"M1036.3286,-47.6201C1003.6768,-29.3047 942.617,0 886.1894,0 216.3295,0 216.3295,0 216.3295,0 166.4157,0 120.9364,-35.9779 90.4333,-67.8605\"/>\n<polygon fill=\"#0000ff\" stroke=\"#0000ff\" points=\"87.6408,-65.7236 83.3913,-75.4288 92.7656,-70.4919 87.6408,-65.7236\"/>\n<text text-anchor=\"middle\" x=\"601.6589\" y=\"-5.2\" font-family=\"Arial\" font-size=\"16.00\" fill=\"#000000\">p = 0.7 &#160;reward =5</text>\n</g>\n<!-- s1&#45;a0&#45;&gt;s2 -->\n<g id=\"edge9\" class=\"edge\">\n<title>s1&#45;a0&#45;&gt;s2</title>\n<path fill=\"none\" stroke=\"#0000ff\" stroke-dasharray=\"5,2\" d=\"M1044.5253,-85.2719C1040.3185,-92.1013 1035.9898,-99.6999 1032.5656,-107 1022.001,-129.5223 1033.717,-144.1227 1014.5656,-160 874.1011,-276.4509 636.9853,-234.713 526.8332,-206.4348\"/>\n<polygon fill=\"#0000ff\" stroke=\"#0000ff\" points=\"527.4555,-202.9798 516.8949,-203.831 525.6813,-209.7512 527.4555,-202.9798\"/>\n<text text-anchor=\"middle\" x=\"787.3133\" y=\"-242.2\" font-family=\"Arial\" font-size=\"16.00\" fill=\"#000000\">p = 0.2</text>\n</g>\n<!-- s1&#45;a0&#45;&gt;s1 -->\n<g id=\"edge8\" class=\"edge\">\n<title>s1&#45;a0&#45;&gt;s1</title>\n<path fill=\"none\" stroke=\"#0000ff\" stroke-dasharray=\"5,2\" d=\"M1033.6051,-53.8627C1012.2719,-48.5338 981.664,-43.6318 955.5656,-50 950.2101,-51.3068 944.8072,-53.1054 939.5069,-55.2068\"/>\n<polygon fill=\"#0000ff\" stroke=\"#0000ff\" points=\"937.8956,-52.0905 930.1095,-59.2757 940.677,-58.5142 937.8956,-52.0905\"/>\n<text text-anchor=\"middle\" x=\"985.0656\" y=\"-55.2\" font-family=\"Arial\" font-size=\"16.00\" fill=\"#000000\">p = 0.1</text>\n</g>\n<!-- s1&#45;a1&#45;&gt;s2 -->\n<g id=\"edge12\" class=\"edge\">\n<title>s1&#45;a1&#45;&gt;s2</title>\n<path fill=\"none\" stroke=\"#0000ff\" stroke-dasharray=\"5,2\" d=\"M1054.351,-171.1444C1048.2865,-192.2342 1036.477,-220.1508 1014.5656,-234 835.0197,-347.4825 739.6372,-296.5686 536.6589,-234 530.0222,-231.9542 523.4165,-229.0747 517.0669,-225.7497\"/>\n<polygon fill=\"#0000ff\" stroke=\"#0000ff\" points=\"518.4007,-222.483 507.9737,-220.6046 514.9535,-228.5754 518.4007,-222.483\"/>\n<text text-anchor=\"middle\" x=\"787.3133\" y=\"-306.2\" font-family=\"Arial\" font-size=\"16.00\" fill=\"#000000\">p = 0.05</text>\n</g>\n<!-- s1&#45;a1&#45;&gt;s1 -->\n<g id=\"edge11\" class=\"edge\">\n<title>s1&#45;a1&#45;&gt;s1</title>\n<path fill=\"none\" stroke=\"#0000ff\" stroke-dasharray=\"5,2\" d=\"M1032.499,-140.2815C1011.0858,-136.904 980.9006,-131.0477 955.5656,-122 950.454,-120.1745 945.246,-118.0406 940.0965,-115.7392\"/>\n<polygon fill=\"#0000ff\" stroke=\"#0000ff\" points=\"941.4649,-112.5153 930.9242,-111.4462 938.4976,-118.8553 941.4649,-112.5153\"/>\n<text text-anchor=\"middle\" x=\"985.0656\" y=\"-143.2\" font-family=\"Arial\" font-size=\"16.00\" fill=\"#000000\">p = 0.95</text>\n</g>\n<!-- s2&#45;a0&#45;&gt;s0 -->\n<g id=\"edge14\" class=\"edge\">\n<title>s2&#45;a0&#45;&gt;s0</title>\n<path fill=\"none\" stroke=\"#0000ff\" stroke-dasharray=\"5,2\" d=\"M685.8856,-153.79C679.6263,-152.0332 672.9412,-150.3133 666.6589,-149 601.6879,-135.4175 584.8166,-134.375 518.6589,-129 373.7386,-117.2259 202.8001,-115.5646 113.2365,-115.6282\"/>\n<polygon fill=\"#0000ff\" stroke=\"#0000ff\" points=\"112.9821,-112.1284 102.9873,-115.6433 112.9925,-119.1284 112.9821,-112.1284\"/>\n<text text-anchor=\"middle\" x=\"329.9066\" y=\"-127.2\" font-family=\"Arial\" font-size=\"16.00\" fill=\"#000000\">p = 0.4</text>\n</g>\n<!-- s2&#45;a0&#45;&gt;s2 -->\n<g id=\"edge15\" class=\"edge\">\n<title>s2&#45;a0&#45;&gt;s2</title>\n<path fill=\"none\" stroke=\"#0000ff\" stroke-dasharray=\"5,2\" d=\"M684.8199,-157.8492C649.9732,-153.4097 588.1571,-148.3423 536.6589,-159 532.2016,-159.9225 527.6784,-161.1457 523.1891,-162.5714\"/>\n<polygon fill=\"#0000ff\" stroke=\"#0000ff\" points=\"521.7372,-159.3712 513.4541,-165.9773 524.0489,-165.9785 521.7372,-159.3712\"/>\n<text text-anchor=\"middle\" x=\"601.6589\" y=\"-164.2\" font-family=\"Arial\" font-size=\"16.00\" fill=\"#000000\">p = 0.6</text>\n</g>\n<!-- s2&#45;a1&#45;&gt;s0 -->\n<g id=\"edge17\" class=\"edge\">\n<title>s2&#45;a1&#45;&gt;s0</title>\n<path fill=\"none\" stroke=\"#0000ff\" stroke-dasharray=\"5,2\" d=\"M688.9834,-61.9981C682.0715,-58.3146 674.2986,-54.8885 666.6589,-53 610.5695,-39.1347 594.4252,-51.8441 536.6589,-53 351.1187,-56.7127 299.5886,-40.4361 120.7523,-90 116.7781,-91.1014 112.7111,-92.3348 108.6369,-93.6498\"/>\n<polygon fill=\"#0000ff\" stroke=\"#0000ff\" points=\"107.5175,-90.3336 99.1578,-96.8426 109.7519,-96.9674 107.5175,-90.3336\"/>\n<text text-anchor=\"middle\" x=\"329.9066\" y=\"-65.2\" font-family=\"Arial\" font-size=\"16.00\" fill=\"#000000\">p = 0.3 &#160;reward =&#45;1</text>\n</g>\n<!-- s2&#45;a1&#45;&gt;s2 -->\n<g id=\"edge19\" class=\"edge\">\n<title>s2&#45;a1&#45;&gt;s2</title>\n<path fill=\"none\" stroke=\"#0000ff\" stroke-dasharray=\"5,2\" d=\"M685.8062,-68.4864C649.5653,-58.4808 583.6025,-46.377 536.6589,-73 514.3237,-85.667 498.407,-108.6988 487.5026,-130.9204\"/>\n<polygon fill=\"#0000ff\" stroke=\"#0000ff\" points=\"484.31,-129.4857 483.2773,-140.0301 490.6602,-132.4311 484.31,-129.4857\"/>\n<text text-anchor=\"middle\" x=\"601.6589\" y=\"-78.2\" font-family=\"Arial\" font-size=\"16.00\" fill=\"#000000\">p = 0.4</text>\n</g>\n<!-- s2&#45;a1&#45;&gt;s1 -->\n<g id=\"edge18\" class=\"edge\">\n<title>s2&#45;a1&#45;&gt;s1</title>\n<path fill=\"none\" stroke=\"#0000ff\" stroke-dasharray=\"5,2\" d=\"M739.7995,-78.4261C762.5092,-79.601 795.5703,-81.3115 824.5295,-82.8098\"/>\n<polygon fill=\"#0000ff\" stroke=\"#0000ff\" points=\"824.4105,-86.3083 834.578,-83.3297 824.7722,-79.3176 824.4105,-86.3083\"/>\n<text text-anchor=\"middle\" x=\"787.3133\" y=\"-88.2\" font-family=\"Arial\" font-size=\"16.00\" fill=\"#000000\">p = 0.3</text>\n</g>\n</g>\n</svg>\n"
          },
          "metadata": {}
        },
        {
          "output_type": "stream",
          "name": "stdout",
          "text": [
            "iter    0   |   diff: 3.50000   |   V(s0) = 0.000   V(s1) = 0.000   V(s2) = 0.000\n",
            "iter    1   |   diff: 0.64500   |   V(s0) = 0.000   V(s1) = 3.500   V(s2) = 0.000\n",
            "iter    2   |   diff: 0.58050   |   V(s0) = 0.000   V(s1) = 3.815   V(s2) = 0.645\n",
            "iter    3   |   diff: 0.43582   |   V(s0) = 0.581   V(s1) = 3.959   V(s2) = 0.962\n",
            "iter    4   |   diff: 0.30634   |   V(s0) = 0.866   V(s1) = 4.395   V(s2) = 1.272\n",
            "iter    5   |   diff: 0.27571   |   V(s0) = 1.145   V(s1) = 4.670   V(s2) = 1.579\n",
            "iter    6   |   diff: 0.24347   |   V(s0) = 1.421   V(s1) = 4.926   V(s2) = 1.838\n",
            "iter    7   |   diff: 0.21419   |   V(s0) = 1.655   V(s1) = 5.169   V(s2) = 2.075\n",
            "iter    8   |   diff: 0.19277   |   V(s0) = 1.868   V(s1) = 5.381   V(s2) = 2.290\n",
            "iter    9   |   diff: 0.17327   |   V(s0) = 2.061   V(s1) = 5.573   V(s2) = 2.481\n",
            "iter   10   |   diff: 0.15569   |   V(s0) = 2.233   V(s1) = 5.746   V(s2) = 2.654\n",
            "iter   11   |   diff: 0.14012   |   V(s0) = 2.389   V(s1) = 5.902   V(s2) = 2.810\n",
            "iter   12   |   diff: 0.12610   |   V(s0) = 2.529   V(s1) = 6.042   V(s2) = 2.950\n",
            "iter   13   |   diff: 0.11348   |   V(s0) = 2.655   V(s1) = 6.168   V(s2) = 3.076\n",
            "iter   14   |   diff: 0.10213   |   V(s0) = 2.769   V(s1) = 6.282   V(s2) = 3.190\n",
            "iter   15   |   diff: 0.09192   |   V(s0) = 2.871   V(s1) = 6.384   V(s2) = 3.292\n",
            "iter   16   |   diff: 0.08272   |   V(s0) = 2.963   V(s1) = 6.476   V(s2) = 3.384\n",
            "iter   17   |   diff: 0.07445   |   V(s0) = 3.045   V(s1) = 6.558   V(s2) = 3.467\n",
            "iter   18   |   diff: 0.06701   |   V(s0) = 3.120   V(s1) = 6.633   V(s2) = 3.541\n",
            "iter   19   |   diff: 0.06031   |   V(s0) = 3.187   V(s1) = 6.700   V(s2) = 3.608\n",
            "iter   20   |   diff: 0.05428   |   V(s0) = 3.247   V(s1) = 6.760   V(s2) = 3.668\n",
            "iter   21   |   diff: 0.04885   |   V(s0) = 3.301   V(s1) = 6.814   V(s2) = 3.723\n",
            "iter   22   |   diff: 0.04396   |   V(s0) = 3.350   V(s1) = 6.863   V(s2) = 3.771\n",
            "iter   23   |   diff: 0.03957   |   V(s0) = 3.394   V(s1) = 6.907   V(s2) = 3.815\n",
            "iter   24   |   diff: 0.03561   |   V(s0) = 3.434   V(s1) = 6.947   V(s2) = 3.855\n",
            "iter   25   |   diff: 0.03205   |   V(s0) = 3.469   V(s1) = 6.982   V(s2) = 3.891\n",
            "iter   26   |   diff: 0.02884   |   V(s0) = 3.502   V(s1) = 7.014   V(s2) = 3.923\n",
            "iter   27   |   diff: 0.02596   |   V(s0) = 3.530   V(s1) = 7.043   V(s2) = 3.951\n",
            "iter   28   |   diff: 0.02336   |   V(s0) = 3.556   V(s1) = 7.069   V(s2) = 3.977\n",
            "iter   29   |   diff: 0.02103   |   V(s0) = 3.580   V(s1) = 7.093   V(s2) = 4.001\n",
            "iter   30   |   diff: 0.01892   |   V(s0) = 3.601   V(s1) = 7.114   V(s2) = 4.022\n",
            "iter   31   |   diff: 0.01703   |   V(s0) = 3.620   V(s1) = 7.133   V(s2) = 4.041\n",
            "iter   32   |   diff: 0.01533   |   V(s0) = 3.637   V(s1) = 7.150   V(s2) = 4.058\n",
            "iter   33   |   diff: 0.01380   |   V(s0) = 3.652   V(s1) = 7.165   V(s2) = 4.073\n",
            "iter   34   |   diff: 0.01242   |   V(s0) = 3.666   V(s1) = 7.179   V(s2) = 4.087\n",
            "iter   35   |   diff: 0.01117   |   V(s0) = 3.678   V(s1) = 7.191   V(s2) = 4.099\n",
            "iter   36   |   diff: 0.01006   |   V(s0) = 3.689   V(s1) = 7.202   V(s2) = 4.110\n",
            "iter   37   |   diff: 0.00905   |   V(s0) = 3.699   V(s1) = 7.212   V(s2) = 4.121\n",
            "iter   38   |   diff: 0.00815   |   V(s0) = 3.708   V(s1) = 7.221   V(s2) = 4.130\n",
            "iter   39   |   diff: 0.00733   |   V(s0) = 3.717   V(s1) = 7.230   V(s2) = 4.138\n",
            "iter   40   |   diff: 0.00660   |   V(s0) = 3.724   V(s1) = 7.237   V(s2) = 4.145\n",
            "iter   41   |   diff: 0.00594   |   V(s0) = 3.731   V(s1) = 7.244   V(s2) = 4.152\n",
            "iter   42   |   diff: 0.00534   |   V(s0) = 3.736   V(s1) = 7.249   V(s2) = 4.158\n",
            "iter   43   |   diff: 0.00481   |   V(s0) = 3.742   V(s1) = 7.255   V(s2) = 4.163\n",
            "iter   44   |   diff: 0.00433   |   V(s0) = 3.747   V(s1) = 7.260   V(s2) = 4.168\n",
            "iter   45   |   diff: 0.00390   |   V(s0) = 3.751   V(s1) = 7.264   V(s2) = 4.172\n",
            "iter   46   |   diff: 0.00351   |   V(s0) = 3.755   V(s1) = 7.268   V(s2) = 4.176\n",
            "iter   47   |   diff: 0.00316   |   V(s0) = 3.758   V(s1) = 7.271   V(s2) = 4.179\n",
            "iter   48   |   diff: 0.00284   |   V(s0) = 3.762   V(s1) = 7.275   V(s2) = 4.183\n",
            "iter   49   |   diff: 0.00256   |   V(s0) = 3.764   V(s1) = 7.277   V(s2) = 4.185\n",
            "iter   50   |   diff: 0.00230   |   V(s0) = 3.767   V(s1) = 7.280   V(s2) = 4.188\n",
            "iter   51   |   diff: 0.00207   |   V(s0) = 3.769   V(s1) = 7.282   V(s2) = 4.190\n",
            "iter   52   |   diff: 0.00186   |   V(s0) = 3.771   V(s1) = 7.284   V(s2) = 4.192\n",
            "iter   53   |   diff: 0.00168   |   V(s0) = 3.773   V(s1) = 7.286   V(s2) = 4.194\n",
            "iter   54   |   diff: 0.00151   |   V(s0) = 3.775   V(s1) = 7.288   V(s2) = 4.196\n",
            "iter   55   |   diff: 0.00136   |   V(s0) = 3.776   V(s1) = 7.289   V(s2) = 4.197\n",
            "iter   56   |   diff: 0.00122   |   V(s0) = 3.778   V(s1) = 7.291   V(s2) = 4.199\n",
            "iter   57   |   diff: 0.00110   |   V(s0) = 3.779   V(s1) = 7.292   V(s2) = 4.200\n",
            "iter   58   |   diff: 0.00099   |   V(s0) = 3.780   V(s1) = 7.293   V(s2) = 4.201\n",
            "Terminated\n"
          ]
        }
      ]
    },
    {
      "cell_type": "code",
      "source": [
        "print(\"Final state values:\", state_values)\n",
        "\n",
        "assert abs(state_values['s0'] - 3.781) < 0.01\n",
        "assert abs(state_values['s1'] - 7.294) < 0.01\n",
        "assert abs(state_values['s2'] - 4.202) < 0.01"
      ],
      "metadata": {
        "colab": {
          "base_uri": "https://localhost:8080/"
        },
        "id": "xs27PnKWJYJ5",
        "outputId": "c190e662-01d0-4b6e-f7f3-757f33030203"
      },
      "execution_count": 71,
      "outputs": [
        {
          "output_type": "stream",
          "name": "stdout",
          "text": [
            "Final state values: {'s0': 3.7810348735476405, 's1': 7.294006423867229, 's2': 4.202140275227048}\n"
          ]
        }
      ]
    },
    {
      "cell_type": "code",
      "source": [
        "def get_optimal_action(mdp, state_values, state, gamma=0.9):\n",
        "  \"\"\" Finds optimal action using formula above. \"\"\"\n",
        "  if mdp.is_terminal(state):\n",
        "      return None\n",
        "\n",
        "  state_value = -np.inf\n",
        "  index = None\n",
        "  for action in mdp.get_possible_actions(state):\n",
        "    if get_action_value(mdp, state_values, state, action, gamma) > state_value:\n",
        "      state_value = get_action_value(mdp, state_values, state, action, gamma)\n",
        "      index = action\n",
        "\n",
        "  return index"
      ],
      "metadata": {
        "id": "mGq0jUDsFXzd"
      },
      "execution_count": 72,
      "outputs": []
    },
    {
      "cell_type": "code",
      "source": [
        "assert get_optimal_action(mdp, state_values, 's0', gamma) == 'a1'\n",
        "assert get_optimal_action(mdp, state_values, 's1', gamma) == 'a0'\n",
        "assert get_optimal_action(mdp, state_values, 's2', gamma) == 'a1'\n",
        "\n",
        "assert get_optimal_action(mdp, {'s0': -1e10, 's1': 0, 's2': -2e10}, 's0', 0.9) == 'a0', \\\n",
        "    \"Please ensure that you handle negative Q-values of arbitrary magnitude correctly\"\n",
        "assert get_optimal_action(mdp, {'s0': -2e10, 's1': 0, 's2': -1e10}, 's0', 0.9) == 'a1', \\\n",
        "    \"Please ensure that you handle negative Q-values of arbitrary magnitude correctly\""
      ],
      "metadata": {
        "id": "ZUbw70fKF7L0"
      },
      "execution_count": 73,
      "outputs": []
    },
    {
      "cell_type": "code",
      "source": [
        "if has_graphviz:\n",
        "    display(plot_graph_optimal_strategy_and_state_values(mdp, state_values, get_action_value))"
      ],
      "metadata": {
        "colab": {
          "base_uri": "https://localhost:8080/",
          "height": 281
        },
        "id": "bp510VQCF9Kw",
        "outputId": "84db13f7-58fb-4443-bbd3-a671bbe45f67"
      },
      "execution_count": 74,
      "outputs": [
        {
          "output_type": "display_data",
          "data": {
            "text/plain": [
              "<graphviz.dot.Digraph at 0x7fafbb5d5e90>"
            ],
            "image/svg+xml": "<?xml version=\"1.0\" encoding=\"UTF-8\" standalone=\"no\"?>\n<!DOCTYPE svg PUBLIC \"-//W3C//DTD SVG 1.1//EN\"\n \"http://www.w3.org/Graphics/SVG/1.1/DTD/svg11.dtd\">\n<!-- Generated by graphviz version 2.40.1 (20161225.0304)\n -->\n<!-- Title: MDP Pages: 1 -->\n<svg width=\"720pt\" height=\"195pt\"\n viewBox=\"0.00 0.00 720.00 195.10\" xmlns=\"http://www.w3.org/2000/svg\" xmlns:xlink=\"http://www.w3.org/1999/xlink\">\n<g id=\"graph0\" class=\"graph\" transform=\"scale(.5807 .5807) rotate(0) translate(4 332)\">\n<title>MDP</title>\n<polygon fill=\"#ffffff\" stroke=\"transparent\" points=\"-4,4 -4,-332 1235.9697,-332 1235.9697,4 -4,4\"/>\n<!-- s0 -->\n<g id=\"node1\" class=\"node\">\n<title>s0</title>\n<ellipse fill=\"#85ff75\" stroke=\"#85ff75\" cx=\"75.4178\" cy=\"-129\" rx=\"71.34\" ry=\"71.34\"/>\n<ellipse fill=\"none\" stroke=\"#85ff75\" cx=\"75.4178\" cy=\"-129\" rx=\"75.3357\" ry=\"75.3357\"/>\n<text text-anchor=\"middle\" x=\"75.4178\" y=\"-135.8\" font-family=\"Arial\" font-size=\"24.00\" fill=\"#000000\">s0</text>\n<text text-anchor=\"middle\" x=\"75.4178\" y=\"-109.8\" font-family=\"Arial\" font-size=\"24.00\" fill=\"#000000\">V =3.78</text>\n</g>\n<!-- s0&#45;a0 -->\n<g id=\"node2\" class=\"node\">\n<title>s0&#45;a0</title>\n<ellipse fill=\"#ffb6c1\" stroke=\"#ffb6c1\" cx=\"264.4127\" cy=\"-160\" rx=\"27.6545\" ry=\"27.6545\"/>\n<text text-anchor=\"middle\" x=\"264.4127\" y=\"-155\" font-family=\"Arial\" font-size=\"20.00\" fill=\"#000000\">a0</text>\n</g>\n<!-- s0&#45;&gt;s0&#45;a0 -->\n<g id=\"edge1\" class=\"edge\">\n<title>s0&#45;&gt;s0&#45;a0</title>\n<path fill=\"none\" stroke=\"#ff0000\" stroke-width=\"2\" d=\"M150.82,-132.6638C172.9292,-134.7295 197.0203,-137.9574 218.8356,-143 222.2297,-143.7846 225.7134,-144.7577 229.1697,-145.8382\"/>\n<polygon fill=\"#ff0000\" stroke=\"#ff0000\" stroke-width=\"2\" points=\"228.1459,-149.1869 238.7404,-149.1004 230.4043,-142.5612 228.1459,-149.1869\"/>\n</g>\n<!-- s0&#45;a1 -->\n<g id=\"node4\" class=\"node\">\n<title>s0&#45;a1</title>\n<ellipse fill=\"#ffb6c1\" stroke=\"#ffb6c1\" cx=\"264.4127\" cy=\"-233\" rx=\"27.6545\" ry=\"27.6545\"/>\n<text text-anchor=\"middle\" x=\"264.4127\" y=\"-228\" font-family=\"Arial\" font-size=\"20.00\" fill=\"#000000\">a1</text>\n</g>\n<!-- s0&#45;&gt;s0&#45;a1 -->\n<g id=\"edge4\" class=\"edge\">\n<title>s0&#45;&gt;s0&#45;a1</title>\n<path fill=\"none\" stroke=\"#ff0000\" stroke-width=\"2\" d=\"M144.1839,-160.3181C174.8806,-176.6544 209.4986,-196.1656 233.6776,-210.9495\"/>\n<polygon fill=\"#ff0000\" stroke=\"#ff0000\" stroke-width=\"2\" points=\"232.0615,-214.0659 242.4033,-216.3676 235.7541,-208.119 232.0615,-214.0659\"/>\n</g>\n<!-- s0&#45;&gt;s0&#45;a1 -->\n<g id=\"edge20\" class=\"edge\">\n<title>s0&#45;&gt;s0&#45;a1</title>\n<path fill=\"none\" stroke=\"#00ff00\" stroke-width=\"6\" d=\"M138.6131,-170.1846C168.6814,-187.4079 203.5164,-206.2437 228.8952,-218.8652\"/>\n<polygon fill=\"#00ff00\" stroke=\"#00ff00\" stroke-width=\"6\" points=\"226.8393,-223.704 238.1291,-223.382 231.453,-214.2719 226.8393,-223.704\"/>\n</g>\n<!-- s0&#45;a0&#45;&gt;s0 -->\n<g id=\"edge2\" class=\"edge\">\n<title>s0&#45;a0&#45;&gt;s0</title>\n<path fill=\"none\" stroke=\"#0000ff\" stroke-dasharray=\"5,2\" d=\"M236.77,-155.4659C216.4311,-152.1298 187.6218,-147.4043 159.9627,-142.8675\"/>\n<polygon fill=\"#0000ff\" stroke=\"#0000ff\" points=\"160.277,-139.3724 149.8423,-141.2075 159.1439,-146.2801 160.277,-139.3724\"/>\n<text text-anchor=\"middle\" x=\"193.8356\" y=\"-158.2\" font-family=\"Arial\" font-size=\"16.00\" fill=\"#000000\">p = 0.5</text>\n</g>\n<!-- s2 -->\n<g id=\"node3\" class=\"node\">\n<title>s2</title>\n<ellipse fill=\"#85ff75\" stroke=\"#85ff75\" cx=\"539.4077\" cy=\"-207\" rx=\"71.34\" ry=\"71.34\"/>\n<ellipse fill=\"none\" stroke=\"#85ff75\" cx=\"539.4077\" cy=\"-207\" rx=\"75.3357\" ry=\"75.3357\"/>\n<text text-anchor=\"middle\" x=\"539.4077\" y=\"-213.8\" font-family=\"Arial\" font-size=\"24.00\" fill=\"#000000\">s2</text>\n<text text-anchor=\"middle\" x=\"539.4077\" y=\"-187.8\" font-family=\"Arial\" font-size=\"24.00\" fill=\"#000000\">V =4.20</text>\n</g>\n<!-- s0&#45;a0&#45;&gt;s2 -->\n<g id=\"edge3\" class=\"edge\">\n<title>s0&#45;a0&#45;&gt;s2</title>\n<path fill=\"none\" stroke=\"#0000ff\" stroke-dasharray=\"5,2\" d=\"M291.7857,-164.6784C329.5283,-171.129 399.2192,-183.0401 455.0746,-192.5864\"/>\n<polygon fill=\"#0000ff\" stroke=\"#0000ff\" points=\"454.5292,-196.0439 464.9759,-194.2787 455.7085,-189.144 454.5292,-196.0439\"/>\n<text text-anchor=\"middle\" x=\"377.9899\" y=\"-196.2\" font-family=\"Arial\" font-size=\"16.00\" fill=\"#000000\">p = 0.5</text>\n</g>\n<!-- s2&#45;a0 -->\n<g id=\"node8\" class=\"node\">\n<title>s2&#45;a0</title>\n<ellipse fill=\"#ffb6c1\" stroke=\"#ffb6c1\" cx=\"808.4026\" cy=\"-181\" rx=\"27.6545\" ry=\"27.6545\"/>\n<text text-anchor=\"middle\" x=\"808.4026\" y=\"-176\" font-family=\"Arial\" font-size=\"20.00\" fill=\"#000000\">a0</text>\n</g>\n<!-- s2&#45;&gt;s2&#45;a0 -->\n<g id=\"edge13\" class=\"edge\">\n<title>s2&#45;&gt;s2&#45;a0</title>\n<path fill=\"none\" stroke=\"#ff0000\" stroke-width=\"2\" d=\"M614.9001,-210.6232C658.559,-211.1522 714.2902,-209.1402 762.8255,-199 766.4532,-198.2421 770.166,-197.2209 773.83,-196.048\"/>\n<polygon fill=\"#ff0000\" stroke=\"#ff0000\" stroke-width=\"2\" points=\"775.0775,-199.3191 783.3224,-192.6654 772.7278,-192.7252 775.0775,-199.3191\"/>\n</g>\n<!-- s2&#45;a1 -->\n<g id=\"node9\" class=\"node\">\n<title>s2&#45;a1</title>\n<ellipse fill=\"#ffb6c1\" stroke=\"#ffb6c1\" cx=\"808.4026\" cy=\"-108\" rx=\"27.6545\" ry=\"27.6545\"/>\n<text text-anchor=\"middle\" x=\"808.4026\" y=\"-103\" font-family=\"Arial\" font-size=\"20.00\" fill=\"#000000\">a1</text>\n</g>\n<!-- s2&#45;&gt;s2&#45;a1 -->\n<g id=\"edge16\" class=\"edge\">\n<title>s2&#45;&gt;s2&#45;a1</title>\n<path fill=\"none\" stroke=\"#ff0000\" stroke-width=\"2\" d=\"M605.5834,-170.6707C614.7064,-166.952 623.978,-163.3338 632.8255,-160 680.0976,-142.1874 735.2112,-123.3493 770.8988,-113.4589\"/>\n<polygon fill=\"#ff0000\" stroke=\"#ff0000\" stroke-width=\"2\" points=\"772.1115,-116.758 780.8731,-110.8012 770.3091,-109.994 772.1115,-116.758\"/>\n</g>\n<!-- s2&#45;&gt;s2&#45;a1 -->\n<g id=\"edge22\" class=\"edge\">\n<title>s2&#45;&gt;s2&#45;a1</title>\n<path fill=\"none\" stroke=\"#00ff00\" stroke-width=\"6\" d=\"M611.9356,-186.03C618.9761,-183.2921 626.026,-180.5621 632.8255,-178 681.9566,-159.4869 739.5581,-139.8661 775.0173,-125.7132\"/>\n<polygon fill=\"#00ff00\" stroke=\"#00ff00\" stroke-width=\"6\" points=\"777.1388,-130.5177 784.406,-121.8718 773.1626,-120.7996 777.1388,-130.5177\"/>\n</g>\n<!-- s0&#45;a1&#45;&gt;s2 -->\n<g id=\"edge5\" class=\"edge\">\n<title>s0&#45;a1&#45;&gt;s2</title>\n<path fill=\"none\" stroke=\"#0000ff\" stroke-dasharray=\"5,2\" d=\"M292.0394,-230.388C329.608,-226.836 398.4925,-220.3231 454.0473,-215.0706\"/>\n<polygon fill=\"#0000ff\" stroke=\"#0000ff\" points=\"454.6288,-218.5313 464.2549,-214.1055 453.9698,-211.5624 454.6288,-218.5313\"/>\n<text text-anchor=\"middle\" x=\"377.9899\" y=\"-233.2\" font-family=\"Arial\" font-size=\"16.00\" fill=\"#000000\">p = 1</text>\n</g>\n<!-- s1 -->\n<g id=\"node5\" class=\"node\">\n<title>s1</title>\n<ellipse fill=\"#85ff75\" stroke=\"#85ff75\" cx=\"1006.3976\" cy=\"-127\" rx=\"71.34\" ry=\"71.34\"/>\n<ellipse fill=\"none\" stroke=\"#85ff75\" cx=\"1006.3976\" cy=\"-127\" rx=\"75.3357\" ry=\"75.3357\"/>\n<text text-anchor=\"middle\" x=\"1006.3976\" y=\"-133.8\" font-family=\"Arial\" font-size=\"24.00\" fill=\"#000000\">s1</text>\n<text text-anchor=\"middle\" x=\"1006.3976\" y=\"-107.8\" font-family=\"Arial\" font-size=\"24.00\" fill=\"#000000\">V =7.29</text>\n</g>\n<!-- s1&#45;a0 -->\n<g id=\"node6\" class=\"node\">\n<title>s1&#45;a0</title>\n<ellipse fill=\"#ffb6c1\" stroke=\"#ffb6c1\" cx=\"1204.3925\" cy=\"-126\" rx=\"27.6545\" ry=\"27.6545\"/>\n<text text-anchor=\"middle\" x=\"1204.3925\" y=\"-121\" font-family=\"Arial\" font-size=\"20.00\" fill=\"#000000\">a0</text>\n</g>\n<!-- s1&#45;&gt;s1&#45;a0 -->\n<g id=\"edge6\" class=\"edge\">\n<title>s1&#45;&gt;s1&#45;a0</title>\n<path fill=\"none\" stroke=\"#ff0000\" stroke-width=\"2\" d=\"M1081.5333,-120.0479C1110.6936,-119.4593 1142.791,-119.6794 1166.8638,-120.7636\"/>\n<polygon fill=\"#ff0000\" stroke=\"#ff0000\" stroke-width=\"2\" points=\"1166.8164,-124.266 1176.9881,-121.3019 1167.1881,-117.2758 1166.8164,-124.266\"/>\n</g>\n<!-- s1&#45;&gt;s1&#45;a0 -->\n<g id=\"edge21\" class=\"edge\">\n<title>s1&#45;&gt;s1&#45;a0</title>\n<path fill=\"none\" stroke=\"#00ff00\" stroke-width=\"6\" d=\"M1081.8158,-133.196C1110.9459,-133.4841 1142.968,-132.9369 1166.9755,-131.6093\"/>\n<polygon fill=\"#00ff00\" stroke=\"#00ff00\" stroke-width=\"6\" points=\"1167.4242,-136.8415 1177.0717,-130.9688 1166.7593,-126.3625 1167.4242,-136.8415\"/>\n</g>\n<!-- s1&#45;a1 -->\n<g id=\"node7\" class=\"node\">\n<title>s1&#45;a1</title>\n<ellipse fill=\"#ffb6c1\" stroke=\"#ffb6c1\" cx=\"1204.3925\" cy=\"-199\" rx=\"27.6545\" ry=\"27.6545\"/>\n<text text-anchor=\"middle\" x=\"1204.3925\" y=\"-194\" font-family=\"Arial\" font-size=\"20.00\" fill=\"#000000\">a1</text>\n</g>\n<!-- s1&#45;&gt;s1&#45;a1 -->\n<g id=\"edge10\" class=\"edge\">\n<title>s1&#45;&gt;s1&#45;a1</title>\n<path fill=\"none\" stroke=\"#ff0000\" stroke-width=\"2\" d=\"M1078.7002,-149.4071C1104.2325,-157.7887 1133.0046,-167.7707 1158.8154,-178 1162.536,-179.4746 1166.3889,-181.0961 1170.2069,-182.7644\"/>\n<polygon fill=\"#ff0000\" stroke=\"#ff0000\" stroke-width=\"2\" points=\"1168.9737,-186.0473 1179.53,-186.9507 1171.8411,-179.6615 1168.9737,-186.0473\"/>\n</g>\n<!-- s1&#45;a0&#45;&gt;s0 -->\n<g id=\"edge7\" class=\"edge\">\n<title>s1&#45;a0&#45;&gt;s0</title>\n<path fill=\"none\" stroke=\"#0000ff\" stroke-dasharray=\"5,2\" d=\"M1186.6295,-104.6258C1154.6247,-68.6775 1083.4043,0 1006.3976,0 264.4127,0 264.4127,0 264.4127,0 213.8145,0 166.7816,-31.9319 132.2912,-64.0217\"/>\n<polygon fill=\"#0000ff\" stroke=\"#0000ff\" points=\"129.4957,-61.852 124.6848,-71.2915 134.3323,-66.9124 129.4957,-61.852\"/>\n<text text-anchor=\"middle\" x=\"697.8255\" y=\"-5.2\" font-family=\"Arial\" font-size=\"16.00\" fill=\"#000000\">p = 0.7 &#160;reward =5</text>\n</g>\n<!-- s1&#45;a0&#45;&gt;s2 -->\n<g id=\"edge9\" class=\"edge\">\n<title>s1&#45;a0&#45;&gt;s2</title>\n<path fill=\"none\" stroke=\"#0000ff\" stroke-dasharray=\"5,2\" d=\"M1186.2939,-147.3217C1182.8566,-151.9759 1179.5005,-157.0077 1176.8154,-162 1165.2308,-183.5388 1178.6492,-199.6911 1158.8154,-214 1075.7438,-273.9311 773.3181,-240.7927 623.9949,-219.9111\"/>\n<polygon fill=\"#0000ff\" stroke=\"#0000ff\" points=\"624.3401,-216.4252 613.9489,-218.4924 623.3612,-223.3564 624.3401,-216.4252\"/>\n<text text-anchor=\"middle\" x=\"883.4798\" y=\"-252.2\" font-family=\"Arial\" font-size=\"16.00\" fill=\"#000000\">p = 0.2</text>\n</g>\n<!-- s1&#45;a0&#45;&gt;s1 -->\n<g id=\"edge8\" class=\"edge\">\n<title>s1&#45;a0&#45;&gt;s1</title>\n<path fill=\"none\" stroke=\"#0000ff\" stroke-dasharray=\"5,2\" d=\"M1179.9971,-112.4222C1173.3281,-109.3675 1165.9638,-106.5676 1158.8154,-105 1136.2942,-100.0611 1111.6499,-100.9463 1088.8687,-104.2922\"/>\n<polygon fill=\"#0000ff\" stroke=\"#0000ff\" points=\"1088.1923,-100.8562 1078.8904,-105.9283 1089.325,-107.764 1088.1923,-100.8562\"/>\n<text text-anchor=\"middle\" x=\"1129.3154\" y=\"-110.2\" font-family=\"Arial\" font-size=\"16.00\" fill=\"#000000\">p = 0.1</text>\n</g>\n<!-- s1&#45;a1&#45;&gt;s2 -->\n<g id=\"edge12\" class=\"edge\">\n<title>s1&#45;a1&#45;&gt;s2</title>\n<path fill=\"none\" stroke=\"#0000ff\" stroke-dasharray=\"5,2\" d=\"M1190.4281,-223.0003C1182.6454,-233.9578 1171.8786,-245.843 1158.8154,-252 947.353,-351.6676 860.1322,-306.6042 632.8255,-252 627.0505,-250.6127 621.2125,-248.8356 615.4236,-246.7922\"/>\n<polygon fill=\"#0000ff\" stroke=\"#0000ff\" points=\"616.3388,-243.3961 605.7474,-243.1237 613.8572,-249.9415 616.3388,-243.3961\"/>\n<text text-anchor=\"middle\" x=\"883.4798\" y=\"-315.2\" font-family=\"Arial\" font-size=\"16.00\" fill=\"#000000\">p = 0.05</text>\n</g>\n<!-- s1&#45;a1&#45;&gt;s1 -->\n<g id=\"edge11\" class=\"edge\">\n<title>s1&#45;a1&#45;&gt;s1</title>\n<path fill=\"none\" stroke=\"#0000ff\" stroke-dasharray=\"5,2\" d=\"M1176.7419,-194.9875C1155.3251,-191.3892 1125.1382,-185.2373 1099.8154,-176 1093.8312,-173.8171 1087.7487,-171.3229 1081.7051,-168.6422\"/>\n<polygon fill=\"#0000ff\" stroke=\"#0000ff\" points=\"1082.807,-165.2964 1072.2596,-164.2942 1079.8799,-171.6551 1082.807,-165.2964\"/>\n<text text-anchor=\"middle\" x=\"1129.3154\" y=\"-197.2\" font-family=\"Arial\" font-size=\"16.00\" fill=\"#000000\">p = 0.95</text>\n</g>\n<!-- s2&#45;a0&#45;&gt;s0 -->\n<g id=\"edge14\" class=\"edge\">\n<title>s2&#45;a0&#45;&gt;s0</title>\n<path fill=\"none\" stroke=\"#0000ff\" stroke-dasharray=\"5,2\" d=\"M782.6497,-170.6505C746.0641,-156.5601 676.6133,-132.0576 614.8255,-123 455.7136,-99.6755 267.3695,-110.34 160.5923,-119.8913\"/>\n<polygon fill=\"#0000ff\" stroke=\"#0000ff\" points=\"160.1578,-116.4163 150.5174,-120.8109 160.7942,-123.3873 160.1578,-116.4163\"/>\n<text text-anchor=\"middle\" x=\"377.9899\" y=\"-116.2\" font-family=\"Arial\" font-size=\"16.00\" fill=\"#000000\">p = 0.4</text>\n</g>\n<!-- s2&#45;a0&#45;&gt;s2 -->\n<g id=\"edge15\" class=\"edge\">\n<title>s2&#45;a0&#45;&gt;s2</title>\n<path fill=\"none\" stroke=\"#0000ff\" stroke-dasharray=\"5,2\" d=\"M780.832,-177.3694C746.0849,-173.4801 684.6367,-168.8848 632.8255,-177 628.7076,-177.645 624.5235,-178.4407 620.3234,-179.3525\"/>\n<polygon fill=\"#0000ff\" stroke=\"#0000ff\" points=\"619.4423,-175.9643 610.5179,-181.6744 621.0553,-182.776 619.4423,-175.9643\"/>\n<text text-anchor=\"middle\" x=\"697.8255\" y=\"-182.2\" font-family=\"Arial\" font-size=\"16.00\" fill=\"#000000\">p = 0.6</text>\n</g>\n<!-- s2&#45;a1&#45;&gt;s0 -->\n<g id=\"edge17\" class=\"edge\">\n<title>s2&#45;a1&#45;&gt;s0</title>\n<path fill=\"none\" stroke=\"#0000ff\" stroke-dasharray=\"5,2\" d=\"M783.9868,-94.1164C777.318,-90.9136 769.9588,-87.8939 762.8255,-86 568.0752,-34.2928 510.6524,-45.6736 309.9899,-64 246.4637,-69.8018 229.984,-71.8312 168.8356,-90 163.9591,-91.4489 158.9912,-93.0688 154.0147,-94.8024\"/>\n<polygon fill=\"#0000ff\" stroke=\"#0000ff\" points=\"152.6682,-91.5674 144.4559,-98.2614 155.0502,-98.1497 152.6682,-91.5674\"/>\n<text text-anchor=\"middle\" x=\"377.9899\" y=\"-69.2\" font-family=\"Arial\" font-size=\"16.00\" fill=\"#000000\">p = 0.3 &#160;reward =&#45;1</text>\n</g>\n<!-- s2&#45;a1&#45;&gt;s2 -->\n<g id=\"edge19\" class=\"edge\">\n<title>s2&#45;a1&#45;&gt;s2</title>\n<path fill=\"none\" stroke=\"#0000ff\" stroke-dasharray=\"5,2\" d=\"M781.724,-100.0918C746.0547,-91.0362 681.6602,-80.0831 632.8255,-102 615.7336,-109.6708 600.4908,-122.1856 587.5255,-135.9487\"/>\n<polygon fill=\"#0000ff\" stroke=\"#0000ff\" points=\"584.6403,-133.923 580.5596,-143.7005 589.8469,-138.6018 584.6403,-133.923\"/>\n<text text-anchor=\"middle\" x=\"697.8255\" y=\"-107.2\" font-family=\"Arial\" font-size=\"16.00\" fill=\"#000000\">p = 0.4</text>\n</g>\n<!-- s2&#45;a1&#45;&gt;s1 -->\n<g id=\"edge18\" class=\"edge\">\n<title>s2&#45;a1&#45;&gt;s1</title>\n<path fill=\"none\" stroke=\"#0000ff\" stroke-dasharray=\"5,2\" d=\"M835.933,-110.6419C857.9855,-112.7581 890.1688,-115.8464 920.6465,-118.7711\"/>\n<polygon fill=\"#0000ff\" stroke=\"#0000ff\" points=\"920.6112,-122.2838 930.8999,-119.7551 921.28,-115.3158 920.6112,-122.2838\"/>\n<text text-anchor=\"middle\" x=\"883.4798\" y=\"-123.2\" font-family=\"Arial\" font-size=\"16.00\" fill=\"#000000\">p = 0.3</text>\n</g>\n</g>\n</svg>\n"
          },
          "metadata": {}
        }
      ]
    },
    {
      "cell_type": "code",
      "source": [
        "# Measure agent's average reward\n",
        "\n",
        "s = mdp.reset()\n",
        "rewards = []\n",
        "for _ in range(10000):\n",
        "    s, r, done, _ = mdp.step(get_optimal_action(mdp, state_values, s, gamma))\n",
        "    rewards.append(r)\n",
        "\n",
        "print(\"average reward: \", np.mean(rewards))\n",
        "\n",
        "assert(0.40 < np.mean(rewards) < 0.55)"
      ],
      "metadata": {
        "colab": {
          "base_uri": "https://localhost:8080/"
        },
        "id": "_jC_e69yF93O",
        "outputId": "7b3fc02e-7b39-494e-ed39-28cd2ec13346"
      },
      "execution_count": 75,
      "outputs": [
        {
          "output_type": "stream",
          "name": "stdout",
          "text": [
            "average reward:  0.4775\n"
          ]
        }
      ]
    },
    {
      "cell_type": "markdown",
      "source": [
        "## Frozen Lake"
      ],
      "metadata": {
        "id": "Lk4SHDHPJY44"
      }
    },
    {
      "cell_type": "code",
      "source": [
        "from mdp import FrozenLakeEnv\n",
        "mdp = FrozenLakeEnv(slip_chance=0)\n",
        "\n",
        "mdp.render()"
      ],
      "metadata": {
        "colab": {
          "base_uri": "https://localhost:8080/"
        },
        "id": "CJubQUe1JbWs",
        "outputId": "6a7802b0-d400-4a2d-bbfb-f484d5272fc8"
      },
      "execution_count": 76,
      "outputs": [
        {
          "output_type": "stream",
          "name": "stdout",
          "text": [
            "*FFF\n",
            "FHFH\n",
            "FFFH\n",
            "HFFG\n",
            "\n"
          ]
        }
      ]
    },
    {
      "cell_type": "code",
      "source": [
        "def value_iteration(mdp, state_values=None, gamma=0.9, num_iter=1000, min_difference=1e-5):\n",
        "  \"\"\" performs num_iter value iteration steps starting from state_values. Same as before but in a function \"\"\"\n",
        "  state_values = state_values or {s: 0 for s in mdp.get_all_states()}\n",
        "\n",
        "  for i in range(num_iter):\n",
        "      # Compute new state values using the functions you defined above. It must be a dict {state : new_V(state)}\n",
        "      new_state_values = {state: get_new_state_value(mdp, state_values, state, gamma) for state in mdp.get_all_states()}\n",
        "\n",
        "      assert isinstance(new_state_values, dict)\n",
        "\n",
        "      # Compute difference\n",
        "      print(new_state_values, state_values)\n",
        "      diff = max(abs(new_state_values[s] - state_values[s])\n",
        "                  for s in mdp.get_all_states())\n",
        "\n",
        "      print(\"iter %4i   |   diff: %6.5f   |   V(start): %.3f \" %\n",
        "            (i, diff, new_state_values[mdp._initial_state]))\n",
        "\n",
        "      state_values = new_state_values\n",
        "      if diff < min_difference:\n",
        "          break\n",
        "\n",
        "  return state_values"
      ],
      "metadata": {
        "id": "X3QPcAgHJetS"
      },
      "execution_count": 79,
      "outputs": []
    },
    {
      "cell_type": "code",
      "source": [
        "state_values = value_iteration(mdp)"
      ],
      "metadata": {
        "colab": {
          "base_uri": "https://localhost:8080/"
        },
        "id": "uV1y_CUPJ3EO",
        "outputId": "c906b09b-8dda-4856-9c56-176dabb799ad"
      },
      "execution_count": 80,
      "outputs": [
        {
          "output_type": "stream",
          "name": "stdout",
          "text": [
            "{(0, 0): 0.0, (0, 1): 0.0, (0, 2): 0.0, (0, 3): 0.0, (1, 0): 0.0, (1, 1): 0, (1, 2): 0.0, (1, 3): 0, (2, 0): 0.0, (2, 1): 0.0, (2, 2): 0.0, (2, 3): 0, (3, 0): 0, (3, 1): 0.0, (3, 2): 1.0, (3, 3): 0} {(0, 0): 0, (0, 1): 0, (0, 2): 0, (0, 3): 0, (1, 0): 0, (1, 1): 0, (1, 2): 0, (1, 3): 0, (2, 0): 0, (2, 1): 0, (2, 2): 0, (2, 3): 0, (3, 0): 0, (3, 1): 0, (3, 2): 0, (3, 3): 0}\n",
            "iter    0   |   diff: 1.00000   |   V(start): 0.000 \n",
            "{(0, 0): 0.0, (0, 1): 0.0, (0, 2): 0.0, (0, 3): 0.0, (1, 0): 0.0, (1, 1): 0, (1, 2): 0.0, (1, 3): 0, (2, 0): 0.0, (2, 1): 0.0, (2, 2): 0.9, (2, 3): 0, (3, 0): 0, (3, 1): 0.9, (3, 2): 1.0, (3, 3): 0} {(0, 0): 0.0, (0, 1): 0.0, (0, 2): 0.0, (0, 3): 0.0, (1, 0): 0.0, (1, 1): 0, (1, 2): 0.0, (1, 3): 0, (2, 0): 0.0, (2, 1): 0.0, (2, 2): 0.0, (2, 3): 0, (3, 0): 0, (3, 1): 0.0, (3, 2): 1.0, (3, 3): 0}\n",
            "iter    1   |   diff: 0.90000   |   V(start): 0.000 \n",
            "{(0, 0): 0.0, (0, 1): 0.0, (0, 2): 0.0, (0, 3): 0.0, (1, 0): 0.0, (1, 1): 0, (1, 2): 0.81, (1, 3): 0, (2, 0): 0.0, (2, 1): 0.81, (2, 2): 0.9, (2, 3): 0, (3, 0): 0, (3, 1): 0.9, (3, 2): 1.0, (3, 3): 0} {(0, 0): 0.0, (0, 1): 0.0, (0, 2): 0.0, (0, 3): 0.0, (1, 0): 0.0, (1, 1): 0, (1, 2): 0.0, (1, 3): 0, (2, 0): 0.0, (2, 1): 0.0, (2, 2): 0.9, (2, 3): 0, (3, 0): 0, (3, 1): 0.9, (3, 2): 1.0, (3, 3): 0}\n",
            "iter    2   |   diff: 0.81000   |   V(start): 0.000 \n",
            "{(0, 0): 0.0, (0, 1): 0.0, (0, 2): 0.7290000000000001, (0, 3): 0.0, (1, 0): 0.0, (1, 1): 0, (1, 2): 0.81, (1, 3): 0, (2, 0): 0.7290000000000001, (2, 1): 0.81, (2, 2): 0.9, (2, 3): 0, (3, 0): 0, (3, 1): 0.9, (3, 2): 1.0, (3, 3): 0} {(0, 0): 0.0, (0, 1): 0.0, (0, 2): 0.0, (0, 3): 0.0, (1, 0): 0.0, (1, 1): 0, (1, 2): 0.81, (1, 3): 0, (2, 0): 0.0, (2, 1): 0.81, (2, 2): 0.9, (2, 3): 0, (3, 0): 0, (3, 1): 0.9, (3, 2): 1.0, (3, 3): 0}\n",
            "iter    3   |   diff: 0.72900   |   V(start): 0.000 \n",
            "{(0, 0): 0.0, (0, 1): 0.6561000000000001, (0, 2): 0.7290000000000001, (0, 3): 0.6561000000000001, (1, 0): 0.6561000000000001, (1, 1): 0, (1, 2): 0.81, (1, 3): 0, (2, 0): 0.7290000000000001, (2, 1): 0.81, (2, 2): 0.9, (2, 3): 0, (3, 0): 0, (3, 1): 0.9, (3, 2): 1.0, (3, 3): 0} {(0, 0): 0.0, (0, 1): 0.0, (0, 2): 0.7290000000000001, (0, 3): 0.0, (1, 0): 0.0, (1, 1): 0, (1, 2): 0.81, (1, 3): 0, (2, 0): 0.7290000000000001, (2, 1): 0.81, (2, 2): 0.9, (2, 3): 0, (3, 0): 0, (3, 1): 0.9, (3, 2): 1.0, (3, 3): 0}\n",
            "iter    4   |   diff: 0.65610   |   V(start): 0.000 \n",
            "{(0, 0): 0.5904900000000002, (0, 1): 0.6561000000000001, (0, 2): 0.7290000000000001, (0, 3): 0.6561000000000001, (1, 0): 0.6561000000000001, (1, 1): 0, (1, 2): 0.81, (1, 3): 0, (2, 0): 0.7290000000000001, (2, 1): 0.81, (2, 2): 0.9, (2, 3): 0, (3, 0): 0, (3, 1): 0.9, (3, 2): 1.0, (3, 3): 0} {(0, 0): 0.0, (0, 1): 0.6561000000000001, (0, 2): 0.7290000000000001, (0, 3): 0.6561000000000001, (1, 0): 0.6561000000000001, (1, 1): 0, (1, 2): 0.81, (1, 3): 0, (2, 0): 0.7290000000000001, (2, 1): 0.81, (2, 2): 0.9, (2, 3): 0, (3, 0): 0, (3, 1): 0.9, (3, 2): 1.0, (3, 3): 0}\n",
            "iter    5   |   diff: 0.59049   |   V(start): 0.590 \n",
            "{(0, 0): 0.5904900000000002, (0, 1): 0.6561000000000001, (0, 2): 0.7290000000000001, (0, 3): 0.6561000000000001, (1, 0): 0.6561000000000001, (1, 1): 0, (1, 2): 0.81, (1, 3): 0, (2, 0): 0.7290000000000001, (2, 1): 0.81, (2, 2): 0.9, (2, 3): 0, (3, 0): 0, (3, 1): 0.9, (3, 2): 1.0, (3, 3): 0} {(0, 0): 0.5904900000000002, (0, 1): 0.6561000000000001, (0, 2): 0.7290000000000001, (0, 3): 0.6561000000000001, (1, 0): 0.6561000000000001, (1, 1): 0, (1, 2): 0.81, (1, 3): 0, (2, 0): 0.7290000000000001, (2, 1): 0.81, (2, 2): 0.9, (2, 3): 0, (3, 0): 0, (3, 1): 0.9, (3, 2): 1.0, (3, 3): 0}\n",
            "iter    6   |   diff: 0.00000   |   V(start): 0.590 \n"
          ]
        }
      ]
    },
    {
      "cell_type": "code",
      "source": [
        "s = mdp.reset()\n",
        "mdp.render()\n",
        "for t in range(100):\n",
        "    a = get_optimal_action(mdp, state_values, s, gamma)\n",
        "    print(a, end='\\n\\n')\n",
        "    s, r, done, _ = mdp.step(a)\n",
        "    mdp.render()\n",
        "    if done:\n",
        "        break"
      ],
      "metadata": {
        "id": "_P2Nuyj2J7L5",
        "colab": {
          "base_uri": "https://localhost:8080/"
        },
        "outputId": "5b32c0e3-5b13-4c17-b4a0-4661160f1692"
      },
      "execution_count": 81,
      "outputs": [
        {
          "output_type": "stream",
          "name": "stdout",
          "text": [
            "*FFF\n",
            "FHFH\n",
            "FFFH\n",
            "HFFG\n",
            "\n",
            "down\n",
            "\n",
            "SFFF\n",
            "*HFH\n",
            "FFFH\n",
            "HFFG\n",
            "\n",
            "down\n",
            "\n",
            "SFFF\n",
            "FHFH\n",
            "*FFH\n",
            "HFFG\n",
            "\n",
            "right\n",
            "\n",
            "SFFF\n",
            "FHFH\n",
            "F*FH\n",
            "HFFG\n",
            "\n",
            "down\n",
            "\n",
            "SFFF\n",
            "FHFH\n",
            "FFFH\n",
            "H*FG\n",
            "\n",
            "right\n",
            "\n",
            "SFFF\n",
            "FHFH\n",
            "FFFH\n",
            "HF*G\n",
            "\n",
            "right\n",
            "\n",
            "SFFF\n",
            "FHFH\n",
            "FFFH\n",
            "HFF*\n",
            "\n"
          ]
        }
      ]
    },
    {
      "cell_type": "code",
      "source": [
        "import matplotlib.pyplot as plt\n",
        "%matplotlib inline\n",
        "\n",
        "\n",
        "def draw_policy(mdp, state_values):\n",
        "    plt.figure(figsize=(3, 3))\n",
        "    h, w = mdp.desc.shape\n",
        "    states = sorted(mdp.get_all_states())\n",
        "    V = np.array([state_values[s] for s in states])\n",
        "    Pi = {s: get_optimal_action(mdp, state_values, s, gamma) for s in states}\n",
        "    plt.imshow(V.reshape(w, h), cmap='gray', interpolation='none', clim=(0, 1))\n",
        "    ax = plt.gca()\n",
        "    ax.set_xticks(np.arange(h)-.5)\n",
        "    ax.set_yticks(np.arange(w)-.5)\n",
        "    ax.set_xticklabels([])\n",
        "    ax.set_yticklabels([])\n",
        "    Y, X = np.mgrid[0:4, 0:4]\n",
        "    a2uv = {'left': (-1, 0), 'down': (0, -1), 'right': (1, 0), 'up': (0, 1)}\n",
        "    for y in range(h):\n",
        "        for x in range(w):\n",
        "            plt.text(x, y, str(mdp.desc[y, x].item()),\n",
        "                     color='g', size=12,  verticalalignment='center',\n",
        "                     horizontalalignment='center', fontweight='bold')\n",
        "            a = Pi[y, x]\n",
        "            if a is None:\n",
        "                continue\n",
        "            u, v = a2uv[a]\n",
        "            plt.arrow(x, y, u*.3, -v*.3, color='m',\n",
        "                      head_width=0.1, head_length=0.1)\n",
        "    plt.grid(color='b', lw=2, ls='-')\n",
        "    plt.show()"
      ],
      "metadata": {
        "id": "lerfxzE4iOWA"
      },
      "execution_count": 82,
      "outputs": []
    },
    {
      "cell_type": "code",
      "source": [
        "state_values = {s: 0 for s in mdp.get_all_states()}\n",
        "\n",
        "for i in range(10):\n",
        "    print(\"after iteration %i\" % i)\n",
        "    state_values = value_iteration(mdp, state_values, num_iter=1)\n",
        "    draw_policy(mdp, state_values)\n",
        "# please ignore iter 0 at each step"
      ],
      "metadata": {
        "id": "b6-65LoPisAL",
        "colab": {
          "base_uri": "https://localhost:8080/",
          "height": 1000
        },
        "outputId": "38f5f3ca-884f-4262-db3a-f64741ec6b69"
      },
      "execution_count": 83,
      "outputs": [
        {
          "output_type": "stream",
          "name": "stdout",
          "text": [
            "after iteration 0\n",
            "{(0, 0): 0.0, (0, 1): 0.0, (0, 2): 0.0, (0, 3): 0.0, (1, 0): 0.0, (1, 1): 0, (1, 2): 0.0, (1, 3): 0, (2, 0): 0.0, (2, 1): 0.0, (2, 2): 0.0, (2, 3): 0, (3, 0): 0, (3, 1): 0.0, (3, 2): 1.0, (3, 3): 0} {(0, 0): 0, (0, 1): 0, (0, 2): 0, (0, 3): 0, (1, 0): 0, (1, 1): 0, (1, 2): 0, (1, 3): 0, (2, 0): 0, (2, 1): 0, (2, 2): 0, (2, 3): 0, (3, 0): 0, (3, 1): 0, (3, 2): 0, (3, 3): 0}\n",
            "iter    0   |   diff: 1.00000   |   V(start): 0.000 \n"
          ]
        },
        {
          "output_type": "display_data",
          "data": {
            "text/plain": [
              "<Figure size 216x216 with 1 Axes>"
            ],
            "image/png": "[encoded data removed]"
          },
          "metadata": {
            "needs_background": "light"
          }
        },
        {
          "output_type": "stream",
          "name": "stdout",
          "text": [
            "after iteration 1\n",
            "{(0, 0): 0.0, (0, 1): 0.0, (0, 2): 0.0, (0, 3): 0.0, (1, 0): 0.0, (1, 1): 0, (1, 2): 0.0, (1, 3): 0, (2, 0): 0.0, (2, 1): 0.0, (2, 2): 0.9, (2, 3): 0, (3, 0): 0, (3, 1): 0.9, (3, 2): 1.0, (3, 3): 0} {(0, 0): 0.0, (0, 1): 0.0, (0, 2): 0.0, (0, 3): 0.0, (1, 0): 0.0, (1, 1): 0, (1, 2): 0.0, (1, 3): 0, (2, 0): 0.0, (2, 1): 0.0, (2, 2): 0.0, (2, 3): 0, (3, 0): 0, (3, 1): 0.0, (3, 2): 1.0, (3, 3): 0}\n",
            "iter    0   |   diff: 0.90000   |   V(start): 0.000 \n"
          ]
        },
        {
          "output_type": "display_data",
          "data": {
            "text/plain": [
              "<Figure size 216x216 with 1 Axes>"
            ],
            "image/png": "[encoded data removed]"
          },
          "metadata": {
            "needs_background": "light"
          }
        },
        {
          "output_type": "stream",
          "name": "stdout",
          "text": [
            "after iteration 2\n",
            "{(0, 0): 0.0, (0, 1): 0.0, (0, 2): 0.0, (0, 3): 0.0, (1, 0): 0.0, (1, 1): 0, (1, 2): 0.81, (1, 3): 0, (2, 0): 0.0, (2, 1): 0.81, (2, 2): 0.9, (2, 3): 0, (3, 0): 0, (3, 1): 0.9, (3, 2): 1.0, (3, 3): 0} {(0, 0): 0.0, (0, 1): 0.0, (0, 2): 0.0, (0, 3): 0.0, (1, 0): 0.0, (1, 1): 0, (1, 2): 0.0, (1, 3): 0, (2, 0): 0.0, (2, 1): 0.0, (2, 2): 0.9, (2, 3): 0, (3, 0): 0, (3, 1): 0.9, (3, 2): 1.0, (3, 3): 0}\n",
            "iter    0   |   diff: 0.81000   |   V(start): 0.000 \n"
          ]
        },
        {
          "output_type": "display_data",
          "data": {
            "text/plain": [
              "<Figure size 216x216 with 1 Axes>"
            ],
            "image/png": "[encoded data removed]"
          },
          "metadata": {
            "needs_background": "light"
          }
        },
        {
          "output_type": "stream",
          "name": "stdout",
          "text": [
            "after iteration 3\n",
            "{(0, 0): 0.0, (0, 1): 0.0, (0, 2): 0.7290000000000001, (0, 3): 0.0, (1, 0): 0.0, (1, 1): 0, (1, 2): 0.81, (1, 3): 0, (2, 0): 0.7290000000000001, (2, 1): 0.81, (2, 2): 0.9, (2, 3): 0, (3, 0): 0, (3, 1): 0.9, (3, 2): 1.0, (3, 3): 0} {(0, 0): 0.0, (0, 1): 0.0, (0, 2): 0.0, (0, 3): 0.0, (1, 0): 0.0, (1, 1): 0, (1, 2): 0.81, (1, 3): 0, (2, 0): 0.0, (2, 1): 0.81, (2, 2): 0.9, (2, 3): 0, (3, 0): 0, (3, 1): 0.9, (3, 2): 1.0, (3, 3): 0}\n",
            "iter    0   |   diff: 0.72900   |   V(start): 0.000 \n"
          ]
        },
        {
          "output_type": "display_data",
          "data": {
            "text/plain": [
              "<Figure size 216x216 with 1 Axes>"
            ],
            "image/png": "[encoded data removed]"
          },
          "metadata": {
            "needs_background": "light"
          }
        },
        {
          "output_type": "stream",
          "name": "stdout",
          "text": [
            "after iteration 4\n",
            "{(0, 0): 0.0, (0, 1): 0.6561000000000001, (0, 2): 0.7290000000000001, (0, 3): 0.6561000000000001, (1, 0): 0.6561000000000001, (1, 1): 0, (1, 2): 0.81, (1, 3): 0, (2, 0): 0.7290000000000001, (2, 1): 0.81, (2, 2): 0.9, (2, 3): 0, (3, 0): 0, (3, 1): 0.9, (3, 2): 1.0, (3, 3): 0} {(0, 0): 0.0, (0, 1): 0.0, (0, 2): 0.7290000000000001, (0, 3): 0.0, (1, 0): 0.0, (1, 1): 0, (1, 2): 0.81, (1, 3): 0, (2, 0): 0.7290000000000001, (2, 1): 0.81, (2, 2): 0.9, (2, 3): 0, (3, 0): 0, (3, 1): 0.9, (3, 2): 1.0, (3, 3): 0}\n",
            "iter    0   |   diff: 0.65610   |   V(start): 0.000 \n"
          ]
        },
        {
          "output_type": "display_data",
          "data": {
            "text/plain": [
              "<Figure size 216x216 with 1 Axes>"
            ],
            "image/png": "[encoded data removed]"
          },
          "metadata": {
            "needs_background": "light"
          }
        },
        {
          "output_type": "stream",
          "name": "stdout",
          "text": [
            "after iteration 5\n",
            "{(0, 0): 0.5904900000000002, (0, 1): 0.6561000000000001, (0, 2): 0.7290000000000001, (0, 3): 0.6561000000000001, (1, 0): 0.6561000000000001, (1, 1): 0, (1, 2): 0.81, (1, 3): 0, (2, 0): 0.7290000000000001, (2, 1): 0.81, (2, 2): 0.9, (2, 3): 0, (3, 0): 0, (3, 1): 0.9, (3, 2): 1.0, (3, 3): 0} {(0, 0): 0.0, (0, 1): 0.6561000000000001, (0, 2): 0.7290000000000001, (0, 3): 0.6561000000000001, (1, 0): 0.6561000000000001, (1, 1): 0, (1, 2): 0.81, (1, 3): 0, (2, 0): 0.7290000000000001, (2, 1): 0.81, (2, 2): 0.9, (2, 3): 0, (3, 0): 0, (3, 1): 0.9, (3, 2): 1.0, (3, 3): 0}\n",
            "iter    0   |   diff: 0.59049   |   V(start): 0.590 \n"
          ]
        },
        {
          "output_type": "display_data",
          "data": {
            "text/plain": [
              "<Figure size 216x216 with 1 Axes>"
            ],
            "image/png": "[encoded data removed]"
          },
          "metadata": {
            "needs_background": "light"
          }
        },
        {
          "output_type": "stream",
          "name": "stdout",
          "text": [
            "after iteration 6\n",
            "{(0, 0): 0.5904900000000002, (0, 1): 0.6561000000000001, (0, 2): 0.7290000000000001, (0, 3): 0.6561000000000001, (1, 0): 0.6561000000000001, (1, 1): 0, (1, 2): 0.81, (1, 3): 0, (2, 0): 0.7290000000000001, (2, 1): 0.81, (2, 2): 0.9, (2, 3): 0, (3, 0): 0, (3, 1): 0.9, (3, 2): 1.0, (3, 3): 0} {(0, 0): 0.5904900000000002, (0, 1): 0.6561000000000001, (0, 2): 0.7290000000000001, (0, 3): 0.6561000000000001, (1, 0): 0.6561000000000001, (1, 1): 0, (1, 2): 0.81, (1, 3): 0, (2, 0): 0.7290000000000001, (2, 1): 0.81, (2, 2): 0.9, (2, 3): 0, (3, 0): 0, (3, 1): 0.9, (3, 2): 1.0, (3, 3): 0}\n",
            "iter    0   |   diff: 0.00000   |   V(start): 0.590 \n"
          ]
        },
        {
          "output_type": "display_data",
          "data": {
            "text/plain": [
              "<Figure size 216x216 with 1 Axes>"
            ],
            "image/png": "[encoded data removed]"
          },
          "metadata": {
            "needs_background": "light"
          }
        },
        {
          "output_type": "stream",
          "name": "stdout",
          "text": [
            "after iteration 7\n",
            "{(0, 0): 0.5904900000000002, (0, 1): 0.6561000000000001, (0, 2): 0.7290000000000001, (0, 3): 0.6561000000000001, (1, 0): 0.6561000000000001, (1, 1): 0, (1, 2): 0.81, (1, 3): 0, (2, 0): 0.7290000000000001, (2, 1): 0.81, (2, 2): 0.9, (2, 3): 0, (3, 0): 0, (3, 1): 0.9, (3, 2): 1.0, (3, 3): 0} {(0, 0): 0.5904900000000002, (0, 1): 0.6561000000000001, (0, 2): 0.7290000000000001, (0, 3): 0.6561000000000001, (1, 0): 0.6561000000000001, (1, 1): 0, (1, 2): 0.81, (1, 3): 0, (2, 0): 0.7290000000000001, (2, 1): 0.81, (2, 2): 0.9, (2, 3): 0, (3, 0): 0, (3, 1): 0.9, (3, 2): 1.0, (3, 3): 0}\n",
            "iter    0   |   diff: 0.00000   |   V(start): 0.590 \n"
          ]
        },
        {
          "output_type": "display_data",
          "data": {
            "text/plain": [
              "<Figure size 216x216 with 1 Axes>"
            ],
            "image/png": "[encoded data removed]"
          },
          "metadata": {
            "needs_background": "light"
          }
        },
        {
          "output_type": "stream",
          "name": "stdout",
          "text": [
            "after iteration 8\n",
            "{(0, 0): 0.5904900000000002, (0, 1): 0.6561000000000001, (0, 2): 0.7290000000000001, (0, 3): 0.6561000000000001, (1, 0): 0.6561000000000001, (1, 1): 0, (1, 2): 0.81, (1, 3): 0, (2, 0): 0.7290000000000001, (2, 1): 0.81, (2, 2): 0.9, (2, 3): 0, (3, 0): 0, (3, 1): 0.9, (3, 2): 1.0, (3, 3): 0} {(0, 0): 0.5904900000000002, (0, 1): 0.6561000000000001, (0, 2): 0.7290000000000001, (0, 3): 0.6561000000000001, (1, 0): 0.6561000000000001, (1, 1): 0, (1, 2): 0.81, (1, 3): 0, (2, 0): 0.7290000000000001, (2, 1): 0.81, (2, 2): 0.9, (2, 3): 0, (3, 0): 0, (3, 1): 0.9, (3, 2): 1.0, (3, 3): 0}\n",
            "iter    0   |   diff: 0.00000   |   V(start): 0.590 \n"
          ]
        },
        {
          "output_type": "display_data",
          "data": {
            "text/plain": [
              "<Figure size 216x216 with 1 Axes>"
            ],
            "image/png": "[encoded data removed]"
          },
          "metadata": {
            "needs_background": "light"
          }
        },
        {
          "output_type": "stream",
          "name": "stdout",
          "text": [
            "after iteration 9\n",
            "{(0, 0): 0.5904900000000002, (0, 1): 0.6561000000000001, (0, 2): 0.7290000000000001, (0, 3): 0.6561000000000001, (1, 0): 0.6561000000000001, (1, 1): 0, (1, 2): 0.81, (1, 3): 0, (2, 0): 0.7290000000000001, (2, 1): 0.81, (2, 2): 0.9, (2, 3): 0, (3, 0): 0, (3, 1): 0.9, (3, 2): 1.0, (3, 3): 0} {(0, 0): 0.5904900000000002, (0, 1): 0.6561000000000001, (0, 2): 0.7290000000000001, (0, 3): 0.6561000000000001, (1, 0): 0.6561000000000001, (1, 1): 0, (1, 2): 0.81, (1, 3): 0, (2, 0): 0.7290000000000001, (2, 1): 0.81, (2, 2): 0.9, (2, 3): 0, (3, 0): 0, (3, 1): 0.9, (3, 2): 1.0, (3, 3): 0}\n",
            "iter    0   |   diff: 0.00000   |   V(start): 0.590 \n"
          ]
        },
        {
          "output_type": "display_data",
          "data": {
            "text/plain": [
              "<Figure size 216x216 with 1 Axes>"
            ],
            "image/png": "[encoded data removed]"
          },
          "metadata": {
            "needs_background": "light"
          }
        }
      ]
    },
    {
      "cell_type": "code",
      "source": [
        "from IPython.display import clear_output\n",
        "from time import sleep\n",
        "mdp = FrozenLakeEnv(map_name='8x8', slip_chance=0.1)\n",
        "state_values = {s: 0 for s in mdp.get_all_states()}\n",
        "\n",
        "for i in range(30):\n",
        "    clear_output(True)\n",
        "    print(\"after iteration %i\" % i)\n",
        "    state_values = value_iteration(mdp, state_values, num_iter=1)\n",
        "    draw_policy(mdp, state_values)\n",
        "    sleep(0.5)\n",
        "# please ignore iter 0 at each step"
      ],
      "metadata": {
        "id": "WX1i_pgxivge",
        "colab": {
          "base_uri": "https://localhost:8080/",
          "height": 269
        },
        "outputId": "58ade8fd-08db-4aee-c2a1-9a4e8aae5e7d"
      },
      "execution_count": 84,
      "outputs": [
        {
          "output_type": "stream",
          "name": "stdout",
          "text": [
            "after iteration 29\n",
            "{(0, 0): 0.1981684335616138, (0, 1): 0.22234453053304482, (0, 2): 0.2493938602121421, (0, 3): 0.2796305131378171, (0, 4): 0.31337222528234676, (0, 5): 0.3501900594269184, (0, 6): 0.39118770221758725, (0, 7): 0.43410192748245174, (1, 0): 0.20337356473110288, (1, 1): 0.22955578700659218, (1, 2): 0.25934276277310475, (1, 3): 0.29368086707410623, (1, 4): 0.34703394392239617, (1, 5): 0.39043262590567285, (1, 6): 0.439376003543815, (1, 7): 0.49007888169577374, (2, 0): 0.1892404212232484, (2, 1): 0.2107255730552412, (2, 2): 0.22752308948428376, (2, 3): 0, (2, 4): 0.3707059345648658, (2, 5): 0.4173224538683299, (2, 6): 0.4935222045991991, (2, 7): 0.5533992739082584, (3, 0): 0.20890903992425222, (3, 1): 0.23700150977169715, (3, 2): 0.2691857278445299, (3, 3): 0.30704795132426943, (3, 4): 0.37907154485655836, (3, 5): 0, (3, 6): 0.55535768747389, (3, 7): 0.6250466757738938, (4, 0): 0.18715573999139046, (4, 1): 0.21063157166003943, (4, 2): 0.22751885941080063, (4, 3): 0, (4, 4): 0.45093134204034496, (4, 5): 0.5090116789824761, (4, 6): 0.5969195753641, (4, 7): 0.7060845425036558, (5, 0): 0.15873937113310452, (5, 1): 0, (5, 2): 0, (5, 3): 0.4036170854101869, (5, 4): 0.47941472327671886, (5, 5): 0.5668182875126182, (5, 6): 0, (5, 7): 0.7993201940736274, (6, 0): 0.15312108737753177, (6, 1): 0, (6, 2): 0.28608236750835037, (6, 3): 0.33980354571338706, (6, 4): 0, (6, 5): 0.6731415123027102, (6, 6): 0, (6, 7): 0.9424083769633508, (7, 0): 0.18053165447429703, (7, 1): 0.20434232334387803, (7, 2): 0.24092212214673983, (7, 3): 0, (7, 4): 0.7048602223065029, (7, 5): 0.8310389040774201, (7, 6): 0.9424083769633508, (7, 7): 0} {(0, 0): 0.19816835624695936, (0, 1): 0.2223445049935264, (0, 2): 0.24939384969723666, (0, 3): 0.2796305097148703, (0, 4): 0.31337222379310753, (0, 5): 0.3501900589624752, (0, 6): 0.3911877019971599, (0, 7): 0.4341019274188376, (1, 0): 0.203373521905427, (1, 1): 0.22955576785721, (1, 2): 0.2593427579271444, (1, 3): 0.293680865071797, (1, 4): 0.3470339433789346, (1, 5): 0.3904326256868325, (1, 6): 0.4393760034943558, (1, 7): 0.49007888167744673, (2, 0): 0.18924037190332485, (2, 1): 0.21072556357547825, (2, 2): 0.22752308507941132, (2, 3): 0, (2, 4): 0.37070593434159904, (2, 5): 0.41732245382073924, (2, 6): 0.4935222045832375, (2, 7): 0.5533992739049909, (3, 0): 0.20890902758592897, (3, 1): 0.23700150307533097, (3, 2): 0.26918572731282375, (3, 3): 0.3070479512895303, (3, 4): 0.37907154484477706, (3, 5): 0, (3, 6): 0.5553576874710385, (3, 7): 0.6250466757731952, (4, 0): 0.18715568216854525, (4, 1): 0.2106315619425195, (4, 2): 0.2275188549208183, (4, 3): 0, (4, 4): 0.45093134203522156, (4, 5): 0.5090116789813668, (4, 6): 0.596919575363473, (4, 7): 0.7060845425035842, (5, 0): 0.15873930170184097, (5, 1): 0, (5, 2): 0, (5, 3): 0.4036170854058999, (5, 4): 0.4794147232760644, (5, 5): 0.566818287512511, (5, 6): 0, (5, 7): 0.7993201940736274, (6, 0): 0.15312108163424717, (6, 1): 0, (6, 2): 0.28608236743573423, (6, 3): 0.3398035457016614, (6, 4): 0, (6, 5): 0.6731415123027102, (6, 6): 0, (6, 7): 0.9424083769633508, (7, 0): 0.1805316527209761, (7, 1): 0.20434232275100245, (7, 2): 0.24092212200010235, (7, 3): 0, (7, 4): 0.7048602223065029, (7, 5): 0.8310389040774201, (7, 6): 0.9424083769633508, (7, 7): 0}\n",
            "iter    0   |   diff: 0.00000   |   V(start): 0.198 \n"
          ]
        },
        {
          "output_type": "display_data",
          "data": {
            "text/plain": [
              "<Figure size 216x216 with 1 Axes>"
            ],
            "image/png": "[encoded data removed]"
          },
          "metadata": {
            "needs_background": "light"
          }
        }
      ]
    },
    {
      "cell_type": "code",
      "source": [
        "mdp = FrozenLakeEnv(slip_chance=0)\n",
        "state_values = value_iteration(mdp)\n",
        "\n",
        "total_rewards = []\n",
        "for game_i in range(1000):\n",
        "    s = mdp.reset()\n",
        "    rewards = []\n",
        "    for t in range(100):\n",
        "        s, r, done, _ = mdp.step(\n",
        "            get_optimal_action(mdp, state_values, s, gamma))\n",
        "        rewards.append(r)\n",
        "        if done:\n",
        "            break\n",
        "    total_rewards.append(np.sum(rewards))\n",
        "\n",
        "print(\"average reward: \", np.mean(total_rewards))\n",
        "assert(1.0 <= np.mean(total_rewards) <= 1.0)\n",
        "print(\"Well done!\")"
      ],
      "metadata": {
        "id": "VqLUgtp3i0UN",
        "colab": {
          "base_uri": "https://localhost:8080/"
        },
        "outputId": "11a671cb-1776-409e-fd28-d35436d04786"
      },
      "execution_count": 85,
      "outputs": [
        {
          "output_type": "stream",
          "name": "stdout",
          "text": [
            "{(0, 0): 0.0, (0, 1): 0.0, (0, 2): 0.0, (0, 3): 0.0, (1, 0): 0.0, (1, 1): 0, (1, 2): 0.0, (1, 3): 0, (2, 0): 0.0, (2, 1): 0.0, (2, 2): 0.0, (2, 3): 0, (3, 0): 0, (3, 1): 0.0, (3, 2): 1.0, (3, 3): 0} {(0, 0): 0, (0, 1): 0, (0, 2): 0, (0, 3): 0, (1, 0): 0, (1, 1): 0, (1, 2): 0, (1, 3): 0, (2, 0): 0, (2, 1): 0, (2, 2): 0, (2, 3): 0, (3, 0): 0, (3, 1): 0, (3, 2): 0, (3, 3): 0}\n",
            "iter    0   |   diff: 1.00000   |   V(start): 0.000 \n",
            "{(0, 0): 0.0, (0, 1): 0.0, (0, 2): 0.0, (0, 3): 0.0, (1, 0): 0.0, (1, 1): 0, (1, 2): 0.0, (1, 3): 0, (2, 0): 0.0, (2, 1): 0.0, (2, 2): 0.9, (2, 3): 0, (3, 0): 0, (3, 1): 0.9, (3, 2): 1.0, (3, 3): 0} {(0, 0): 0.0, (0, 1): 0.0, (0, 2): 0.0, (0, 3): 0.0, (1, 0): 0.0, (1, 1): 0, (1, 2): 0.0, (1, 3): 0, (2, 0): 0.0, (2, 1): 0.0, (2, 2): 0.0, (2, 3): 0, (3, 0): 0, (3, 1): 0.0, (3, 2): 1.0, (3, 3): 0}\n",
            "iter    1   |   diff: 0.90000   |   V(start): 0.000 \n",
            "{(0, 0): 0.0, (0, 1): 0.0, (0, 2): 0.0, (0, 3): 0.0, (1, 0): 0.0, (1, 1): 0, (1, 2): 0.81, (1, 3): 0, (2, 0): 0.0, (2, 1): 0.81, (2, 2): 0.9, (2, 3): 0, (3, 0): 0, (3, 1): 0.9, (3, 2): 1.0, (3, 3): 0} {(0, 0): 0.0, (0, 1): 0.0, (0, 2): 0.0, (0, 3): 0.0, (1, 0): 0.0, (1, 1): 0, (1, 2): 0.0, (1, 3): 0, (2, 0): 0.0, (2, 1): 0.0, (2, 2): 0.9, (2, 3): 0, (3, 0): 0, (3, 1): 0.9, (3, 2): 1.0, (3, 3): 0}\n",
            "iter    2   |   diff: 0.81000   |   V(start): 0.000 \n",
            "{(0, 0): 0.0, (0, 1): 0.0, (0, 2): 0.7290000000000001, (0, 3): 0.0, (1, 0): 0.0, (1, 1): 0, (1, 2): 0.81, (1, 3): 0, (2, 0): 0.7290000000000001, (2, 1): 0.81, (2, 2): 0.9, (2, 3): 0, (3, 0): 0, (3, 1): 0.9, (3, 2): 1.0, (3, 3): 0} {(0, 0): 0.0, (0, 1): 0.0, (0, 2): 0.0, (0, 3): 0.0, (1, 0): 0.0, (1, 1): 0, (1, 2): 0.81, (1, 3): 0, (2, 0): 0.0, (2, 1): 0.81, (2, 2): 0.9, (2, 3): 0, (3, 0): 0, (3, 1): 0.9, (3, 2): 1.0, (3, 3): 0}\n",
            "iter    3   |   diff: 0.72900   |   V(start): 0.000 \n",
            "{(0, 0): 0.0, (0, 1): 0.6561000000000001, (0, 2): 0.7290000000000001, (0, 3): 0.6561000000000001, (1, 0): 0.6561000000000001, (1, 1): 0, (1, 2): 0.81, (1, 3): 0, (2, 0): 0.7290000000000001, (2, 1): 0.81, (2, 2): 0.9, (2, 3): 0, (3, 0): 0, (3, 1): 0.9, (3, 2): 1.0, (3, 3): 0} {(0, 0): 0.0, (0, 1): 0.0, (0, 2): 0.7290000000000001, (0, 3): 0.0, (1, 0): 0.0, (1, 1): 0, (1, 2): 0.81, (1, 3): 0, (2, 0): 0.7290000000000001, (2, 1): 0.81, (2, 2): 0.9, (2, 3): 0, (3, 0): 0, (3, 1): 0.9, (3, 2): 1.0, (3, 3): 0}\n",
            "iter    4   |   diff: 0.65610   |   V(start): 0.000 \n",
            "{(0, 0): 0.5904900000000002, (0, 1): 0.6561000000000001, (0, 2): 0.7290000000000001, (0, 3): 0.6561000000000001, (1, 0): 0.6561000000000001, (1, 1): 0, (1, 2): 0.81, (1, 3): 0, (2, 0): 0.7290000000000001, (2, 1): 0.81, (2, 2): 0.9, (2, 3): 0, (3, 0): 0, (3, 1): 0.9, (3, 2): 1.0, (3, 3): 0} {(0, 0): 0.0, (0, 1): 0.6561000000000001, (0, 2): 0.7290000000000001, (0, 3): 0.6561000000000001, (1, 0): 0.6561000000000001, (1, 1): 0, (1, 2): 0.81, (1, 3): 0, (2, 0): 0.7290000000000001, (2, 1): 0.81, (2, 2): 0.9, (2, 3): 0, (3, 0): 0, (3, 1): 0.9, (3, 2): 1.0, (3, 3): 0}\n",
            "iter    5   |   diff: 0.59049   |   V(start): 0.590 \n",
            "{(0, 0): 0.5904900000000002, (0, 1): 0.6561000000000001, (0, 2): 0.7290000000000001, (0, 3): 0.6561000000000001, (1, 0): 0.6561000000000001, (1, 1): 0, (1, 2): 0.81, (1, 3): 0, (2, 0): 0.7290000000000001, (2, 1): 0.81, (2, 2): 0.9, (2, 3): 0, (3, 0): 0, (3, 1): 0.9, (3, 2): 1.0, (3, 3): 0} {(0, 0): 0.5904900000000002, (0, 1): 0.6561000000000001, (0, 2): 0.7290000000000001, (0, 3): 0.6561000000000001, (1, 0): 0.6561000000000001, (1, 1): 0, (1, 2): 0.81, (1, 3): 0, (2, 0): 0.7290000000000001, (2, 1): 0.81, (2, 2): 0.9, (2, 3): 0, (3, 0): 0, (3, 1): 0.9, (3, 2): 1.0, (3, 3): 0}\n",
            "iter    6   |   diff: 0.00000   |   V(start): 0.590 \n",
            "average reward:  1.0\n",
            "Well done!\n"
          ]
        }
      ]
    },
    {
      "cell_type": "code",
      "source": [
        "# Measure agent's average reward\n",
        "mdp = FrozenLakeEnv(slip_chance=0.1)\n",
        "state_values = value_iteration(mdp)\n",
        "\n",
        "total_rewards = []\n",
        "for game_i in range(1000):\n",
        "    s = mdp.reset()\n",
        "    rewards = []\n",
        "    for t in range(100):\n",
        "        s, r, done, _ = mdp.step(\n",
        "            get_optimal_action(mdp, state_values, s, gamma))\n",
        "        rewards.append(r)\n",
        "        if done:\n",
        "            break\n",
        "    total_rewards.append(np.sum(rewards))\n",
        "\n",
        "print(\"average reward: \", np.mean(total_rewards))\n",
        "assert(0.8 <= np.mean(total_rewards) <= 0.95)\n",
        "print(\"Well done!\")"
      ],
      "metadata": {
        "id": "SSfGnkati3s2",
        "colab": {
          "base_uri": "https://localhost:8080/"
        },
        "outputId": "0492a56f-39b4-4f82-876e-25d0814bae39"
      },
      "execution_count": 86,
      "outputs": [
        {
          "output_type": "stream",
          "name": "stdout",
          "text": [
            "{(0, 0): 0.0, (0, 1): 0.0, (0, 2): 0.0, (0, 3): 0.0, (1, 0): 0.0, (1, 1): 0, (1, 2): 0.0, (1, 3): 0, (2, 0): 0.0, (2, 1): 0.0, (2, 2): 0.0, (2, 3): 0, (3, 0): 0, (3, 1): 0.0, (3, 2): 0.9, (3, 3): 0} {(0, 0): 0, (0, 1): 0, (0, 2): 0, (0, 3): 0, (1, 0): 0, (1, 1): 0, (1, 2): 0, (1, 3): 0, (2, 0): 0, (2, 1): 0, (2, 2): 0, (2, 3): 0, (3, 0): 0, (3, 1): 0, (3, 2): 0, (3, 3): 0}\n",
            "iter    0   |   diff: 0.90000   |   V(start): 0.000 \n",
            "{(0, 0): 0.0, (0, 1): 0.0, (0, 2): 0.0, (0, 3): 0.0, (1, 0): 0.0, (1, 1): 0, (1, 2): 0.0, (1, 3): 0, (2, 0): 0.0, (2, 1): 0.0, (2, 2): 0.7290000000000001, (2, 3): 0, (3, 0): 0, (3, 1): 0.7290000000000001, (3, 2): 0.9405, (3, 3): 0} {(0, 0): 0.0, (0, 1): 0.0, (0, 2): 0.0, (0, 3): 0.0, (1, 0): 0.0, (1, 1): 0, (1, 2): 0.0, (1, 3): 0, (2, 0): 0.0, (2, 1): 0.0, (2, 2): 0.0, (2, 3): 0, (3, 0): 0, (3, 1): 0.0, (3, 2): 0.9, (3, 3): 0}\n",
            "iter    1   |   diff: 0.72900   |   V(start): 0.000 \n",
            "{(0, 0): 0.0, (0, 1): 0.0, (0, 2): 0.0, (0, 3): 0.0, (1, 0): 0.0, (1, 1): 0, (1, 2): 0.5904900000000002, (1, 3): 0, (2, 0): 0.0, (2, 1): 0.6232950000000002, (2, 2): 0.7618050000000001, (2, 3): 0, (3, 0): 0, (3, 1): 0.79461, (3, 2): 0.9751275, (3, 3): 0} {(0, 0): 0.0, (0, 1): 0.0, (0, 2): 0.0, (0, 3): 0.0, (1, 0): 0.0, (1, 1): 0, (1, 2): 0.0, (1, 3): 0, (2, 0): 0.0, (2, 1): 0.0, (2, 2): 0.7290000000000001, (2, 3): 0, (3, 0): 0, (3, 1): 0.7290000000000001, (3, 2): 0.9405, (3, 3): 0}\n",
            "iter    2   |   diff: 0.62330   |   V(start): 0.000 \n",
            "{(0, 0): 0.0, (0, 1): 0.0, (0, 2): 0.47829690000000014, (0, 3): 0.0, (1, 0): 0.0, (1, 1): 0, (1, 2): 0.6170620500000001, (1, 3): 0, (2, 0): 0.5048689500000001, (2, 1): 0.6779153250000001, (2, 2): 0.81790155, (2, 3): 0, (3, 0): 0, (3, 1): 0.853659, (3, 2): 0.9781619625, (3, 3): 0} {(0, 0): 0.0, (0, 1): 0.0, (0, 2): 0.0, (0, 3): 0.0, (1, 0): 0.0, (1, 1): 0, (1, 2): 0.5904900000000002, (1, 3): 0, (2, 0): 0.0, (2, 1): 0.6232950000000002, (2, 2): 0.7618050000000001, (2, 3): 0, (3, 0): 0, (3, 1): 0.79461, (3, 2): 0.9751275, (3, 3): 0}\n",
            "iter    3   |   diff: 0.50487   |   V(start): 0.000 \n",
            "{(0, 0): 0.0, (0, 1): 0.38742048900000015, (0, 2): 0.4998202605000001, (0, 3): 0.38742048900000015, (1, 0): 0.4089438495000001, (1, 1): 0, (1, 2): 0.6625002555, (1, 3): 0, (2, 0): 0.54911141325, (2, 1): 0.7509884625000001, (2, 2): 0.82281737925, (2, 3): 0, (3, 0): 0, (3, 1): 0.86123203425, (3, 2): 0.9808228580625, (3, 3): 0} {(0, 0): 0.0, (0, 1): 0.0, (0, 2): 0.47829690000000014, (0, 3): 0.0, (1, 0): 0.0, (1, 1): 0, (1, 2): 0.6170620500000001, (1, 3): 0, (2, 0): 0.5048689500000001, (2, 1): 0.6779153250000001, (2, 2): 0.81790155, (2, 3): 0, (3, 0): 0, (3, 1): 0.853659, (3, 2): 0.9781619625, (3, 3): 0}\n",
            "iter    4   |   diff: 0.40894   |   V(start): 0.000 \n",
            "{(0, 0): 0.3486784401000001, (0, 1): 0.42228833301000007, (0, 2): 0.5714930509650001, (0, 3): 0.42228833301000007, (1, 0): 0.46318271796000005, (1, 1): 0, (1, 2): 0.6664820771925001, (1, 3): 0, (2, 0): 0.6267031278525002, (2, 1): 0.759334743405, (2, 2): 0.8282609958431251, (2, 3): 0, (3, 0): 0, (3, 1): 0.8670164373843751, (3, 2): 0.9811638106790626, (3, 3): 0} {(0, 0): 0.0, (0, 1): 0.38742048900000015, (0, 2): 0.4998202605000001, (0, 3): 0.38742048900000015, (1, 0): 0.4089438495000001, (1, 1): 0, (1, 2): 0.6625002555, (1, 3): 0, (2, 0): 0.54911141325, (2, 1): 0.7509884625000001, (2, 2): 0.82281737925, (2, 3): 0, (3, 0): 0, (3, 1): 0.86123203425, (3, 2): 0.9808228580625, (3, 3): 0}\n",
            "iter    5   |   diff: 0.34868   |   V(start): 0.349 \n",
            "{(0, 0): 0.4098715063375501, (0, 1): 0.48191234626710017, (0, 2): 0.5778564324968252, (0, 3): 0.48191234626710017, (1, 0): 0.5284727558687251, (1, 1): 0, (1, 2): 0.6708914066329313, (1, 3): 0, (2, 0): 0.63590436446625, (2, 1): 0.7677566998476469, (2, 2): 0.8289127501032658, (2, 3): 0, (3, 0): 0, (3, 1): 0.8679284897855627, (3, 2): 0.9814241162934985, (3, 3): 0} {(0, 0): 0.3486784401000001, (0, 1): 0.42228833301000007, (0, 2): 0.5714930509650001, (0, 3): 0.42228833301000007, (1, 0): 0.46318271796000005, (1, 1): 0, (1, 2): 0.6664820771925001, (1, 3): 0, (2, 0): 0.6267031278525002, (2, 1): 0.759334743405, (2, 2): 0.8282609958431251, (2, 3): 0, (3, 0): 0, (3, 1): 0.8670164373843751, (3, 2): 0.9811638106790626, (3, 3): 0}\n",
            "iter    6   |   diff: 0.06529   |   V(start): 0.410 \n",
            "{(0, 0): 0.4681932056208766, (0, 1): 0.48974976590444796, (0, 2): 0.5867941505367135, (0, 3): 0.48974976590444796, (1, 0): 0.5388638092317551, (1, 1): 0, (1, 2): 0.6714193275836453, (1, 3): 0, (2, 0): 0.6456642008906867, (2, 1): 0.7689388468819341, (2, 2): 0.829502585690878, (2, 3): 0, (3, 0): 0, (3, 1): 0.8685593677312283, (3, 2): 0.9814651589878545, (3, 3): 0} {(0, 0): 0.4098715063375501, (0, 1): 0.48191234626710017, (0, 2): 0.5778564324968252, (0, 3): 0.48191234626710017, (1, 0): 0.5284727558687251, (1, 1): 0, (1, 2): 0.6708914066329313, (1, 3): 0, (2, 0): 0.63590436446625, (2, 1): 0.7677566998476469, (2, 2): 0.8289127501032658, (2, 3): 0, (3, 0): 0, (3, 1): 0.8679284897855627, (3, 2): 0.9814241162934985, (3, 3): 0}\n",
            "iter    7   |   diff: 0.05832   |   V(start): 0.468 \n",
            "{(0, 0): 0.4795871191963613, (0, 1): 0.4973420014004381, (0, 2): 0.5879271342741529, (0, 3): 0.4973420014004381, (1, 0): 0.5472368741368852, (1, 1): 0, (1, 2): 0.6718970944096112, (1, 3): 0, (2, 0): 0.6470893373897957, (2, 1): 0.7699155932584654, (2, 2): 0.8295890268898491, (2, 3): 0, (3, 0): 0, (3, 1): 0.8686741984377544, (3, 2): 0.9814935485105429, (3, 3): 0} {(0, 0): 0.4681932056208766, (0, 1): 0.48974976590444796, (0, 2): 0.5867941505367135, (0, 3): 0.48974976590444796, (1, 0): 0.5388638092317551, (1, 1): 0, (1, 2): 0.6714193275836453, (1, 3): 0, (2, 0): 0.6456642008906867, (2, 1): 0.7689388468819341, (2, 2): 0.829502585690878, (2, 3): 0, (3, 0): 0, (3, 1): 0.8685593677312283, (3, 2): 0.9814651589878545, (3, 3): 0}\n",
            "iter    8   |   diff: 0.01139   |   V(start): 0.480 \n",
            "{(0, 0): 0.487223678477733, (0, 1): 0.49860136882508355, (0, 2): 0.5889974265978245, (0, 3): 0.49860136882508355, (1, 0): 0.5487680226218943, (1, 1): 0, (1, 2): 0.6719671117807778, (1, 3): 0, (2, 0): 0.6482572898755168, (2, 1): 0.7700766271271651, (2, 2): 0.8296559759901707, (2, 3): 0, (3, 0): 0, (3, 1): 0.8687463149198696, (3, 2): 0.9814987158930177, (3, 3): 0} {(0, 0): 0.4795871191963613, (0, 1): 0.4973420014004381, (0, 2): 0.5879271342741529, (0, 3): 0.4973420014004381, (1, 0): 0.5472368741368852, (1, 1): 0, (1, 2): 0.6718970944096112, (1, 3): 0, (2, 0): 0.6470893373897957, (2, 1): 0.7699155932584654, (2, 2): 0.8295890268898491, (2, 3): 0, (3, 0): 0, (3, 1): 0.8686741984377544, (3, 2): 0.9814935485105429, (3, 3): 0}\n",
            "iter    9   |   diff: 0.00764   |   V(start): 0.487 \n",
            "{(0, 0): 0.48886422545236113, (0, 1): 0.4995249771413666, (0, 2): 0.5891674837366876, (0, 3): 0.4995249771413666, (1, 0): 0.5497829658171539, (1, 1): 0, (1, 2): 0.6720213405520383, (1, 3): 0, (2, 0): 0.648456628990989, (2, 1): 0.7701906120490504, (2, 2): 0.8296674080940668, (2, 3): 0, (3, 0): 0, (3, 1): 0.868760992265461, (3, 2): 0.9815019611347434, (3, 3): 0} {(0, 0): 0.487223678477733, (0, 1): 0.49860136882508355, (0, 2): 0.5889974265978245, (0, 3): 0.49860136882508355, (1, 0): 0.5487680226218943, (1, 1): 0, (1, 2): 0.6719671117807778, (1, 3): 0, (2, 0): 0.6482572898755168, (2, 1): 0.7700766271271651, (2, 2): 0.8296559759901707, (2, 3): 0, (3, 0): 0, (3, 1): 0.8687463149198696, (3, 2): 0.9814987158930177, (3, 3): 0}\n",
            "iter   10   |   diff: 0.00164   |   V(start): 0.489 \n",
            "{(0, 0): 0.4898017164286125, (0, 1): 0.49970428579807846, (0, 2): 0.5892945337898741, (0, 3): 0.49970428579807846, (1, 0): 0.549990102944473, (1, 1): 0, (1, 2): 0.6720306005561941, (1, 3): 0, (2, 0): 0.6485946292215028, (2, 1): 0.770211985403851, (2, 2): 0.8296751660613495, (2, 3): 0, (3, 0): 0, (3, 1): 0.8687694107132953, (3, 2): 0.9815026216152966, (3, 3): 0} {(0, 0): 0.48886422545236113, (0, 1): 0.4995249771413666, (0, 2): 0.5891674837366876, (0, 3): 0.4995249771413666, (1, 0): 0.5497829658171539, (1, 1): 0, (1, 2): 0.6720213405520383, (1, 3): 0, (2, 0): 0.648456628990989, (2, 1): 0.7701906120490504, (2, 2): 0.8296674080940668, (2, 3): 0, (3, 0): 0, (3, 1): 0.868760992265461, (3, 2): 0.9815019611347434, (3, 3): 0}\n",
            "iter   11   |   diff: 0.00094   |   V(start): 0.490 \n",
            "{(0, 0): 0.49001975348522425, (0, 1): 0.49981526523071157, (0, 2): 0.5893181721723444, (0, 3): 0.49981526523071157, (1, 0): 0.5501112043019185, (1, 1): 0, (1, 2): 0.6720368845096931, (1, 3): 0, (2, 0): 0.6486212628096206, (2, 1): 0.7702253634654975, (2, 2): 0.8296766628515636, (2, 3): 0, (3, 0): 0, (3, 1): 0.8687712863336619, (3, 2): 0.981503000445449, (3, 3): 0} {(0, 0): 0.4898017164286125, (0, 1): 0.49970428579807846, (0, 2): 0.5892945337898741, (0, 3): 0.49970428579807846, (1, 0): 0.549990102944473, (1, 1): 0, (1, 2): 0.6720306005561941, (1, 3): 0, (2, 0): 0.6485946292215028, (2, 1): 0.770211985403851, (2, 2): 0.8296751660613495, (2, 3): 0, (3, 0): 0, (3, 1): 0.8687694107132953, (3, 2): 0.9815026216152966, (3, 3): 0}\n",
            "iter   12   |   diff: 0.00022   |   V(start): 0.490 \n",
            "{(0, 0): 0.4901326513267711, (0, 1): 0.49983940639498103, (0, 2): 0.5893332503236156, (0, 3): 0.49983940639498103, (1, 0): 0.5501382270693791, (1, 1): 0, (1, 2): 0.6720380969097665, (1, 3): 0, (2, 0): 0.6486375486006394, (2, 1): 0.7702281485850194, (2, 2): 0.8296775717167612, (2, 3): 0, (3, 0): 0, (3, 1): 0.8687722796017759, (3, 2): 0.9815030848483656, (3, 3): 0} {(0, 0): 0.49001975348522425, (0, 1): 0.49981526523071157, (0, 2): 0.5893181721723444, (0, 3): 0.49981526523071157, (1, 0): 0.5501112043019185, (1, 1): 0, (1, 2): 0.6720368845096931, (1, 3): 0, (2, 0): 0.6486212628096206, (2, 1): 0.7702253634654975, (2, 2): 0.8296766628515636, (2, 3): 0, (3, 0): 0, (3, 1): 0.8687712863336619, (3, 2): 0.981503000445449, (3, 3): 0}\n",
            "iter   13   |   diff: 0.00011   |   V(start): 0.490 \n",
            "{(0, 0): 0.490160706523676, (0, 1): 0.4998527060499028, (0, 2): 0.5893364050724591, (0, 3): 0.4998527060499028, (1, 0): 0.55015263458464, (1, 1): 0, (1, 2): 0.6720388330905765, (1, 3): 0, (2, 0): 0.6486410205719878, (2, 1): 0.7702297268917216, (2, 2): 0.829677765413502, (2, 3): 0, (3, 0): 0, (3, 1): 0.868772517995582, (3, 2): 0.9815031295454307, (3, 3): 0} {(0, 0): 0.4901326513267711, (0, 1): 0.49983940639498103, (0, 2): 0.5893332503236156, (0, 3): 0.49983940639498103, (1, 0): 0.5501382270693791, (1, 1): 0, (1, 2): 0.6720380969097665, (1, 3): 0, (2, 0): 0.6486375486006394, (2, 1): 0.7702281485850194, (2, 2): 0.8296775717167612, (2, 3): 0, (3, 0): 0, (3, 1): 0.8687722796017759, (3, 2): 0.9815030848483656, (3, 3): 0}\n",
            "iter   14   |   diff: 0.00003   |   V(start): 0.490 \n",
            "{(0, 0): 0.49017423757936956, (0, 1): 0.4998558598809375, (0, 2): 0.5893381983478583, (0, 3): 0.4998558598809375, (1, 0): 0.550156095219619, (1, 1): 0, (1, 2): 0.6720389899849366, (1, 3): 0, (2, 0): 0.6486429473386034, (2, 1): 0.7702300849457685, (2, 2): 0.8296778726419264, (2, 3): 0, (3, 0): 0, (3, 1): 0.8687726359517276, (3, 2): 0.981503140273152, (3, 3): 0} {(0, 0): 0.490160706523676, (0, 1): 0.4998527060499028, (0, 2): 0.5893364050724591, (0, 3): 0.4998527060499028, (1, 0): 0.55015263458464, (1, 1): 0, (1, 2): 0.6720388330905765, (1, 3): 0, (2, 0): 0.6486410205719878, (2, 1): 0.7702297268917216, (2, 2): 0.829677765413502, (2, 3): 0, (3, 0): 0, (3, 1): 0.868772517995582, (3, 2): 0.9815031295454307, (3, 3): 0}\n",
            "iter   15   |   diff: 0.00001   |   V(start): 0.490 \n",
            "{(0, 0): 0.4901777915136052, (0, 1): 0.4998574543564074, (0, 2): 0.5893386092770829, (0, 3): 0.4998574543564074, (1, 0): 0.5501578116291517, (1, 1): 0, (1, 2): 0.6720390768399604, (1, 3): 0, (2, 0): 0.6486433930909554, (2, 1): 0.7702302720200231, (2, 2): 0.8296778974438127, (2, 3): 0, (3, 0): 0, (3, 1): 0.8687726660616405, (3, 2): 0.9815031455811786, (3, 3): 0} {(0, 0): 0.49017423757936956, (0, 1): 0.4998558598809375, (0, 2): 0.5893381983478583, (0, 3): 0.4998558598809375, (1, 0): 0.550156095219619, (1, 1): 0, (1, 2): 0.6720389899849366, (1, 3): 0, (2, 0): 0.6486429473386034, (2, 1): 0.7702300849457685, (2, 2): 0.8296778726419264, (2, 3): 0, (3, 0): 0, (3, 1): 0.8687726359517276, (3, 2): 0.981503140273152, (3, 3): 0}\n",
            "iter   16   |   diff: 0.00000   |   V(start): 0.490 \n",
            "average reward:  0.887\n",
            "Well done!\n"
          ]
        }
      ]
    },
    {
      "cell_type": "code",
      "source": [
        "# Measure agent's average reward\n",
        "mdp = FrozenLakeEnv(slip_chance=0.25)\n",
        "state_values = value_iteration(mdp)\n",
        "\n",
        "total_rewards = []\n",
        "for game_i in range(1000):\n",
        "    s = mdp.reset()\n",
        "    rewards = []\n",
        "    for t in range(100):\n",
        "        s, r, done, _ = mdp.step(\n",
        "            get_optimal_action(mdp, state_values, s, gamma))\n",
        "        rewards.append(r)\n",
        "        if done:\n",
        "            break\n",
        "    total_rewards.append(np.sum(rewards))\n",
        "\n",
        "print(\"average reward: \", np.mean(total_rewards))\n",
        "assert(0.6 <= np.mean(total_rewards) <= 0.7)\n",
        "print(\"Well done!\")"
      ],
      "metadata": {
        "id": "lrecp1byjkq7",
        "colab": {
          "base_uri": "https://localhost:8080/"
        },
        "outputId": "bd2693a9-3cc0-4ff7-c4a1-b100a23abfd5"
      },
      "execution_count": 87,
      "outputs": [
        {
          "output_type": "stream",
          "name": "stdout",
          "text": [
            "{(0, 0): 0.0, (0, 1): 0.0, (0, 2): 0.0, (0, 3): 0.0, (1, 0): 0.0, (1, 1): 0, (1, 2): 0.0, (1, 3): 0, (2, 0): 0.0, (2, 1): 0.0, (2, 2): 0.0, (2, 3): 0, (3, 0): 0, (3, 1): 0.0, (3, 2): 0.75, (3, 3): 0} {(0, 0): 0, (0, 1): 0, (0, 2): 0, (0, 3): 0, (1, 0): 0, (1, 1): 0, (1, 2): 0, (1, 3): 0, (2, 0): 0, (2, 1): 0, (2, 2): 0, (2, 3): 0, (3, 0): 0, (3, 1): 0, (3, 2): 0, (3, 3): 0}\n",
            "iter    0   |   diff: 0.75000   |   V(start): 0.000 \n",
            "{(0, 0): 0.0, (0, 1): 0.0, (0, 2): 0.0, (0, 3): 0.0, (1, 0): 0.0, (1, 1): 0, (1, 2): 0.0, (1, 3): 0, (2, 0): 0.0, (2, 1): 0.0, (2, 2): 0.5062500000000001, (2, 3): 0, (3, 0): 0, (3, 1): 0.5062500000000001, (3, 2): 0.834375, (3, 3): 0} {(0, 0): 0.0, (0, 1): 0.0, (0, 2): 0.0, (0, 3): 0.0, (1, 0): 0.0, (1, 1): 0, (1, 2): 0.0, (1, 3): 0, (2, 0): 0.0, (2, 1): 0.0, (2, 2): 0.0, (2, 3): 0, (3, 0): 0, (3, 1): 0.0, (3, 2): 0.75, (3, 3): 0}\n",
            "iter    1   |   diff: 0.50625   |   V(start): 0.000 \n",
            "{(0, 0): 0.0, (0, 1): 0.0, (0, 2): 0.0, (0, 3): 0.0, (1, 0): 0.0, (1, 1): 0, (1, 2): 0.34171875000000007, (1, 3): 0, (2, 0): 0.0, (2, 1): 0.39867187500000006, (2, 2): 0.563203125, (2, 3): 0, (3, 0): 0, (3, 1): 0.6201562500000001, (3, 2): 0.9008203125, (3, 3): 0} {(0, 0): 0.0, (0, 1): 0.0, (0, 2): 0.0, (0, 3): 0.0, (1, 0): 0.0, (1, 1): 0, (1, 2): 0.0, (1, 3): 0, (2, 0): 0.0, (2, 1): 0.0, (2, 2): 0.5062500000000001, (2, 3): 0, (3, 0): 0, (3, 1): 0.5062500000000001, (3, 2): 0.834375, (3, 3): 0}\n",
            "iter    2   |   diff: 0.39867   |   V(start): 0.000 \n",
            "{(0, 0): 0.0, (0, 1): 0.0, (0, 2): 0.23066015625000003, (0, 3): 0.0, (1, 0): 0.0, (1, 1): 0, (1, 2): 0.380162109375, (1, 3): 0, (2, 0): 0.269103515625, (2, 1): 0.4819658203125, (2, 2): 0.6529042968750001, (2, 3): 0, (3, 0): 0, (3, 1): 0.7226718750000001, (3, 2): 0.91470263671875, (3, 3): 0} {(0, 0): 0.0, (0, 1): 0.0, (0, 2): 0.0, (0, 3): 0.0, (1, 0): 0.0, (1, 1): 0, (1, 2): 0.34171875000000007, (1, 3): 0, (2, 0): 0.0, (2, 1): 0.39867187500000006, (2, 2): 0.563203125, (2, 3): 0, (3, 0): 0, (3, 1): 0.6201562500000001, (3, 2): 0.9008203125, (3, 3): 0}\n",
            "iter    3   |   diff: 0.26910   |   V(start): 0.000 \n",
            "{(0, 0): 0.0, (0, 1): 0.15569560546875003, (0, 2): 0.256609423828125, (0, 3): 0.15569560546875003, (1, 0): 0.18164487304687502, (1, 1): 0, (1, 2): 0.44071040039062503, (1, 3): 0, (2, 0): 0.3253269287109375, (2, 1): 0.5915293945312501, (2, 2): 0.6716454345703124, (2, 3): 0, (3, 0): 0, (3, 1): 0.7529460205078125, (3, 2): 0.9263557800292969, (3, 3): 0} {(0, 0): 0.0, (0, 1): 0.0, (0, 2): 0.23066015625000003, (0, 3): 0.0, (1, 0): 0.0, (1, 1): 0, (1, 2): 0.380162109375, (1, 3): 0, (2, 0): 0.269103515625, (2, 1): 0.4819658203125, (2, 2): 0.6529042968750001, (2, 3): 0, (3, 0): 0, (3, 1): 0.7226718750000001, (3, 2): 0.91470263671875, (3, 3): 0}\n",
            "iter    4   |   diff: 0.18164   |   V(start): 0.000 \n",
            "{(0, 0): 0.14012604492187503, (0, 1): 0.19072711669921877, (0, 2): 0.3325110314941407, (0, 3): 0.19072711669921877, (1, 0): 0.24003072509765627, (1, 1): 0, (1, 2): 0.4533606683349609, (1, 3): 0, (2, 0): 0.4197173895263673, (2, 1): 0.6203979547119141, (2, 2): 0.691837208404541, (2, 3): 0, (3, 0): 0, (3, 1): 0.77654363571167, (3, 2): 0.929775136642456, (3, 3): 0} {(0, 0): 0.0, (0, 1): 0.15569560546875003, (0, 2): 0.256609423828125, (0, 3): 0.15569560546875003, (1, 0): 0.18164487304687502, (1, 1): 0, (1, 2): 0.44071040039062503, (1, 3): 0, (2, 0): 0.3253269287109375, (2, 1): 0.5915293945312501, (2, 2): 0.6716454345703124, (2, 3): 0, (3, 0): 0, (3, 1): 0.7529460205078125, (3, 2): 0.9263557800292969, (3, 3): 0}\n",
            "iter    5   |   diff: 0.14013   |   V(start): 0.140 \n",
            "{(0, 0): 0.19924172012329106, (0, 1): 0.24590174688720712, (0, 2): 0.3489320523834229, (0, 3): 0.24590174688720712, (1, 0): 0.3103126945037843, (1, 1): 0, (1, 2): 0.46699011567306514, (1, 3): 0, (2, 0): 0.44577207600402835, (2, 1): 0.6492168463726045, (2, 2): 0.6973929871387482, (2, 3): 0, (3, 0): 0, (3, 1): 0.7847541461563111, (3, 2): 0.9324313888177871, (3, 3): 0} {(0, 0): 0.14012604492187503, (0, 1): 0.19072711669921877, (0, 2): 0.3325110314941407, (0, 3): 0.19072711669921877, (1, 0): 0.24003072509765627, (1, 1): 0, (1, 2): 0.4533606683349609, (1, 3): 0, (2, 0): 0.4197173895263673, (2, 1): 0.6203979547119141, (2, 2): 0.691837208404541, (2, 3): 0, (3, 0): 0, (3, 1): 0.77654363571167, (3, 2): 0.929775136642456, (3, 3): 0}\n",
            "iter    6   |   diff: 0.07028   |   V(start): 0.199 \n",
            "{(0, 0): 0.25953970882873545, (0, 1): 0.2631930818836213, (0, 2): 0.3705462211289406, (0, 3): 0.2631930818836213, (1, 0): 0.33580632943439487, (1, 1): 0, (1, 2): 0.470740266318655, (1, 3): 0, (2, 0): 0.47313154943318375, (2, 1): 0.6583151182590724, (2, 2): 0.7024280826689243, (2, 3): 0, (3, 0): 0, (3, 1): 0.7907129241115093, (3, 2): 0.9333552422951101, (3, 3): 0} {(0, 0): 0.19924172012329106, (0, 1): 0.24590174688720712, (0, 2): 0.3489320523834229, (0, 3): 0.24590174688720712, (1, 0): 0.3103126945037843, (1, 1): 0, (1, 2): 0.46699011567306514, (1, 3): 0, (2, 0): 0.44577207600402835, (2, 1): 0.6492168463726045, (2, 2): 0.6973929871387482, (2, 3): 0, (3, 0): 0, (3, 1): 0.7847541461563111, (3, 2): 0.9324313888177871, (3, 3): 0}\n",
            "iter    7   |   diff: 0.06030   |   V(start): 0.260 \n",
            "{(0, 0): 0.28547671132335667, (0, 1): 0.2797279209739423, (0, 2): 0.37696812318890693, (0, 3): 0.2797279209739423, (1, 0): 0.3571420079287685, (1, 1): 0, (1, 2): 0.4741389558015239, (1, 3): 0, (2, 0): 0.4821409168862434, (2, 1): 0.6659816823867558, (2, 2): 0.704075239353345, (2, 3): 0, (3, 0): 0, (3, 1): 0.7930304433158898, (3, 2): 0.9340256240584538, (3, 3): 0} {(0, 0): 0.25953970882873545, (0, 1): 0.2631930818836213, (0, 2): 0.3705462211289406, (0, 3): 0.2631930818836213, (1, 0): 0.33580632943439487, (1, 1): 0, (1, 2): 0.470740266318655, (1, 3): 0, (2, 0): 0.47313154943318375, (2, 1): 0.6583151182590724, (2, 2): 0.7024280826689243, (2, 3): 0, (3, 0): 0, (3, 1): 0.7907129241115093, (3, 2): 0.9333552422951101, (3, 3): 0}\n",
            "iter    8   |   diff: 0.02594   |   V(start): 0.285 \n",
            "{(0, 0): 0.3046563764853649, (0, 1): 0.28592287426208074, (0, 2): 0.3829825773851656, (0, 3): 0.28592287426208074, (1, 0): 0.36562359479020073, (1, 1): 0, (1, 2): 0.47525078656350794, (1, 3): 0, (2, 0): 0.48971611150304667, (2, 1): 0.6687448668151794, (2, 2): 0.7053902355079664, (2, 3): 0, (3, 0): 0, (3, 1): 0.7946061603810041, (3, 2): 0.9342863471338274, (3, 3): 0} {(0, 0): 0.28547671132335667, (0, 1): 0.2797279209739423, (0, 2): 0.37696812318890693, (0, 3): 0.2797279209739423, (1, 0): 0.3571420079287685, (1, 1): 0, (1, 2): 0.4741389558015239, (1, 3): 0, (2, 0): 0.4821409168862434, (2, 1): 0.6659816823867558, (2, 2): 0.704075239353345, (2, 3): 0, (3, 0): 0, (3, 1): 0.7930304433158898, (3, 2): 0.9340256240584538, (3, 3): 0}\n",
            "iter    9   |   diff: 0.01918   |   V(start): 0.305 \n",
            "{(0, 0): 0.31323609219247317, (0, 1): 0.2906795630894709, (0, 2): 0.3851269276393361, (0, 3): 0.2906795630894709, (1, 0): 0.3716910296784541, (1, 1): 0, (1, 2): 0.4761384089678773, (1, 3): 0, (2, 0): 0.4925354395141437, (2, 1): 0.6708086222959166, (2, 2): 0.7058770818320412, (2, 3): 0, (3, 0): 0, (3, 1): 0.7952702748749042, (3, 2): 0.9344636155472018, (3, 3): 0} {(0, 0): 0.3046563764853649, (0, 1): 0.28592287426208074, (0, 2): 0.3829825773851656, (0, 3): 0.28592287426208074, (1, 0): 0.36562359479020073, (1, 1): 0, (1, 2): 0.47525078656350794, (1, 3): 0, (2, 0): 0.48971611150304667, (2, 1): 0.6687448668151794, (2, 2): 0.7053902355079664, (2, 3): 0, (3, 0): 0, (3, 1): 0.7946061603810041, (3, 2): 0.9342863471338274, (3, 3): 0}\n",
            "iter   10   |   diff: 0.00858   |   V(start): 0.313 \n",
            "{(0, 0): 0.3188319562521752, (0, 1): 0.29266212700411737, (0, 2): 0.38679632774844813, (0, 3): 0.29266212700411737, (1, 0): 0.3742766625108731, (1, 1): 0, (1, 2): 0.47646703023662784, (1, 3): 0, (2, 0): 0.4946110608885698, (2, 1): 0.6716288441920062, (2, 2): 0.7062289105026518, (2, 3): 0, (3, 0): 0, (3, 1): 0.7956968164260785, (3, 2): 0.9345383284551648, (3, 3): 0} {(0, 0): 0.31323609219247317, (0, 1): 0.2906795630894709, (0, 2): 0.3851269276393361, (0, 3): 0.2906795630894709, (1, 0): 0.3716910296784541, (1, 1): 0, (1, 2): 0.4761384089678773, (1, 3): 0, (2, 0): 0.4925354395141437, (2, 1): 0.6708086222959166, (2, 2): 0.7058770818320412, (2, 3): 0, (3, 0): 0, (3, 1): 0.7952702748749042, (3, 2): 0.9344636155472018, (3, 3): 0}\n",
            "iter   11   |   diff: 0.00560   |   V(start): 0.319 \n",
            "{(0, 0): 0.3214298315611723, (0, 1): 0.2940120105181657, (0, 2): 0.3874642239856502, (0, 3): 0.2940120105181657, (1, 0): 0.37596859063225785, (1, 1): 0, (1, 2): 0.47670451458929, (1, 3): 0, (2, 0): 0.4954555943620774, (2, 1): 0.6721898478691154, (2, 2): 0.706371616678837, (2, 3): 0, (3, 0): 0, (3, 1): 0.7958875085267708, (3, 2): 0.9345863143827543, (3, 3): 0} {(0, 0): 0.3188319562521752, (0, 1): 0.29266212700411737, (0, 2): 0.38679632774844813, (0, 3): 0.29266212700411737, (1, 0): 0.3742766625108731, (1, 1): 0, (1, 2): 0.47646703023662784, (1, 3): 0, (2, 0): 0.4946110608885698, (2, 1): 0.6716288441920062, (2, 2): 0.7062289105026518, (2, 3): 0, (3, 0): 0, (3, 1): 0.7956968164260785, (3, 2): 0.9345383284551648, (3, 3): 0}\n",
            "iter   12   |   diff: 0.00260   |   V(start): 0.321 \n",
            "{(0, 0): 0.32301600591069957, (0, 1): 0.29461470237360754, (0, 2): 0.387928249714358, (0, 3): 0.29461470237360754, (1, 0): 0.3767289926405312, (1, 1): 0, (1, 2): 0.476800841258215, (1, 3): 0, (2, 0): 0.4960246137577819, (2, 1): 0.6724296294976733, (2, 2): 0.7064671200936347, (2, 3): 0, (3, 0): 0, (3, 1): 0.7960044648028964, (3, 2): 0.9346077672444291, (3, 3): 0} {(0, 0): 0.3214298315611723, (0, 1): 0.2940120105181657, (0, 2): 0.3874642239856502, (0, 3): 0.2940120105181657, (1, 0): 0.37596859063225785, (1, 1): 0, (1, 2): 0.47670451458929, (1, 3): 0, (2, 0): 0.4954555943620774, (2, 1): 0.6721898478691154, (2, 2): 0.706371616678837, (2, 3): 0, (3, 0): 0, (3, 1): 0.7958875085267708, (3, 2): 0.9345863143827543, (3, 3): 0}\n",
            "iter   13   |   diff: 0.00159   |   V(start): 0.323 \n",
            "{(0, 0): 0.3237755247143432, (0, 1): 0.2949957225742226, (0, 2): 0.38812887588335687, (0, 3): 0.2949957225742226, (1, 0): 0.3771986259585626, (1, 1): 0, (1, 2): 0.47686530606320343, (1, 3): 0, (2, 0): 0.4962720115829893, (2, 1): 0.6725833338002395, (2, 2): 0.706508576208478, (2, 3): 0, (3, 0): 0, (3, 1): 0.7960590784988038, (3, 2): 0.9346209248255322, (3, 3): 0} {(0, 0): 0.32301600591069957, (0, 1): 0.29461470237360754, (0, 2): 0.387928249714358, (0, 3): 0.29461470237360754, (1, 0): 0.3767289926405312, (1, 1): 0, (1, 2): 0.476800841258215, (1, 3): 0, (2, 0): 0.4960246137577819, (2, 1): 0.6724296294976733, (2, 2): 0.7064671200936347, (2, 3): 0, (3, 0): 0, (3, 1): 0.7960044648028964, (3, 2): 0.9346077672444291, (3, 3): 0}\n",
            "iter   14   |   diff: 0.00076   |   V(start): 0.324 \n",
            "{(0, 0): 0.3242208378419934, (0, 1): 0.29517401001086596, (0, 2): 0.3882581191718625, (0, 3): 0.29517401001086596, (1, 0): 0.37741845323885603, (1, 1): 0, (1, 2): 0.47689328894072264, (1, 3): 0, (2, 0): 0.4964285957354999, (2, 1): 0.6726526941132326, (2, 2): 0.7065347493097611, (2, 3): 0, (3, 0): 0, (3, 1): 0.7960913956408766, (3, 2): 0.9346270688663261, (3, 3): 0} {(0, 0): 0.3237755247143432, (0, 1): 0.2949957225742226, (0, 2): 0.38812887588335687, (0, 3): 0.2949957225742226, (1, 0): 0.3771986259585626, (1, 1): 0, (1, 2): 0.47686530606320343, (1, 3): 0, (2, 0): 0.4962720115829893, (2, 1): 0.6725833338002395, (2, 2): 0.706508576208478, (2, 3): 0, (3, 0): 0, (3, 1): 0.7960590784988038, (3, 2): 0.9346209248255322, (3, 3): 0}\n",
            "iter   15   |   diff: 0.00045   |   V(start): 0.324 \n",
            "{(0, 0): 0.3244393763196745, (0, 1): 0.2952813065672296, (0, 2): 0.38831712228743265, (0, 3): 0.2952813065672296, (1, 0): 0.3775488781108338, (1, 1): 0, (1, 2): 0.4769109557840888, (1, 3): 0, (2, 0): 0.49650014451580327, (2, 1): 0.6726950683751836, (2, 2): 0.7065466995725088, (2, 3): 0, (3, 0): 0, (3, 1): 0.7961069815821075, (3, 2): 0.9346307045448098, (3, 3): 0} {(0, 0): 0.3242208378419934, (0, 1): 0.29517401001086596, (0, 2): 0.3882581191718625, (0, 3): 0.29517401001086596, (1, 0): 0.37741845323885603, (1, 1): 0, (1, 2): 0.47689328894072264, (1, 3): 0, (2, 0): 0.4964285957354999, (2, 1): 0.6726526941132326, (2, 2): 0.7065347493097611, (2, 3): 0, (3, 0): 0, (3, 1): 0.7960913956408766, (3, 2): 0.9346270688663261, (3, 3): 0}\n",
            "iter   16   |   diff: 0.00022   |   V(start): 0.324 \n",
            "{(0, 0): 0.32456406954958955, (0, 1): 0.2953332045328304, (0, 2): 0.38835318913188666, (0, 3): 0.2953332045328304, (1, 0): 0.37761184633563605, (1, 1): 0, (1, 2): 0.47691902221144344, (1, 3): 0, (2, 0): 0.49654341994071777, (2, 1): 0.6727149825278577, (2, 2): 0.7065539207599548, (2, 3): 0, (3, 0): 0, (3, 1): 0.796115956187942, (3, 2): 0.9346324579631984, (3, 3): 0} {(0, 0): 0.3244393763196745, (0, 1): 0.2952813065672296, (0, 2): 0.38831712228743265, (0, 3): 0.2952813065672296, (1, 0): 0.3775488781108338, (1, 1): 0, (1, 2): 0.4769109557840888, (1, 3): 0, (2, 0): 0.49650014451580327, (2, 1): 0.6726950683751836, (2, 2): 0.7065466995725088, (2, 3): 0, (3, 0): 0, (3, 1): 0.7961069815821075, (3, 2): 0.9346307045448098, (3, 3): 0}\n",
            "iter   17   |   diff: 0.00012   |   V(start): 0.325 \n",
            "{(0, 0): 0.32462643961082654, (0, 1): 0.2953633881739669, (0, 2): 0.38837031101261116, (0, 3): 0.2953633881739669, (1, 0): 0.37764814117274353, (1, 1): 0, (1, 2): 0.4769238965129695, (1, 3): 0, (2, 0): 0.496563945919063, (2, 1): 0.6727267212556864, (2, 2): 0.7065573446595429, (2, 3): 0, (3, 0): 0, (3, 1): 0.7961203897306863, (3, 2): 0.9346334676063548, (3, 3): 0} {(0, 0): 0.32456406954958955, (0, 1): 0.2953332045328304, (0, 2): 0.38835318913188666, (0, 3): 0.2953332045328304, (1, 0): 0.37761184633563605, (1, 1): 0, (1, 2): 0.47691902221144344, (1, 3): 0, (2, 0): 0.49654341994071777, (2, 1): 0.6727149825278577, (2, 2): 0.7065539207599548, (2, 3): 0, (3, 0): 0, (3, 1): 0.796115956187942, (3, 2): 0.9346324579631984, (3, 3): 0}\n",
            "iter   18   |   diff: 0.00006   |   V(start): 0.325 \n",
            "{(0, 0): 0.3246613509173911, (0, 1): 0.2953783411030838, (0, 2): 0.38838039248539696, (0, 3): 0.2953783411030838, (1, 0): 0.3776660793773012, (1, 1): 0, (1, 2): 0.47692620764519145, (1, 3): 0, (2, 0): 0.49657595272952204, (2, 1): 0.6727324082583065, (2, 2): 0.7065593467755542, (2, 3): 0, (3, 0): 0, (3, 1): 0.7961228906202564, (3, 2): 0.9346339663799135, (3, 3): 0} {(0, 0): 0.32462643961082654, (0, 1): 0.2953633881739669, (0, 2): 0.38837031101261116, (0, 3): 0.2953633881739669, (1, 0): 0.37764814117274353, (1, 1): 0, (1, 2): 0.4769238965129695, (1, 3): 0, (2, 0): 0.496563945919063, (2, 1): 0.6727267212556864, (2, 2): 0.7065573446595429, (2, 3): 0, (3, 0): 0, (3, 1): 0.7961203897306863, (3, 2): 0.9346334676063548, (3, 3): 0}\n",
            "iter   19   |   diff: 0.00003   |   V(start): 0.325 \n",
            "{(0, 0): 0.32467906893198173, (0, 1): 0.2953868283017399, (0, 2): 0.38838531690869815, (0, 3): 0.2953868283017399, (1, 0): 0.37767620202237373, (1, 1): 0, (1, 2): 0.47692755907349915, (1, 3): 0, (2, 0): 0.49658180950430325, (2, 1): 0.6727356723629943, (2, 2): 0.7065603232355011, (2, 3): 0, (3, 0): 0, (3, 1): 0.79612414843028, (3, 2): 0.9346342477299902, (3, 3): 0} {(0, 0): 0.3246613509173911, (0, 1): 0.2953783411030838, (0, 2): 0.38838039248539696, (0, 3): 0.2953783411030838, (1, 0): 0.3776660793773012, (1, 1): 0, (1, 2): 0.47692620764519145, (1, 3): 0, (2, 0): 0.49657595272952204, (2, 1): 0.6727324082583065, (2, 2): 0.7065593467755542, (2, 3): 0, (3, 0): 0, (3, 1): 0.7961228906202564, (3, 2): 0.9346339663799135, (3, 3): 0}\n",
            "iter   20   |   diff: 0.00002   |   V(start): 0.325 \n",
            "{(0, 0): 0.324688849803896, (0, 1): 0.29539110709731703, (0, 2): 0.38838813874250344, (0, 3): 0.29539110709731703, (1, 0): 0.37768129414292173, (1, 1): 0, (1, 2): 0.47692821818396325, (1, 3): 0, (2, 0): 0.4965851515725382, (2, 1): 0.672737290123667, (2, 2): 0.7065608803585802, (2, 3): 0, (3, 0): 0, (3, 1): 0.7961248470569867, (3, 2): 0.9346343892336177, (3, 3): 0} {(0, 0): 0.32467906893198173, (0, 1): 0.2953868283017399, (0, 2): 0.38838531690869815, (0, 3): 0.2953868283017399, (1, 0): 0.37767620202237373, (1, 1): 0, (1, 2): 0.47692755907349915, (1, 3): 0, (2, 0): 0.49658180950430325, (2, 1): 0.6727356723629943, (2, 2): 0.7065603232355011, (2, 3): 0, (3, 0): 0, (3, 1): 0.79612414843028, (3, 2): 0.9346342477299902, (3, 3): 0}\n",
            "iter   21   |   diff: 0.00001   |   V(start): 0.325 \n",
            "average reward:  0.645\n",
            "Well done!\n"
          ]
        }
      ]
    },
    {
      "cell_type": "code",
      "source": [
        "# Measure agent's average reward\n",
        "mdp = FrozenLakeEnv(slip_chance=0.2, map_name='8x8')\n",
        "state_values = value_iteration(mdp)\n",
        "\n",
        "total_rewards = []\n",
        "for game_i in range(1000):\n",
        "    s = mdp.reset()\n",
        "    rewards = []\n",
        "    for t in range(100):\n",
        "        s, r, done, _ = mdp.step(\n",
        "            get_optimal_action(mdp, state_values, s, gamma))\n",
        "        rewards.append(r)\n",
        "        if done:\n",
        "            break\n",
        "    total_rewards.append(np.sum(rewards))\n",
        "\n",
        "print(\"average reward: \", np.mean(total_rewards))\n",
        "assert(0.6 <= np.mean(total_rewards) <= 0.8)\n",
        "print(\"Well done!\")"
      ],
      "metadata": {
        "id": "wxE4bt9WjlTg",
        "colab": {
          "base_uri": "https://localhost:8080/"
        },
        "outputId": "b8a2c43f-60b7-4847-fbae-3e31a92c4dfa"
      },
      "execution_count": 88,
      "outputs": [
        {
          "output_type": "stream",
          "name": "stdout",
          "text": [
            "{(0, 0): 0.0, (0, 1): 0.0, (0, 2): 0.0, (0, 3): 0.0, (0, 4): 0.0, (0, 5): 0.0, (0, 6): 0.0, (0, 7): 0.0, (1, 0): 0.0, (1, 1): 0.0, (1, 2): 0.0, (1, 3): 0.0, (1, 4): 0.0, (1, 5): 0.0, (1, 6): 0.0, (1, 7): 0.0, (2, 0): 0.0, (2, 1): 0.0, (2, 2): 0.0, (2, 3): 0, (2, 4): 0.0, (2, 5): 0.0, (2, 6): 0.0, (2, 7): 0.0, (3, 0): 0.0, (3, 1): 0.0, (3, 2): 0.0, (3, 3): 0.0, (3, 4): 0.0, (3, 5): 0, (3, 6): 0.0, (3, 7): 0.0, (4, 0): 0.0, (4, 1): 0.0, (4, 2): 0.0, (4, 3): 0, (4, 4): 0.0, (4, 5): 0.0, (4, 6): 0.0, (4, 7): 0.0, (5, 0): 0.0, (5, 1): 0, (5, 2): 0, (5, 3): 0.0, (5, 4): 0.0, (5, 5): 0.0, (5, 6): 0, (5, 7): 0.0, (6, 0): 0.0, (6, 1): 0, (6, 2): 0.0, (6, 3): 0.0, (6, 4): 0, (6, 5): 0.0, (6, 6): 0, (6, 7): 0.8, (7, 0): 0.0, (7, 1): 0.0, (7, 2): 0.0, (7, 3): 0, (7, 4): 0.0, (7, 5): 0.0, (7, 6): 0.8, (7, 7): 0} {(0, 0): 0, (0, 1): 0, (0, 2): 0, (0, 3): 0, (0, 4): 0, (0, 5): 0, (0, 6): 0, (0, 7): 0, (1, 0): 0, (1, 1): 0, (1, 2): 0, (1, 3): 0, (1, 4): 0, (1, 5): 0, (1, 6): 0, (1, 7): 0, (2, 0): 0, (2, 1): 0, (2, 2): 0, (2, 3): 0, (2, 4): 0, (2, 5): 0, (2, 6): 0, (2, 7): 0, (3, 0): 0, (3, 1): 0, (3, 2): 0, (3, 3): 0, (3, 4): 0, (3, 5): 0, (3, 6): 0, (3, 7): 0, (4, 0): 0, (4, 1): 0, (4, 2): 0, (4, 3): 0, (4, 4): 0, (4, 5): 0, (4, 6): 0, (4, 7): 0, (5, 0): 0, (5, 1): 0, (5, 2): 0, (5, 3): 0, (5, 4): 0, (5, 5): 0, (5, 6): 0, (5, 7): 0, (6, 0): 0, (6, 1): 0, (6, 2): 0, (6, 3): 0, (6, 4): 0, (6, 5): 0, (6, 6): 0, (6, 7): 0, (7, 0): 0, (7, 1): 0, (7, 2): 0, (7, 3): 0, (7, 4): 0, (7, 5): 0, (7, 6): 0, (7, 7): 0}\n",
            "iter    0   |   diff: 0.80000   |   V(start): 0.000 \n",
            "{(0, 0): 0.0, (0, 1): 0.0, (0, 2): 0.0, (0, 3): 0.0, (0, 4): 0.0, (0, 5): 0.0, (0, 6): 0.0, (0, 7): 0.0, (1, 0): 0.0, (1, 1): 0.0, (1, 2): 0.0, (1, 3): 0.0, (1, 4): 0.0, (1, 5): 0.0, (1, 6): 0.0, (1, 7): 0.0, (2, 0): 0.0, (2, 1): 0.0, (2, 2): 0.0, (2, 3): 0, (2, 4): 0.0, (2, 5): 0.0, (2, 6): 0.0, (2, 7): 0.0, (3, 0): 0.0, (3, 1): 0.0, (3, 2): 0.0, (3, 3): 0.0, (3, 4): 0.0, (3, 5): 0, (3, 6): 0.0, (3, 7): 0.0, (4, 0): 0.0, (4, 1): 0.0, (4, 2): 0.0, (4, 3): 0, (4, 4): 0.0, (4, 5): 0.0, (4, 6): 0.0, (4, 7): 0.0, (5, 0): 0.0, (5, 1): 0, (5, 2): 0, (5, 3): 0.0, (5, 4): 0.0, (5, 5): 0.0, (5, 6): 0, (5, 7): 0.5760000000000001, (6, 0): 0.0, (6, 1): 0, (6, 2): 0.0, (6, 3): 0.0, (6, 4): 0, (6, 5): 0.0, (6, 6): 0, (6, 7): 0.8720000000000001, (7, 0): 0.0, (7, 1): 0.0, (7, 2): 0.0, (7, 3): 0, (7, 4): 0.0, (7, 5): 0.5760000000000001, (7, 6): 0.8720000000000001, (7, 7): 0} {(0, 0): 0.0, (0, 1): 0.0, (0, 2): 0.0, (0, 3): 0.0, (0, 4): 0.0, (0, 5): 0.0, (0, 6): 0.0, (0, 7): 0.0, (1, 0): 0.0, (1, 1): 0.0, (1, 2): 0.0, (1, 3): 0.0, (1, 4): 0.0, (1, 5): 0.0, (1, 6): 0.0, (1, 7): 0.0, (2, 0): 0.0, (2, 1): 0.0, (2, 2): 0.0, (2, 3): 0, (2, 4): 0.0, (2, 5): 0.0, (2, 6): 0.0, (2, 7): 0.0, (3, 0): 0.0, (3, 1): 0.0, (3, 2): 0.0, (3, 3): 0.0, (3, 4): 0.0, (3, 5): 0, (3, 6): 0.0, (3, 7): 0.0, (4, 0): 0.0, (4, 1): 0.0, (4, 2): 0.0, (4, 3): 0, (4, 4): 0.0, (4, 5): 0.0, (4, 6): 0.0, (4, 7): 0.0, (5, 0): 0.0, (5, 1): 0, (5, 2): 0, (5, 3): 0.0, (5, 4): 0.0, (5, 5): 0.0, (5, 6): 0, (5, 7): 0.0, (6, 0): 0.0, (6, 1): 0, (6, 2): 0.0, (6, 3): 0.0, (6, 4): 0, (6, 5): 0.0, (6, 6): 0, (6, 7): 0.8, (7, 0): 0.0, (7, 1): 0.0, (7, 2): 0.0, (7, 3): 0, (7, 4): 0.0, (7, 5): 0.0, (7, 6): 0.8, (7, 7): 0}\n",
            "iter    1   |   diff: 0.57600   |   V(start): 0.000 \n",
            "{(0, 0): 0.0, (0, 1): 0.0, (0, 2): 0.0, (0, 3): 0.0, (0, 4): 0.0, (0, 5): 0.0, (0, 6): 0.0, (0, 7): 0.0, (1, 0): 0.0, (1, 1): 0.0, (1, 2): 0.0, (1, 3): 0.0, (1, 4): 0.0, (1, 5): 0.0, (1, 6): 0.0, (1, 7): 0.0, (2, 0): 0.0, (2, 1): 0.0, (2, 2): 0.0, (2, 3): 0, (2, 4): 0.0, (2, 5): 0.0, (2, 6): 0.0, (2, 7): 0.0, (3, 0): 0.0, (3, 1): 0.0, (3, 2): 0.0, (3, 3): 0.0, (3, 4): 0.0, (3, 5): 0, (3, 6): 0.0, (3, 7): 0.0, (4, 0): 0.0, (4, 1): 0.0, (4, 2): 0.0, (4, 3): 0, (4, 4): 0.0, (4, 5): 0.0, (4, 6): 0.0, (4, 7): 0.4147200000000001, (5, 0): 0.0, (5, 1): 0, (5, 2): 0, (5, 3): 0.0, (5, 4): 0.0, (5, 5): 0.0, (5, 6): 0, (5, 7): 0.6796800000000002, (6, 0): 0.0, (6, 1): 0, (6, 2): 0.0, (6, 3): 0.0, (6, 4): 0, (6, 5): 0.4147200000000001, (6, 6): 0, (6, 7): 0.87848, (7, 0): 0.0, (7, 1): 0.0, (7, 2): 0.0, (7, 3): 0, (7, 4): 0.4147200000000001, (7, 5): 0.6796800000000002, (7, 6): 0.87848, (7, 7): 0} {(0, 0): 0.0, (0, 1): 0.0, (0, 2): 0.0, (0, 3): 0.0, (0, 4): 0.0, (0, 5): 0.0, (0, 6): 0.0, (0, 7): 0.0, (1, 0): 0.0, (1, 1): 0.0, (1, 2): 0.0, (1, 3): 0.0, (1, 4): 0.0, (1, 5): 0.0, (1, 6): 0.0, (1, 7): 0.0, (2, 0): 0.0, (2, 1): 0.0, (2, 2): 0.0, (2, 3): 0, (2, 4): 0.0, (2, 5): 0.0, (2, 6): 0.0, (2, 7): 0.0, (3, 0): 0.0, (3, 1): 0.0, (3, 2): 0.0, (3, 3): 0.0, (3, 4): 0.0, (3, 5): 0, (3, 6): 0.0, (3, 7): 0.0, (4, 0): 0.0, (4, 1): 0.0, (4, 2): 0.0, (4, 3): 0, (4, 4): 0.0, (4, 5): 0.0, (4, 6): 0.0, (4, 7): 0.0, (5, 0): 0.0, (5, 1): 0, (5, 2): 0, (5, 3): 0.0, (5, 4): 0.0, (5, 5): 0.0, (5, 6): 0, (5, 7): 0.5760000000000001, (6, 0): 0.0, (6, 1): 0, (6, 2): 0.0, (6, 3): 0.0, (6, 4): 0, (6, 5): 0.0, (6, 6): 0, (6, 7): 0.8720000000000001, (7, 0): 0.0, (7, 1): 0.0, (7, 2): 0.0, (7, 3): 0, (7, 4): 0.0, (7, 5): 0.5760000000000001, (7, 6): 0.8720000000000001, (7, 7): 0}\n",
            "iter    2   |   diff: 0.41472   |   V(start): 0.000 \n",
            "{(0, 0): 0.0, (0, 1): 0.0, (0, 2): 0.0, (0, 3): 0.0, (0, 4): 0.0, (0, 5): 0.0, (0, 6): 0.0, (0, 7): 0.0, (1, 0): 0.0, (1, 1): 0.0, (1, 2): 0.0, (1, 3): 0.0, (1, 4): 0.0, (1, 5): 0.0, (1, 6): 0.0, (1, 7): 0.0, (2, 0): 0.0, (2, 1): 0.0, (2, 2): 0.0, (2, 3): 0, (2, 4): 0.0, (2, 5): 0.0, (2, 6): 0.0, (2, 7): 0.0, (3, 0): 0.0, (3, 1): 0.0, (3, 2): 0.0, (3, 3): 0.0, (3, 4): 0.0, (3, 5): 0, (3, 6): 0.0, (3, 7): 0.2985984000000001, (4, 0): 0.0, (4, 1): 0.0, (4, 2): 0.0, (4, 3): 0, (4, 4): 0.0, (4, 5): 0.0, (4, 6): 0.2985984000000001, (4, 7): 0.5266944000000001, (5, 0): 0.0, (5, 1): 0, (5, 2): 0, (5, 3): 0.0, (5, 4): 0.0, (5, 5): 0.2985984000000001, (5, 6): 0, (5, 7): 0.6936768, (6, 0): 0.0, (6, 1): 0, (6, 2): 0.0, (6, 3): 0.0, (6, 4): 0, (6, 5): 0.4893696000000001, (6, 6): 0, (6, 7): 0.8790632, (7, 0): 0.0, (7, 1): 0.0, (7, 2): 0.0, (7, 3): 0, (7, 4): 0.5266944000000001, (7, 5): 0.7310016, (7, 6): 0.8790632, (7, 7): 0} {(0, 0): 0.0, (0, 1): 0.0, (0, 2): 0.0, (0, 3): 0.0, (0, 4): 0.0, (0, 5): 0.0, (0, 6): 0.0, (0, 7): 0.0, (1, 0): 0.0, (1, 1): 0.0, (1, 2): 0.0, (1, 3): 0.0, (1, 4): 0.0, (1, 5): 0.0, (1, 6): 0.0, (1, 7): 0.0, (2, 0): 0.0, (2, 1): 0.0, (2, 2): 0.0, (2, 3): 0, (2, 4): 0.0, (2, 5): 0.0, (2, 6): 0.0, (2, 7): 0.0, (3, 0): 0.0, (3, 1): 0.0, (3, 2): 0.0, (3, 3): 0.0, (3, 4): 0.0, (3, 5): 0, (3, 6): 0.0, (3, 7): 0.0, (4, 0): 0.0, (4, 1): 0.0, (4, 2): 0.0, (4, 3): 0, (4, 4): 0.0, (4, 5): 0.0, (4, 6): 0.0, (4, 7): 0.4147200000000001, (5, 0): 0.0, (5, 1): 0, (5, 2): 0, (5, 3): 0.0, (5, 4): 0.0, (5, 5): 0.0, (5, 6): 0, (5, 7): 0.6796800000000002, (6, 0): 0.0, (6, 1): 0, (6, 2): 0.0, (6, 3): 0.0, (6, 4): 0, (6, 5): 0.4147200000000001, (6, 6): 0, (6, 7): 0.87848, (7, 0): 0.0, (7, 1): 0.0, (7, 2): 0.0, (7, 3): 0, (7, 4): 0.4147200000000001, (7, 5): 0.6796800000000002, (7, 6): 0.87848, (7, 7): 0}\n",
            "iter    3   |   diff: 0.29860   |   V(start): 0.000 \n",
            "{(0, 0): 0.0, (0, 1): 0.0, (0, 2): 0.0, (0, 3): 0.0, (0, 4): 0.0, (0, 5): 0.0, (0, 6): 0.0, (0, 7): 0.0, (1, 0): 0.0, (1, 1): 0.0, (1, 2): 0.0, (1, 3): 0.0, (1, 4): 0.0, (1, 5): 0.0, (1, 6): 0.0, (1, 7): 0.0, (2, 0): 0.0, (2, 1): 0.0, (2, 2): 0.0, (2, 3): 0, (2, 4): 0.0, (2, 5): 0.0, (2, 6): 0.0, (2, 7): 0.21499084800000007, (3, 0): 0.0, (3, 1): 0.0, (3, 2): 0.0, (3, 3): 0.0, (3, 4): 0.0, (3, 5): 0, (3, 6): 0.24186470400000007, (3, 7): 0.40609382400000016, (4, 0): 0.0, (4, 1): 0.0, (4, 2): 0.0, (4, 3): 0, (4, 4): 0.0, (4, 5): 0.24186470400000007, (4, 6): 0.37921996800000013, (4, 7): 0.5737236480000001, (5, 0): 0.0, (5, 1): 0, (5, 2): 0, (5, 3): 0.0, (5, 4): 0.21499084800000007, (5, 5): 0.3523461120000001, (5, 6): 0, (5, 7): 0.6953564160000001, (6, 0): 0.0, (6, 1): 0, (6, 2): 0.0, (6, 3): 0.0, (6, 4): 0, (6, 5): 0.5263211520000001, (6, 6): 0, (6, 7): 0.8791156880000001, (7, 0): 0.0, (7, 1): 0.0, (7, 2): 0.0, (7, 3): 0, (7, 4): 0.5737236480000001, (7, 5): 0.7427589120000002, (7, 6): 0.8791156880000001, (7, 7): 0} {(0, 0): 0.0, (0, 1): 0.0, (0, 2): 0.0, (0, 3): 0.0, (0, 4): 0.0, (0, 5): 0.0, (0, 6): 0.0, (0, 7): 0.0, (1, 0): 0.0, (1, 1): 0.0, (1, 2): 0.0, (1, 3): 0.0, (1, 4): 0.0, (1, 5): 0.0, (1, 6): 0.0, (1, 7): 0.0, (2, 0): 0.0, (2, 1): 0.0, (2, 2): 0.0, (2, 3): 0, (2, 4): 0.0, (2, 5): 0.0, (2, 6): 0.0, (2, 7): 0.0, (3, 0): 0.0, (3, 1): 0.0, (3, 2): 0.0, (3, 3): 0.0, (3, 4): 0.0, (3, 5): 0, (3, 6): 0.0, (3, 7): 0.2985984000000001, (4, 0): 0.0, (4, 1): 0.0, (4, 2): 0.0, (4, 3): 0, (4, 4): 0.0, (4, 5): 0.0, (4, 6): 0.2985984000000001, (4, 7): 0.5266944000000001, (5, 0): 0.0, (5, 1): 0, (5, 2): 0, (5, 3): 0.0, (5, 4): 0.0, (5, 5): 0.2985984000000001, (5, 6): 0, (5, 7): 0.6936768, (6, 0): 0.0, (6, 1): 0, (6, 2): 0.0, (6, 3): 0.0, (6, 4): 0, (6, 5): 0.4893696000000001, (6, 6): 0, (6, 7): 0.8790632, (7, 0): 0.0, (7, 1): 0.0, (7, 2): 0.0, (7, 3): 0, (7, 4): 0.5266944000000001, (7, 5): 0.7310016, (7, 6): 0.8790632, (7, 7): 0}\n",
            "iter    4   |   diff: 0.24186   |   V(start): 0.000 \n",
            "{(0, 0): 0.0, (0, 1): 0.0, (0, 2): 0.0, (0, 3): 0.0, (0, 4): 0.0, (0, 5): 0.0, (0, 6): 0.0, (0, 7): 0.0, (1, 0): 0.0, (1, 1): 0.0, (1, 2): 0.0, (1, 3): 0.0, (1, 4): 0.0, (1, 5): 0.0, (1, 6): 0.0, (1, 7): 0.15479341056000007, (2, 0): 0.0, (2, 1): 0.0, (2, 2): 0.0, (2, 3): 0, (2, 4): 0.0, (2, 5): 0.0, (2, 6): 0.19349176320000006, (2, 7): 0.31173672960000015, (3, 0): 0.0, (3, 1): 0.0, (3, 2): 0.0, (3, 3): 0.0, (3, 4): 0.0, (3, 5): 0, (3, 6): 0.3265173504000002, (3, 7): 0.47139729408000014, (4, 0): 0.0, (4, 1): 0.0, (4, 2): 0.0, (4, 3): 0, (4, 4): 0.19349176320000006, (4, 5): 0.30474952704000013, (4, 6): 0.4348488499200001, (4, 7): 0.5864215449600001, (5, 0): 0.0, (5, 1): 0, (5, 2): 0, (5, 3): 0.15479341056000007, (5, 4): 0.2536892006400001, (5, 5): 0.3983004057600001, (5, 6): 0, (5, 7): 0.6955453728000002, (6, 0): 0.0, (6, 1): 0, (6, 2): 0.0, (6, 3): 0.0, (6, 4): 0, (6, 5): 0.5347864166400002, (6, 6): 0, (6, 7): 0.87912041192, (7, 0): 0.0, (7, 1): 0.0, (7, 2): 0.0, (7, 3): 0, (7, 4): 0.5864215449600002, (7, 5): 0.7471805011200002, (7, 6): 0.87912041192, (7, 7): 0} {(0, 0): 0.0, (0, 1): 0.0, (0, 2): 0.0, (0, 3): 0.0, (0, 4): 0.0, (0, 5): 0.0, (0, 6): 0.0, (0, 7): 0.0, (1, 0): 0.0, (1, 1): 0.0, (1, 2): 0.0, (1, 3): 0.0, (1, 4): 0.0, (1, 5): 0.0, (1, 6): 0.0, (1, 7): 0.0, (2, 0): 0.0, (2, 1): 0.0, (2, 2): 0.0, (2, 3): 0, (2, 4): 0.0, (2, 5): 0.0, (2, 6): 0.0, (2, 7): 0.21499084800000007, (3, 0): 0.0, (3, 1): 0.0, (3, 2): 0.0, (3, 3): 0.0, (3, 4): 0.0, (3, 5): 0, (3, 6): 0.24186470400000007, (3, 7): 0.40609382400000016, (4, 0): 0.0, (4, 1): 0.0, (4, 2): 0.0, (4, 3): 0, (4, 4): 0.0, (4, 5): 0.24186470400000007, (4, 6): 0.37921996800000013, (4, 7): 0.5737236480000001, (5, 0): 0.0, (5, 1): 0, (5, 2): 0, (5, 3): 0.0, (5, 4): 0.21499084800000007, (5, 5): 0.3523461120000001, (5, 6): 0, (5, 7): 0.6953564160000001, (6, 0): 0.0, (6, 1): 0, (6, 2): 0.0, (6, 3): 0.0, (6, 4): 0, (6, 5): 0.5263211520000001, (6, 6): 0, (6, 7): 0.8791156880000001, (7, 0): 0.0, (7, 1): 0.0, (7, 2): 0.0, (7, 3): 0, (7, 4): 0.5737236480000001, (7, 5): 0.7427589120000002, (7, 6): 0.8791156880000001, (7, 7): 0}\n",
            "iter    5   |   diff: 0.19349   |   V(start): 0.000 \n",
            "{(0, 0): 0.0, (0, 1): 0.0, (0, 2): 0.0, (0, 3): 0.0, (0, 4): 0.0, (0, 5): 0.0, (0, 6): 0.0, (0, 7): 0.11145125560320007, (1, 0): 0.0, (1, 1): 0.0, (1, 2): 0.0, (1, 3): 0.0, (1, 4): 0.0, (1, 5): 0.0, (1, 6): 0.15324547645440006, (1, 7): 0.23838185226240013, (2, 0): 0.0, (2, 1): 0.0, (2, 2): 0.0, (2, 3): 0, (2, 4): 0.0, (2, 5): 0.13931406950400005, (2, 6): 0.26314879795200014, (2, 7): 0.38487661608960017, (3, 0): 0.0, (3, 1): 0.0, (3, 2): 0.0, (3, 3): 0.0, (3, 4): 0.13931406950400005, (3, 5): 0, (3, 6): 0.3959567069184002, (3, 7): 0.4940358303744002, (4, 0): 0.0, (4, 1): 0.0, (4, 2): 0.0, (4, 3): 0, (4, 4): 0.2422516875264001, (4, 5): 0.3489382084608001, (4, 6): 0.45161007390720015, (4, 7): 0.5927070039552002, (5, 0): 0.0, (5, 1): 0, (5, 2): 0, (5, 3): 0.1826562244608001, (5, 4): 0.3041905508352001, (5, 5): 0.4078782480384001, (5, 6): 0, (5, 7): 0.6955657801344001, (6, 0): 0.0, (6, 1): 0, (6, 2): 0.0, (6, 3): 0.11145125560320007, (6, 4): 0, (6, 5): 0.5379699608064001, (6, 6): 0, (6, 7): 0.8791208370728001, (7, 0): 0.0, (7, 1): 0.0, (7, 2): 0.0, (7, 3): 0, (7, 4): 0.5907478998528002, (7, 5): 0.7483437191808, (7, 6): 0.8791208370728001, (7, 7): 0} {(0, 0): 0.0, (0, 1): 0.0, (0, 2): 0.0, (0, 3): 0.0, (0, 4): 0.0, (0, 5): 0.0, (0, 6): 0.0, (0, 7): 0.0, (1, 0): 0.0, (1, 1): 0.0, (1, 2): 0.0, (1, 3): 0.0, (1, 4): 0.0, (1, 5): 0.0, (1, 6): 0.0, (1, 7): 0.15479341056000007, (2, 0): 0.0, (2, 1): 0.0, (2, 2): 0.0, (2, 3): 0, (2, 4): 0.0, (2, 5): 0.0, (2, 6): 0.19349176320000006, (2, 7): 0.31173672960000015, (3, 0): 0.0, (3, 1): 0.0, (3, 2): 0.0, (3, 3): 0.0, (3, 4): 0.0, (3, 5): 0, (3, 6): 0.3265173504000002, (3, 7): 0.47139729408000014, (4, 0): 0.0, (4, 1): 0.0, (4, 2): 0.0, (4, 3): 0, (4, 4): 0.19349176320000006, (4, 5): 0.30474952704000013, (4, 6): 0.4348488499200001, (4, 7): 0.5864215449600001, (5, 0): 0.0, (5, 1): 0, (5, 2): 0, (5, 3): 0.15479341056000007, (5, 4): 0.2536892006400001, (5, 5): 0.3983004057600001, (5, 6): 0, (5, 7): 0.6955453728000002, (6, 0): 0.0, (6, 1): 0, (6, 2): 0.0, (6, 3): 0.0, (6, 4): 0, (6, 5): 0.5347864166400002, (6, 6): 0, (6, 7): 0.87912041192, (7, 0): 0.0, (7, 1): 0.0, (7, 2): 0.0, (7, 3): 0, (7, 4): 0.5864215449600002, (7, 5): 0.7471805011200002, (7, 6): 0.87912041192, (7, 7): 0}\n",
            "iter    6   |   diff: 0.15325   |   V(start): 0.000 \n",
            "{(0, 0): 0.0, (0, 1): 0.0, (0, 2): 0.0, (0, 3): 0.0, (0, 4): 0.0, (0, 5): 0.0, (0, 6): 0.12036735605145607, (0, 7): 0.18166554663321613, (1, 0): 0.0, (1, 1): 0.0, (1, 2): 0.0, (1, 3): 0.0, (1, 4): 0.0, (1, 5): 0.12287500930252807, (1, 6): 0.21092150122905612, (1, 7): 0.31235762316902416, (2, 0): 0.0, (2, 1): 0.0, (2, 2): 0.0, (2, 3): 0, (2, 4): 0.11284439629824006, (2, 5): 0.18946713452544012, (2, 6): 0.3322659906846722, (2, 7): 0.4140280851333122, (3, 0): 0.0, (3, 1): 0.0, (3, 2): 0.0, (3, 3): 0.10030613004288005, (3, 4): 0.1744212150190081, (3, 5): 0, (3, 6): 0.42003409633689615, (3, 7): 0.5068483712040962, (4, 0): 0.0, (4, 1): 0.0, (4, 2): 0.0, (4, 3): 0, (4, 4): 0.2911509259223041, (4, 5): 0.3618682955366402, (4, 6): 0.4623851464704002, (4, 7): 0.5947958987043841, (5, 0): 0.0, (5, 1): 0, (5, 2): 0, (5, 3): 0.2290478096056321, (5, 4): 0.3154749904650241, (5, 5): 0.41471552135577616, (5, 6): 0, (5, 7): 0.6955679229045122, (6, 0): 0.0, (6, 1): 0, (6, 2): 0.08024490403430407, (6, 3): 0.13151248161177606, (6, 4): 0, (6, 5): 0.538807477810176, (6, 6): 0, (6, 7): 0.879120875336552, (7, 0): 0.0, (7, 1): 0.0, (7, 2): 0.0, (7, 3): 0, (7, 4): 0.591974788796928, (7, 5): 0.7487352338912641, (7, 6): 0.879120875336552, (7, 7): 0} {(0, 0): 0.0, (0, 1): 0.0, (0, 2): 0.0, (0, 3): 0.0, (0, 4): 0.0, (0, 5): 0.0, (0, 6): 0.0, (0, 7): 0.11145125560320007, (1, 0): 0.0, (1, 1): 0.0, (1, 2): 0.0, (1, 3): 0.0, (1, 4): 0.0, (1, 5): 0.0, (1, 6): 0.15324547645440006, (1, 7): 0.23838185226240013, (2, 0): 0.0, (2, 1): 0.0, (2, 2): 0.0, (2, 3): 0, (2, 4): 0.0, (2, 5): 0.13931406950400005, (2, 6): 0.26314879795200014, (2, 7): 0.38487661608960017, (3, 0): 0.0, (3, 1): 0.0, (3, 2): 0.0, (3, 3): 0.0, (3, 4): 0.13931406950400005, (3, 5): 0, (3, 6): 0.3959567069184002, (3, 7): 0.4940358303744002, (4, 0): 0.0, (4, 1): 0.0, (4, 2): 0.0, (4, 3): 0, (4, 4): 0.2422516875264001, (4, 5): 0.3489382084608001, (4, 6): 0.45161007390720015, (4, 7): 0.5927070039552002, (5, 0): 0.0, (5, 1): 0, (5, 2): 0, (5, 3): 0.1826562244608001, (5, 4): 0.3041905508352001, (5, 5): 0.4078782480384001, (5, 6): 0, (5, 7): 0.6955657801344001, (6, 0): 0.0, (6, 1): 0, (6, 2): 0.0, (6, 3): 0.11145125560320007, (6, 4): 0, (6, 5): 0.5379699608064001, (6, 6): 0, (6, 7): 0.8791208370728001, (7, 0): 0.0, (7, 1): 0.0, (7, 2): 0.0, (7, 3): 0, (7, 4): 0.5907478998528002, (7, 5): 0.7483437191808, (7, 6): 0.8791208370728001, (7, 7): 0}\n",
            "iter    7   |   diff: 0.12288   |   V(start): 0.000 \n",
            "{(0, 0): 0.0, (0, 1): 0.0, (0, 2): 0.0, (0, 3): 0.0, (0, 4): 0.0, (0, 5): 0.09930306874245126, (0, 6): 0.16821338008190986, (0, 7): 0.2520804499233179, (1, 0): 0.0, (1, 1): 0.0, (1, 2): 0.0, (1, 3): 0.0, (1, 4): 0.09862600236466183, (1, 5): 0.16891552299221002, (1, 6): 0.2784024502154037, (1, 7): 0.345195342491812, (2, 0): 0.0, (2, 1): 0.0, (2, 2): 0.0, (2, 3): 0, (2, 4): 0.15211424621002761, (2, 5): 0.25029026413019156, (2, 6): 0.35673911913185297, (2, 7): 0.4320972940905679, (3, 0): 0.0, (3, 1): 0.0, (3, 2): 0.07222041363087364, (3, 3): 0.12558327481368584, (3, 4): 0.2186562183679182, (3, 5): 0, (3, 6): 0.4364494296109058, (3, 7): 0.5116724691458459, (4, 0): 0.0, (4, 1): 0.0, (4, 2): 0.0, (4, 3): 0, (4, 4): 0.30463583127994387, (4, 5): 0.370241702380708, (4, 6): 0.4660561157374772, (4, 7): 0.5959551985569793, (5, 0): 0.0, (5, 1): 0, (5, 2): 0, (5, 3): 0.2389781164798772, (5, 4): 0.3247987587091662, (5, 5): 0.416334133165179, (5, 6): 0, (5, 7): 0.6955681433037236, (6, 0): 0.0, (6, 1): 0, (6, 2): 0.09468898676047877, (6, 3): 0.1721364642791425, (6, 4): 0, (6, 5): 0.5390893684017102, (6, 6): 0, (6, 7): 0.8791208787802898, (7, 0): 0.0, (7, 1): 0.0, (7, 2): 0.05777633090469893, (7, 3): 0, (7, 4): 0.5923670993934337, (7, 5): 0.7488458742954471, (7, 6): 0.8791208787802898, (7, 7): 0} {(0, 0): 0.0, (0, 1): 0.0, (0, 2): 0.0, (0, 3): 0.0, (0, 4): 0.0, (0, 5): 0.0, (0, 6): 0.12036735605145607, (0, 7): 0.18166554663321613, (1, 0): 0.0, (1, 1): 0.0, (1, 2): 0.0, (1, 3): 0.0, (1, 4): 0.0, (1, 5): 0.12287500930252807, (1, 6): 0.21092150122905612, (1, 7): 0.31235762316902416, (2, 0): 0.0, (2, 1): 0.0, (2, 2): 0.0, (2, 3): 0, (2, 4): 0.11284439629824006, (2, 5): 0.18946713452544012, (2, 6): 0.3322659906846722, (2, 7): 0.4140280851333122, (3, 0): 0.0, (3, 1): 0.0, (3, 2): 0.0, (3, 3): 0.10030613004288005, (3, 4): 0.1744212150190081, (3, 5): 0, (3, 6): 0.42003409633689615, (3, 7): 0.5068483712040962, (4, 0): 0.0, (4, 1): 0.0, (4, 2): 0.0, (4, 3): 0, (4, 4): 0.2911509259223041, (4, 5): 0.3618682955366402, (4, 6): 0.4623851464704002, (4, 7): 0.5947958987043841, (5, 0): 0.0, (5, 1): 0, (5, 2): 0, (5, 3): 0.2290478096056321, (5, 4): 0.3154749904650241, (5, 5): 0.41471552135577616, (5, 6): 0, (5, 7): 0.6955679229045122, (6, 0): 0.0, (6, 1): 0, (6, 2): 0.08024490403430407, (6, 3): 0.13151248161177606, (6, 4): 0, (6, 5): 0.538807477810176, (6, 6): 0, (6, 7): 0.879120875336552, (7, 0): 0.0, (7, 1): 0.0, (7, 2): 0.0, (7, 3): 0, (7, 4): 0.591974788796928, (7, 5): 0.7487352338912641, (7, 6): 0.879120875336552, (7, 7): 0}\n",
            "iter    8   |   diff: 0.09930   |   V(start): 0.000 \n",
            "{(0, 0): 0.0, (0, 1): 0.0, (0, 2): 0.0, (0, 3): 0.0, (0, 4): 0.08037454970738447, (0, 5): 0.1452533069150946, (0, 6): 0.23207428083500992, (0, 7): 0.28636709129457516, (1, 0): 0.0, (1, 1): 0.0, (1, 2): 0.0, (1, 3): 0.07101072170255653, (1, 4): 0.13530945871329372, (1, 5): 0.23191316411362856, (1, 6): 0.3031221436684961, (1, 7): 0.36723385308885836, (2, 0): 0.0, (2, 1): 0.0, (2, 2): 0.05199869781422903, (2, 3): 0, (2, 4): 0.20876439003967015, (2, 5): 0.272054562844233, (2, 6): 0.3756584695597206, (2, 7): 0.4393994549750269, (3, 0): 0.0, (3, 1): 0.05199869781422903, (3, 2): 0.09041995786585381, (3, 3): 0.15743247722490114, (3, 4): 0.23064029325479135, (3, 5): 0, (3, 6): 0.44245574892324874, (3, 7): 0.5144187138491328, (4, 0): 0.0, (4, 1): 0.0, (4, 2): 0.05199869781422903, (4, 3): 0, (4, 4): 0.31548497365104733, (4, 5): 0.3730304753158497, (4, 6): 0.4683681916260067, (4, 7): 0.5963900814651822, (5, 0): 0.0, (5, 1): 0, (5, 2): 0, (5, 3): 0.2493473880557225, (5, 4): 0.32717780069412383, (5, 5): 0.4173762335330563, (5, 6): 0, (5, 7): 0.6955681656191438, (6, 0): 0.0, (6, 1): 0, (6, 2): 0.1291381240624055, (6, 3): 0.1805862526739547, (6, 4): 0, (6, 5): 0.5391690294927219, (6, 6): 0, (6, 7): 0.8791208790902261, (7, 0): 0.0, (7, 1): 0.04159895825138323, (7, 2): 0.06817607046754472, (7, 3): 0, (7, 4): 0.592482068438131, (7, 5): 0.7488812045645529, (7, 6): 0.8791208790902261, (7, 7): 0} {(0, 0): 0.0, (0, 1): 0.0, (0, 2): 0.0, (0, 3): 0.0, (0, 4): 0.0, (0, 5): 0.09930306874245126, (0, 6): 0.16821338008190986, (0, 7): 0.2520804499233179, (1, 0): 0.0, (1, 1): 0.0, (1, 2): 0.0, (1, 3): 0.0, (1, 4): 0.09862600236466183, (1, 5): 0.16891552299221002, (1, 6): 0.2784024502154037, (1, 7): 0.345195342491812, (2, 0): 0.0, (2, 1): 0.0, (2, 2): 0.0, (2, 3): 0, (2, 4): 0.15211424621002761, (2, 5): 0.25029026413019156, (2, 6): 0.35673911913185297, (2, 7): 0.4320972940905679, (3, 0): 0.0, (3, 1): 0.0, (3, 2): 0.07222041363087364, (3, 3): 0.12558327481368584, (3, 4): 0.2186562183679182, (3, 5): 0, (3, 6): 0.4364494296109058, (3, 7): 0.5116724691458459, (4, 0): 0.0, (4, 1): 0.0, (4, 2): 0.0, (4, 3): 0, (4, 4): 0.30463583127994387, (4, 5): 0.370241702380708, (4, 6): 0.4660561157374772, (4, 7): 0.5959551985569793, (5, 0): 0.0, (5, 1): 0, (5, 2): 0, (5, 3): 0.2389781164798772, (5, 4): 0.3247987587091662, (5, 5): 0.416334133165179, (5, 6): 0, (5, 7): 0.6955681433037236, (6, 0): 0.0, (6, 1): 0, (6, 2): 0.09468898676047877, (6, 3): 0.1721364642791425, (6, 4): 0, (6, 5): 0.5390893684017102, (6, 6): 0, (6, 7): 0.8791208787802898, (7, 0): 0.0, (7, 1): 0.0, (7, 2): 0.05777633090469893, (7, 3): 0, (7, 4): 0.5923670993934337, (7, 5): 0.7488458742954471, (7, 6): 0.8791208787802898, (7, 7): 0}\n",
            "iter    9   |   diff: 0.08037   |   V(start): 0.000 \n",
            "{(0, 0): 0.0, (0, 1): 0.0, (0, 2): 0.0, (0, 3): 0.0642606407425469, (0, 4): 0.12399394173672916, (0, 5): 0.20103846459379224, (0, 6): 0.2570937792801875, (0, 7): 0.31106809771564076, (1, 0): 0.0, (1, 1): 0.0, (1, 2): 0.05580760242912131, (1, 3): 0.09742281027357148, (1, 4): 0.1929999827390475, (1, 5): 0.2558056517196567, (1, 6): 0.3243973296312227, (1, 7): 0.37669964729018135, (2, 0): 0.0, (2, 1): 0.042118945229525515, (2, 2): 0.06510236966341475, (2, 3): 0, (2, 4): 0.22881476292497543, (2, 5): 0.29134628285322545, (2, 6): 0.3834696179152765, (2, 7): 0.44373668717950293, (3, 0): 0.0374390624262449, (3, 1): 0.06510236966341475, (3, 2): 0.12271114920849006, (3, 3): 0.1660610111434498, (3, 4): 0.2413181039789952, (3, 5): 0, (3, 6): 0.4463438734780911, (3, 7): 0.5155195603044456, (4, 0): 0.0, (4, 1): 0.042118945229525515, (4, 2): 0.06510236966341475, (4, 3): 0, (4, 4): 0.31878557068281416, (4, 5): 0.3747889589886999, (4, 6): 0.4692218760580236, (4, 7): 0.5966373238239906, (5, 0): 0.0, (5, 1): 0, (5, 2): 0, (5, 3): 0.25182077924042506, (5, 4): 0.3289045357723948, (5, 5): 0.417647703297231, (5, 6): 0, (5, 7): 0.6955681678506858, (6, 0): 0.0, (6, 1): 0, (6, 2): 0.13615794826732644, (6, 3): 0.1911525505657367, (6, 4): 0, (6, 5): 0.539194467286478, (6, 6): 0, (6, 7): 0.8791208791181204, (7, 0): 0.02995124994099593, (7, 1): 0.05283067697925669, (7, 2): 0.09672335556755646, (7, 3): 0, (7, 4): 0.5925178534459098, (7, 5): 0.7488915540101175, (7, 6): 0.8791208791181204, (7, 7): 0} {(0, 0): 0.0, (0, 1): 0.0, (0, 2): 0.0, (0, 3): 0.0, (0, 4): 0.08037454970738447, (0, 5): 0.1452533069150946, (0, 6): 0.23207428083500992, (0, 7): 0.28636709129457516, (1, 0): 0.0, (1, 1): 0.0, (1, 2): 0.0, (1, 3): 0.07101072170255653, (1, 4): 0.13530945871329372, (1, 5): 0.23191316411362856, (1, 6): 0.3031221436684961, (1, 7): 0.36723385308885836, (2, 0): 0.0, (2, 1): 0.0, (2, 2): 0.05199869781422903, (2, 3): 0, (2, 4): 0.20876439003967015, (2, 5): 0.272054562844233, (2, 6): 0.3756584695597206, (2, 7): 0.4393994549750269, (3, 0): 0.0, (3, 1): 0.05199869781422903, (3, 2): 0.09041995786585381, (3, 3): 0.15743247722490114, (3, 4): 0.23064029325479135, (3, 5): 0, (3, 6): 0.44245574892324874, (3, 7): 0.5144187138491328, (4, 0): 0.0, (4, 1): 0.0, (4, 2): 0.05199869781422903, (4, 3): 0, (4, 4): 0.31548497365104733, (4, 5): 0.3730304753158497, (4, 6): 0.4683681916260067, (4, 7): 0.5963900814651822, (5, 0): 0.0, (5, 1): 0, (5, 2): 0, (5, 3): 0.2493473880557225, (5, 4): 0.32717780069412383, (5, 5): 0.4173762335330563, (5, 6): 0, (5, 7): 0.6955681656191438, (6, 0): 0.0, (6, 1): 0, (6, 2): 0.1291381240624055, (6, 3): 0.1805862526739547, (6, 4): 0, (6, 5): 0.5391690294927219, (6, 6): 0, (6, 7): 0.8791208790902261, (7, 0): 0.0, (7, 1): 0.04159895825138323, (7, 2): 0.06817607046754472, (7, 3): 0, (7, 4): 0.592482068438131, (7, 5): 0.7488812045645529, (7, 6): 0.8791208790902261, (7, 7): 0}\n",
            "iter   10   |   diff: 0.06426   |   V(start): 0.000 \n",
            "{(0, 0): 0.0, (0, 1): 0.0, (0, 2): 0.0512903455532547, (0, 3): 0.10382714864189566, (0, 4): 0.1732771477103503, (0, 5): 0.2262234915499454, (0, 6): 0.2796556679423293, (0, 7): 0.3223583149785551, (1, 0): 0.0, (1, 1): 0.04397217881962465, (1, 2): 0.0760036366666788, (1, 3): 0.14474344523894345, (1, 4): 0.21593285265770623, (1, 5): 0.2778807046047119, (1, 6): 0.33302360180988455, (1, 7): 0.3825891426921685, (2, 0): 0.033695156183620414, (2, 1): 0.05273291942736595, (2, 2): 0.09214273250077014, (2, 3): 0, (2, 4): 0.24885795145894615, (2, 5): 0.2991206335537682, (2, 6): 0.3888571230490804, (2, 7): 0.445622650877731, (3, 0): 0.04687370615765862, (3, 1): 0.09593343757142743, (3, 2): 0.13128235456269854, (3, 3): 0.17374903486487656, (3, 4): 0.2444711018945367, (3, 5): 0, (3, 6): 0.44791631787679786, (3, 7): 0.5161465821937016, (4, 0): 0.033695156183620414, (4, 1): 0.05273291942736595, (4, 2): 0.09214273250077014, (4, 3): 0, (4, 4): 0.32116808804948904, (4, 5): 0.3754280440585278, (4, 6): 0.4697498217663015, (4, 7): 0.5967364088418751, (5, 0): 0.0, (5, 1): 0, (5, 2): 0, (5, 3): 0.2540149953070406, (5, 4): 0.32939704773545964, (5, 5): 0.4178214246657797, (5, 6): 0, (5, 7): 0.6955681680716085, (6, 0): 0.02156489995751707, (6, 1): 0, (6, 2): 0.14633493840841053, (6, 3): 0.19356517639716544, (6, 4): 0, (6, 5): 0.5392019188872846, (6, 6): 0, (6, 7): 0.8791208791206309, (7, 0): 0.04073369991975445, (7, 1): 0.07439557693677376, (7, 2): 0.10278848368060814, (7, 3): 0, (7, 4): 0.5925285256974165, (7, 5): 0.7488947748817404, (7, 6): 0.8791208791206309, (7, 7): 0} {(0, 0): 0.0, (0, 1): 0.0, (0, 2): 0.0, (0, 3): 0.0642606407425469, (0, 4): 0.12399394173672916, (0, 5): 0.20103846459379224, (0, 6): 0.2570937792801875, (0, 7): 0.31106809771564076, (1, 0): 0.0, (1, 1): 0.0, (1, 2): 0.05580760242912131, (1, 3): 0.09742281027357148, (1, 4): 0.1929999827390475, (1, 5): 0.2558056517196567, (1, 6): 0.3243973296312227, (1, 7): 0.37669964729018135, (2, 0): 0.0, (2, 1): 0.042118945229525515, (2, 2): 0.06510236966341475, (2, 3): 0, (2, 4): 0.22881476292497543, (2, 5): 0.29134628285322545, (2, 6): 0.3834696179152765, (2, 7): 0.44373668717950293, (3, 0): 0.0374390624262449, (3, 1): 0.06510236966341475, (3, 2): 0.12271114920849006, (3, 3): 0.1660610111434498, (3, 4): 0.2413181039789952, (3, 5): 0, (3, 6): 0.4463438734780911, (3, 7): 0.5155195603044456, (4, 0): 0.0, (4, 1): 0.042118945229525515, (4, 2): 0.06510236966341475, (4, 3): 0, (4, 4): 0.31878557068281416, (4, 5): 0.3747889589886999, (4, 6): 0.4692218760580236, (4, 7): 0.5966373238239906, (5, 0): 0.0, (5, 1): 0, (5, 2): 0, (5, 3): 0.25182077924042506, (5, 4): 0.3289045357723948, (5, 5): 0.417647703297231, (5, 6): 0, (5, 7): 0.6955681678506858, (6, 0): 0.0, (6, 1): 0, (6, 2): 0.13615794826732644, (6, 3): 0.1911525505657367, (6, 4): 0, (6, 5): 0.539194467286478, (6, 6): 0, (6, 7): 0.8791208791181204, (7, 0): 0.02995124994099593, (7, 1): 0.05283067697925669, (7, 2): 0.09672335556755646, (7, 3): 0, (7, 4): 0.5925178534459098, (7, 5): 0.7488915540101175, (7, 6): 0.8791208791181204, (7, 7): 0}\n",
            "iter   11   |   diff: 0.05129   |   V(start): 0.000 \n",
            "{(0, 0): 0.0, (0, 1): 0.040886544892109605, (0, 2): 0.08621200542195888, (0, 3): 0.14713089980072772, (0, 4): 0.1979098139490858, (0, 5): 0.2467214585723963, (0, 6): 0.28914935589068197, (0, 7): 0.32964544120124095, (1, 0): 0.03469253280665559, (1, 1): 0.05946858114847168, (1, 2): 0.11712425759690151, (1, 3): 0.1648160972913191, (1, 4): 0.2380662662406293, (1, 5): 0.28705796456245114, (1, 6): 0.3394194148520571, (1, 7): 0.38525345563715113, (2, 0): 0.042186335541892765, (2, 1): 0.08039748503302291, (2, 2): 0.0992692580336059, (2, 3): 0, (2, 4): 0.256803212068415, (2, 5): 0.30498639200976196, (2, 6): 0.3911329014037678, (2, 7): 0.44672871883287824, (3, 0): 0.07513720316447943, (3, 1): 0.10401522078206883, (3, 2): 0.14168499695284978, (3, 3): 0.17601919336406643, (3, 4): 0.24687843653347102, (3, 5): 0, (3, 6): 0.44890016421284956, (3, 7): 0.516415875372495, (4, 0): 0.042186335541892765, (4, 1): 0.0803974850330229, (4, 2): 0.0992692580336059, (4, 3): 0, (4, 4): 0.3219563251888397, (4, 5): 0.37582379989165726, (4, 6): 0.4699626829750619, (4, 7): 0.596792841766294, (5, 0): 0.0242605124522067, (5, 1): 0, (5, 2): 0, (5, 3): 0.25458674024527583, (5, 4): 0.3297365536838154, (5, 5): 0.4178711158950364, (5, 6): 0, (5, 7): 0.695568168093299, (6, 0): 0.03126910493839974, (6, 1): 0, (6, 2): 0.14861789053721386, (6, 3): 0.19606094107782618, (6, 4): 0, (6, 5): 0.5392042379148532, (6, 6): 0, (6, 7): 0.8791208791208568, (7, 0): 0.05917168938343154, (7, 1): 0.08070331017434751, (7, 2): 0.11205675757836521, (7, 3): 0, (7, 4): 0.5925318052276206, (7, 5): 0.7488957354060666, (7, 6): 0.8791208791208568, (7, 7): 0} {(0, 0): 0.0, (0, 1): 0.0, (0, 2): 0.0512903455532547, (0, 3): 0.10382714864189566, (0, 4): 0.1732771477103503, (0, 5): 0.2262234915499454, (0, 6): 0.2796556679423293, (0, 7): 0.3223583149785551, (1, 0): 0.0, (1, 1): 0.04397217881962465, (1, 2): 0.0760036366666788, (1, 3): 0.14474344523894345, (1, 4): 0.21593285265770623, (1, 5): 0.2778807046047119, (1, 6): 0.33302360180988455, (1, 7): 0.3825891426921685, (2, 0): 0.033695156183620414, (2, 1): 0.05273291942736595, (2, 2): 0.09214273250077014, (2, 3): 0, (2, 4): 0.24885795145894615, (2, 5): 0.2991206335537682, (2, 6): 0.3888571230490804, (2, 7): 0.445622650877731, (3, 0): 0.04687370615765862, (3, 1): 0.09593343757142743, (3, 2): 0.13128235456269854, (3, 3): 0.17374903486487656, (3, 4): 0.2444711018945367, (3, 5): 0, (3, 6): 0.44791631787679786, (3, 7): 0.5161465821937016, (4, 0): 0.033695156183620414, (4, 1): 0.05273291942736595, (4, 2): 0.09214273250077014, (4, 3): 0, (4, 4): 0.32116808804948904, (4, 5): 0.3754280440585278, (4, 6): 0.4697498217663015, (4, 7): 0.5967364088418751, (5, 0): 0.0, (5, 1): 0, (5, 2): 0, (5, 3): 0.2540149953070406, (5, 4): 0.32939704773545964, (5, 5): 0.4178214246657797, (5, 6): 0, (5, 7): 0.6955681680716085, (6, 0): 0.02156489995751707, (6, 1): 0, (6, 2): 0.14633493840841053, (6, 3): 0.19356517639716544, (6, 4): 0, (6, 5): 0.5392019188872846, (6, 6): 0, (6, 7): 0.8791208791206309, (7, 0): 0.04073369991975445, (7, 1): 0.07439557693677376, (7, 2): 0.10278848368060814, (7, 3): 0, (7, 4): 0.5925285256974165, (7, 5): 0.7488947748817404, (7, 6): 0.8791208791206309, (7, 7): 0}\n",
            "iter   12   |   diff: 0.04330   |   V(start): 0.000 \n",
            "{(0, 0): 0.03256064027491792, (0, 1): 0.0711046052474627, (0, 2): 0.1242345115282214, (0, 3): 0.17057029578162602, (0, 4): 0.2168772973891997, (0, 5): 0.2562276843234273, (0, 6): 0.29625499967310853, (0, 7): 0.3330740197970219, (1, 0): 0.04661414862566997, (1, 1): 0.09524502816303104, (1, 2): 0.1353609037607506, (1, 3): 0.18464949267531858, (1, 4): 0.24760590682653993, (1, 5): 0.2940356852458754, (1, 6): 0.34212371682867704, (1, 7): 0.3868652359037011, (2, 0): 0.06777086546117866, (2, 1): 0.08762196238488444, (2, 2): 0.10924897145902392, (2, 3): 0, (2, 4): 0.26323522549669764, (2, 5): 0.30745090582133344, (2, 6): 0.39259343967551397, (2, 7): 0.4472269760894946, (3, 0): 0.08248449936063026, (3, 1): 0.11648474511199598, (3, 2): 0.1446022856681769, (3, 3): 0.17775247430409916, (3, 4): 0.2476502815387306, (3, 5): 0, (3, 6): 0.4493180328622911, (3, 7): 0.5165692896344127, (4, 0): 0.06683198362927824, (4, 1): 0.08762196238488444, (4, 2): 0.10924897145902392, (4, 3): 0, (4, 4): 0.32248848504154903, (4, 5): 0.3759815321725979, (4, 6): 0.47009186085088817, (4, 7): 0.5968170782538974, (5, 0): 0.03255760771086139, (5, 1): 0, (5, 2): 0, (5, 3): 0.2550558033493514, (5, 4): 0.3298432727114218, (5, 5): 0.41790334113023764, (5, 6): 0, (5, 7): 0.6955681680954139, (6, 0): 0.04541783580052669, (6, 1): 0, (6, 2): 0.15124898575808773, (6, 3): 0.19667806312494787, (6, 4): 0, (6, 5): 0.539204929492368, (6, 6): 0, (6, 7): 0.8791208791208771, (7, 0): 0.06624605481449503, (7, 1): 0.08794416337211423, (7, 2): 0.11426817910248527, (7, 3): 0, (7, 4): 0.5925327919628538, (7, 5): 0.7488960305658998, (7, 6): 0.8791208791208771, (7, 7): 0} {(0, 0): 0.0, (0, 1): 0.040886544892109605, (0, 2): 0.08621200542195888, (0, 3): 0.14713089980072772, (0, 4): 0.1979098139490858, (0, 5): 0.2467214585723963, (0, 6): 0.28914935589068197, (0, 7): 0.32964544120124095, (1, 0): 0.03469253280665559, (1, 1): 0.05946858114847168, (1, 2): 0.11712425759690151, (1, 3): 0.1648160972913191, (1, 4): 0.2380662662406293, (1, 5): 0.28705796456245114, (1, 6): 0.3394194148520571, (1, 7): 0.38525345563715113, (2, 0): 0.042186335541892765, (2, 1): 0.08039748503302291, (2, 2): 0.0992692580336059, (2, 3): 0, (2, 4): 0.256803212068415, (2, 5): 0.30498639200976196, (2, 6): 0.3911329014037678, (2, 7): 0.44672871883287824, (3, 0): 0.07513720316447943, (3, 1): 0.10401522078206883, (3, 2): 0.14168499695284978, (3, 3): 0.17601919336406643, (3, 4): 0.24687843653347102, (3, 5): 0, (3, 6): 0.44890016421284956, (3, 7): 0.516415875372495, (4, 0): 0.042186335541892765, (4, 1): 0.0803974850330229, (4, 2): 0.0992692580336059, (4, 3): 0, (4, 4): 0.3219563251888397, (4, 5): 0.37582379989165726, (4, 6): 0.4699626829750619, (4, 7): 0.596792841766294, (5, 0): 0.0242605124522067, (5, 1): 0, (5, 2): 0, (5, 3): 0.25458674024527583, (5, 4): 0.3297365536838154, (5, 5): 0.4178711158950364, (5, 6): 0, (5, 7): 0.695568168093299, (6, 0): 0.03126910493839974, (6, 1): 0, (6, 2): 0.14861789053721386, (6, 3): 0.19606094107782618, (6, 4): 0, (6, 5): 0.5392042379148532, (6, 6): 0, (6, 7): 0.8791208791208568, (7, 0): 0.05917168938343154, (7, 1): 0.08070331017434751, (7, 2): 0.11205675757836521, (7, 3): 0, (7, 4): 0.5925318052276206, (7, 5): 0.7488957354060666, (7, 6): 0.8791208791208568, (7, 7): 0}\n",
            "iter   13   |   diff: 0.03802   |   V(start): 0.033 \n",
            "{(0, 0): 0.05832104677922606, (0, 1): 0.10442031530726385, (0, 2): 0.14617420033877823, (0, 3): 0.18812143508134882, (0, 4): 0.22628742109228422, (0, 5): 0.2628273030258754, (0, 6): 0.2993662294874879, (0, 7): 0.33518258160297654, (1, 0): 0.07760625579363105, (1, 1): 0.11174524179465169, (1, 2): 0.15396114819508147, (1, 3): 0.19362757953545512, (1, 4): 0.2549158204367611, (1, 5): 0.29706014922967594, (1, 6): 0.343948359469832, (1, 7): 0.3876124285303502, (2, 0): 0.07470669123588383, (2, 1): 0.09980080180345534, (2, 2): 0.11199962229572698, (2, 3): 0, (2, 4): 0.2659377091442345, (2, 5): 0.30913048823849887, (2, 6): 0.3932331802566233, (2, 7): 0.447513725955628, (3, 0): 0.09598327289877823, (3, 1): 0.11988559891036658, (3, 2): 0.14764659636157568, (3, 3): 0.17830820270788605, (3, 4): 0.24818943191728426, (3, 5): 0, (3, 6): 0.44957156558415345, (3, 7): 0.5166381553675095, (4, 0): 0.07344160255355106, (4, 1): 0.0997163024385843, (4, 2): 0.11199962229572698, (4, 3): 0, (4, 4): 0.3226811230467842, (4, 5): 0.3760774405143609, (4, 6): 0.47014691930041236, (4, 7): 0.5968308855481287, (5, 0): 0.05104921290705786, (5, 1): 0, (5, 2): 0, (5, 3): 0.25518818203346905, (5, 4): 0.32991436926751055, (5, 5): 0.41791344377853296, (5, 6): 0, (5, 7): 0.6955681680956188, (6, 0): 0.05178476468848382, (6, 1): 0, (6, 2): 0.15189234156918616, (6, 3): 0.1972525871297609, (6, 4): 0, (6, 5): 0.5392051420074478, (6, 6): 0, (6, 7): 0.879120879120879, (7, 0): 0.0733695477832742, (7, 1): 0.09018806365727969, (7, 2): 0.11681424444931347, (7, 3): 0, (7, 4): 0.5925330932841046, (7, 5): 0.7488961193722756, (7, 6): 0.879120879120879, (7, 7): 0} {(0, 0): 0.03256064027491792, (0, 1): 0.0711046052474627, (0, 2): 0.1242345115282214, (0, 3): 0.17057029578162602, (0, 4): 0.2168772973891997, (0, 5): 0.2562276843234273, (0, 6): 0.29625499967310853, (0, 7): 0.3330740197970219, (1, 0): 0.04661414862566997, (1, 1): 0.09524502816303104, (1, 2): 0.1353609037607506, (1, 3): 0.18464949267531858, (1, 4): 0.24760590682653993, (1, 5): 0.2940356852458754, (1, 6): 0.34212371682867704, (1, 7): 0.3868652359037011, (2, 0): 0.06777086546117866, (2, 1): 0.08762196238488444, (2, 2): 0.10924897145902392, (2, 3): 0, (2, 4): 0.26323522549669764, (2, 5): 0.30745090582133344, (2, 6): 0.39259343967551397, (2, 7): 0.4472269760894946, (3, 0): 0.08248449936063026, (3, 1): 0.11648474511199598, (3, 2): 0.1446022856681769, (3, 3): 0.17775247430409916, (3, 4): 0.2476502815387306, (3, 5): 0, (3, 6): 0.4493180328622911, (3, 7): 0.5165692896344127, (4, 0): 0.06683198362927824, (4, 1): 0.08762196238488444, (4, 2): 0.10924897145902392, (4, 3): 0, (4, 4): 0.32248848504154903, (4, 5): 0.3759815321725979, (4, 6): 0.47009186085088817, (4, 7): 0.5968170782538974, (5, 0): 0.03255760771086139, (5, 1): 0, (5, 2): 0, (5, 3): 0.2550558033493514, (5, 4): 0.3298432727114218, (5, 5): 0.41790334113023764, (5, 6): 0, (5, 7): 0.6955681680954139, (6, 0): 0.04541783580052669, (6, 1): 0, (6, 2): 0.15124898575808773, (6, 3): 0.19667806312494787, (6, 4): 0, (6, 5): 0.539204929492368, (6, 6): 0, (6, 7): 0.8791208791208771, (7, 0): 0.06624605481449503, (7, 1): 0.08794416337211423, (7, 2): 0.11426817910248527, (7, 3): 0, (7, 4): 0.5925327919628538, (7, 5): 0.7488960305658998, (7, 6): 0.8791208791208771, (7, 7): 0}\n",
            "iter   14   |   diff: 0.03332   |   V(start): 0.058 \n",
            "{(0, 0): 0.08741608425278712, (0, 1): 0.12470032438309275, (0, 2): 0.16245961462661854, (0, 3): 0.197284354501957, (0, 4): 0.23254394991624439, (0, 5): 0.26593355593399093, (0, 6): 0.30146370843487574, (0, 7): 0.336190341539994, (1, 0): 0.09242907051350911, (1, 1): 0.1292319272404234, (1, 2): 0.16264750130263317, (1, 3): 0.2004703198717894, (1, 4): 0.25818356916665336, (1, 5): 0.29911902003207275, (1, 6): 0.34474842178317117, (1, 7): 0.38805035360806855, (2, 0): 0.08747963488080468, (2, 1): 0.10312119943330891, (2, 2): 0.11983409886276965, (2, 3): 0, (2, 4): 0.26785342424358327, (2, 5): 0.30986330321543964, (2, 6): 0.39362667594291084, (2, 7): 0.44764669342370944, (3, 0): 0.09965097765651308, (3, 1): 0.12426208876211807, (3, 2): 0.14854183796290882, (3, 3): 0.17869639098044468, (3, 4): 0.2483781468373944, (3, 5): 0, (3, 6): 0.4496836808247401, (3, 7): 0.5166771124803023, (4, 0): 0.08502866147830594, (4, 1): 0.10300734145189896, (4, 2): 0.11528001659980709, (4, 3): 0, (4, 4): 0.32280509927697143, (4, 5): 0.3761179918363649, (4, 6): 0.47017967849722647, (4, 7): 0.5968370834652142, (5, 0): 0.05747238300019198, (5, 1): 0, (5, 2): 0, (5, 3): 0.2552910787142861, (5, 4): 0.32993898059475435, (5, 5): 0.4179199954794384, (5, 6): 0, (5, 7): 0.6955681680956386, (6, 0): 0.05748670322592097, (6, 1): 0, (6, 2): 0.15253514473386606, (6, 3): 0.1974058018053245, (6, 4): 0, (6, 5): 0.5392052059480384, (6, 6): 0, (6, 7): 0.8791208791208791, (7, 0): 0.07619929395569959, (7, 1): 0.09222318173266088, (7, 2): 0.11747941165896922, (7, 3): 0, (7, 4): 0.5925331843436079, (7, 5): 0.7488961464912081, (7, 6): 0.8791208791208791, (7, 7): 0} {(0, 0): 0.05832104677922606, (0, 1): 0.10442031530726385, (0, 2): 0.14617420033877823, (0, 3): 0.18812143508134882, (0, 4): 0.22628742109228422, (0, 5): 0.2628273030258754, (0, 6): 0.2993662294874879, (0, 7): 0.33518258160297654, (1, 0): 0.07760625579363105, (1, 1): 0.11174524179465169, (1, 2): 0.15396114819508147, (1, 3): 0.19362757953545512, (1, 4): 0.2549158204367611, (1, 5): 0.29706014922967594, (1, 6): 0.343948359469832, (1, 7): 0.3876124285303502, (2, 0): 0.07470669123588383, (2, 1): 0.09980080180345534, (2, 2): 0.11199962229572698, (2, 3): 0, (2, 4): 0.2659377091442345, (2, 5): 0.30913048823849887, (2, 6): 0.3932331802566233, (2, 7): 0.447513725955628, (3, 0): 0.09598327289877823, (3, 1): 0.11988559891036658, (3, 2): 0.14764659636157568, (3, 3): 0.17830820270788605, (3, 4): 0.24818943191728426, (3, 5): 0, (3, 6): 0.44957156558415345, (3, 7): 0.5166381553675095, (4, 0): 0.07344160255355106, (4, 1): 0.0997163024385843, (4, 2): 0.11199962229572698, (4, 3): 0, (4, 4): 0.3226811230467842, (4, 5): 0.3760774405143609, (4, 6): 0.47014691930041236, (4, 7): 0.5968308855481287, (5, 0): 0.05104921290705786, (5, 1): 0, (5, 2): 0, (5, 3): 0.25518818203346905, (5, 4): 0.32991436926751055, (5, 5): 0.41791344377853296, (5, 6): 0, (5, 7): 0.6955681680956188, (6, 0): 0.05178476468848382, (6, 1): 0, (6, 2): 0.15189234156918616, (6, 3): 0.1972525871297609, (6, 4): 0, (6, 5): 0.5392051420074478, (6, 6): 0, (6, 7): 0.879120879120879, (7, 0): 0.0733695477832742, (7, 1): 0.09018806365727969, (7, 2): 0.11681424444931347, (7, 3): 0, (7, 4): 0.5925330932841046, (7, 5): 0.7488961193722756, (7, 6): 0.879120879120879, (7, 7): 0}\n",
            "iter   15   |   diff: 0.02910   |   V(start): 0.087 \n",
            "{(0, 0): 0.10597029748479345, (0, 1): 0.13982482517728181, (0, 2): 0.17130437567504167, (0, 3): 0.20322956463333314, (0, 4): 0.23563763698993428, (0, 5): 0.2679086019100563, (0, 6): 0.3024100144565419, (0, 7): 0.33678511909554765, (1, 0): 0.10878760233512813, (1, 1): 0.13761013808137204, (1, 2): 0.1697450645217333, (1, 3): 0.20364776170516657, (1, 4): 0.2604014580974769, (1, 5): 0.30004058100733205, (1, 6): 0.3452564503065085, (1, 7): 0.3882575090502824, (2, 0): 0.09153446792728441, (2, 1): 0.11170522365002655, (2, 2): 0.1263871088868937, (2, 3): 0, (2, 4): 0.2686921327554809, (2, 5): 0.3103319184817823, (2, 6): 0.3938045084997828, (2, 7): 0.4477221242288136, (3, 0): 0.10499445058104498, (3, 1): 0.12550169201296307, (3, 2): 0.14982167189755208, (3, 3): 0.178832265722924, (3, 4): 0.24850234666765947, (3, 5): 0, (3, 6): 0.4497500928854301, (3, 7): 0.5166951714924082, (4, 0): 0.08867194417640786, (4, 1): 0.10749648493575518, (4, 2): 0.11622078406396526, (4, 3): 0, (4, 4): 0.3228534955910761, (4, 5): 0.37614216811115253, (4, 6): 0.4701942313691809, (4, 7): 0.5968405896054795, (5, 0): 0.06639315073439755, (5, 1): 0, (5, 2): 0, (5, 3): 0.2553225881907023, (5, 4): 0.3299548556801231, (5, 5): 0.4179222565361156, (5, 6): 0, (5, 7): 0.6955681680956404, (6, 0): 0.06003729493843659, (6, 1): 0, (6, 2): 0.15270532434914086, (6, 3): 0.19753773970033395, (6, 4): 0, (6, 5): 0.5392052254736698, (6, 6): 0, (6, 7): 0.8791208791208791, (7, 0): 0.07843243059386168, (7, 1): 0.09288526275039732, (7, 2): 0.11812539056432306, (7, 3): 0, (7, 4): 0.5925332120645945, (7, 5): 0.7488961546865651, (7, 6): 0.8791208791208791, (7, 7): 0} {(0, 0): 0.08741608425278712, (0, 1): 0.12470032438309275, (0, 2): 0.16245961462661854, (0, 3): 0.197284354501957, (0, 4): 0.23254394991624439, (0, 5): 0.26593355593399093, (0, 6): 0.30146370843487574, (0, 7): 0.336190341539994, (1, 0): 0.09242907051350911, (1, 1): 0.1292319272404234, (1, 2): 0.16264750130263317, (1, 3): 0.2004703198717894, (1, 4): 0.25818356916665336, (1, 5): 0.29911902003207275, (1, 6): 0.34474842178317117, (1, 7): 0.38805035360806855, (2, 0): 0.08747963488080468, (2, 1): 0.10312119943330891, (2, 2): 0.11983409886276965, (2, 3): 0, (2, 4): 0.26785342424358327, (2, 5): 0.30986330321543964, (2, 6): 0.39362667594291084, (2, 7): 0.44764669342370944, (3, 0): 0.09965097765651308, (3, 1): 0.12426208876211807, (3, 2): 0.14854183796290882, (3, 3): 0.17869639098044468, (3, 4): 0.2483781468373944, (3, 5): 0, (3, 6): 0.4496836808247401, (3, 7): 0.5166771124803023, (4, 0): 0.08502866147830594, (4, 1): 0.10300734145189896, (4, 2): 0.11528001659980709, (4, 3): 0, (4, 4): 0.32280509927697143, (4, 5): 0.3761179918363649, (4, 6): 0.47017967849722647, (4, 7): 0.5968370834652142, (5, 0): 0.05747238300019198, (5, 1): 0, (5, 2): 0, (5, 3): 0.2552910787142861, (5, 4): 0.32993898059475435, (5, 5): 0.4179199954794384, (5, 6): 0, (5, 7): 0.6955681680956386, (6, 0): 0.05748670322592097, (6, 1): 0, (6, 2): 0.15253514473386606, (6, 3): 0.1974058018053245, (6, 4): 0, (6, 5): 0.5392052059480384, (6, 6): 0, (6, 7): 0.8791208791208791, (7, 0): 0.07619929395569959, (7, 1): 0.09222318173266088, (7, 2): 0.11747941165896922, (7, 3): 0, (7, 4): 0.5925331843436079, (7, 5): 0.7488961464912081, (7, 6): 0.8791208791208791, (7, 7): 0}\n",
            "iter   16   |   diff: 0.01855   |   V(start): 0.106 \n",
            "{(0, 0): 0.12000208511143585, (0, 1): 0.14830829717930888, (0, 2): 0.17701973615370958, (0, 3): 0.20627805800321766, (0, 4): 0.23753771193310752, (0, 5): 0.2688506368712752, (0, 6): 0.30300707911119046, (0, 7): 0.3370729685358914, (1, 0): 0.1168547283056749, (1, 1): 0.14485415085010575, (1, 2): 0.1734186220382941, (1, 3): 0.20577971064718337, (1, 4): 0.2614188976023665, (1, 5): 0.30062629105595157, (1, 6): 0.34548607422502897, (1, 7): 0.388376185786857, (2, 0): 0.0996681457904747, (2, 1): 0.11869224133186392, (2, 2): 0.13226991658415038, (2, 3): 0, (2, 4): 0.2692403237357456, (2, 5): 0.31054289841050353, (2, 6): 0.3939105183320203, (2, 7): 0.44775792042010765, (3, 0): 0.10657979533866574, (3, 1): 0.12759975753895786, (3, 2): 0.1505939416860826, (3, 3): 0.17892168960071483, (3, 4): 0.248549420740638, (3, 5): 0, (3, 6): 0.4497804100627407, (3, 7): 0.5167052983099507, (4, 0): 0.09325116303844709, (4, 1): 0.10880156379096702, (4, 2): 0.11754628741045547, (4, 3): 0, (4, 4): 0.32288350925133025, (4, 5): 0.37615284967406065, (4, 6): 0.47020273287563397, (4, 7): 0.5968422149165805, (5, 0): 0.06981918337310945, (5, 1): 0, (5, 2): 0, (5, 3): 0.25534589266271873, (5, 4): 0.3299608393092001, (5, 5): 0.4179236993522534, (5, 6): 0, (5, 7): 0.6955681680956406, (6, 0): 0.06187470657203971, (6, 1): 0, (6, 2): 0.1528584577350295, (6, 3): 0.19757574268872835, (6, 4): 0, (6, 5): 0.539205231374327, (6, 6): 0, (6, 7): 0.8791208791208791, (7, 0): 0.07933966447819292, (7, 1): 0.09340995485384837, (7, 2): 0.11830750717891719, (7, 3): 0, (7, 4): 0.5925332204601405, (7, 5): 0.7488961571814541, (7, 6): 0.8791208791208791, (7, 7): 0} {(0, 0): 0.10597029748479345, (0, 1): 0.13982482517728181, (0, 2): 0.17130437567504167, (0, 3): 0.20322956463333314, (0, 4): 0.23563763698993428, (0, 5): 0.2679086019100563, (0, 6): 0.3024100144565419, (0, 7): 0.33678511909554765, (1, 0): 0.10878760233512813, (1, 1): 0.13761013808137204, (1, 2): 0.1697450645217333, (1, 3): 0.20364776170516657, (1, 4): 0.2604014580974769, (1, 5): 0.30004058100733205, (1, 6): 0.3452564503065085, (1, 7): 0.3882575090502824, (2, 0): 0.09153446792728441, (2, 1): 0.11170522365002655, (2, 2): 0.1263871088868937, (2, 3): 0, (2, 4): 0.2686921327554809, (2, 5): 0.3103319184817823, (2, 6): 0.3938045084997828, (2, 7): 0.4477221242288136, (3, 0): 0.10499445058104498, (3, 1): 0.12550169201296307, (3, 2): 0.14982167189755208, (3, 3): 0.178832265722924, (3, 4): 0.24850234666765947, (3, 5): 0, (3, 6): 0.4497500928854301, (3, 7): 0.5166951714924082, (4, 0): 0.08867194417640786, (4, 1): 0.10749648493575518, (4, 2): 0.11622078406396526, (4, 3): 0, (4, 4): 0.3228534955910761, (4, 5): 0.37614216811115253, (4, 6): 0.4701942313691809, (4, 7): 0.5968405896054795, (5, 0): 0.06639315073439755, (5, 1): 0, (5, 2): 0, (5, 3): 0.2553225881907023, (5, 4): 0.3299548556801231, (5, 5): 0.4179222565361156, (5, 6): 0, (5, 7): 0.6955681680956404, (6, 0): 0.06003729493843659, (6, 1): 0, (6, 2): 0.15270532434914086, (6, 3): 0.19753773970033395, (6, 4): 0, (6, 5): 0.5392052254736698, (6, 6): 0, (6, 7): 0.8791208791208791, (7, 0): 0.07843243059386168, (7, 1): 0.09288526275039732, (7, 2): 0.11812539056432306, (7, 3): 0, (7, 4): 0.5925332120645945, (7, 5): 0.7488961546865651, (7, 6): 0.8791208791208791, (7, 7): 0}\n",
            "iter   17   |   diff: 0.01403   |   V(start): 0.120 \n",
            "{(0, 0): 0.12809908717664237, (0, 1): 0.15383883035331822, (0, 2): 0.18005965399959706, (0, 3): 0.20811235177037352, (0, 4): 0.23847855340551083, (0, 5): 0.26941802047350755, (0, 6): 0.30328309792866587, (0, 7): 0.33723805805477447, (1, 0): 0.1240653093932481, (1, 1): 0.14889145633357734, (1, 2): 0.1759974604123794, (1, 3): 0.20678663149399346, (1, 4): 0.2620609527704819, (1, 5): 0.30089539161738094, (1, 6): 0.3456257961149074, (1, 7): 0.38843330610354726, (2, 0): 0.10556752088693269, (2, 1): 0.1251694142257924, (2, 2): 0.13554370958743953, (2, 3): 0, (2, 4): 0.26948803550643297, (2, 5): 0.31067193939409027, (2, 6): 0.3939596862883768, (2, 7): 0.4477779742708561, (3, 0): 0.10923456322265264, (3, 1): 0.12890208047503426, (3, 2): 0.1513070748720292, (3, 3): 0.17895558293325936, (3, 4): 0.24857907872502216, (3, 5): 0, (3, 6): 0.44979800739185344, (3, 7): 0.5167101084934802, (4, 0): 0.09492219805848662, (4, 1): 0.1108435959684509, (4, 2): 0.11821977875516651, (4, 3): 0, (4, 4): 0.32289597516980906, (4, 5): 0.37615910061215935, (4, 6): 0.4702066316455846, (4, 7): 0.5968431263301606, (5, 0): 0.07342456389126176, (5, 1): 0, (5, 2): 0, (5, 3): 0.25535362114460963, (5, 4): 0.3299645793662422, (5, 5): 0.41792424212734347, (5, 6): 0, (5, 7): 0.6955681680956406, (6, 0): 0.06269328201578248, (6, 1): 0, (6, 2): 0.15290221038198698, (6, 3): 0.1976063039133102, (6, 4): 0, (6, 5): 0.5392052331706471, (6, 6): 0, (6, 7): 0.8791208791208791, (7, 0): 0.07996446088929175, (7, 1): 0.09358830110566674, (7, 2): 0.1184649855060676, (7, 3): 0, (7, 4): 0.5925332230120597, (7, 5): 0.7488961579370532, (7, 6): 0.8791208791208791, (7, 7): 0} {(0, 0): 0.12000208511143585, (0, 1): 0.14830829717930888, (0, 2): 0.17701973615370958, (0, 3): 0.20627805800321766, (0, 4): 0.23753771193310752, (0, 5): 0.2688506368712752, (0, 6): 0.30300707911119046, (0, 7): 0.3370729685358914, (1, 0): 0.1168547283056749, (1, 1): 0.14485415085010575, (1, 2): 0.1734186220382941, (1, 3): 0.20577971064718337, (1, 4): 0.2614188976023665, (1, 5): 0.30062629105595157, (1, 6): 0.34548607422502897, (1, 7): 0.388376185786857, (2, 0): 0.0996681457904747, (2, 1): 0.11869224133186392, (2, 2): 0.13226991658415038, (2, 3): 0, (2, 4): 0.2692403237357456, (2, 5): 0.31054289841050353, (2, 6): 0.3939105183320203, (2, 7): 0.44775792042010765, (3, 0): 0.10657979533866574, (3, 1): 0.12759975753895786, (3, 2): 0.1505939416860826, (3, 3): 0.17892168960071483, (3, 4): 0.248549420740638, (3, 5): 0, (3, 6): 0.4497804100627407, (3, 7): 0.5167052983099507, (4, 0): 0.09325116303844709, (4, 1): 0.10880156379096702, (4, 2): 0.11754628741045547, (4, 3): 0, (4, 4): 0.32288350925133025, (4, 5): 0.37615284967406065, (4, 6): 0.47020273287563397, (4, 7): 0.5968422149165805, (5, 0): 0.06981918337310945, (5, 1): 0, (5, 2): 0, (5, 3): 0.25534589266271873, (5, 4): 0.3299608393092001, (5, 5): 0.4179236993522534, (5, 6): 0, (5, 7): 0.6955681680956406, (6, 0): 0.06187470657203971, (6, 1): 0, (6, 2): 0.1528584577350295, (6, 3): 0.19757574268872835, (6, 4): 0, (6, 5): 0.539205231374327, (6, 6): 0, (6, 7): 0.8791208791208791, (7, 0): 0.07933966447819292, (7, 1): 0.09340995485384837, (7, 2): 0.11830750717891719, (7, 3): 0, (7, 4): 0.5925332204601405, (7, 5): 0.7488961571814541, (7, 6): 0.8791208791208791, (7, 7): 0}\n",
            "iter   18   |   diff: 0.00810   |   V(start): 0.128 \n",
            "{(0, 0): 0.1334587535456793, (0, 1): 0.1568886766815305, (0, 2): 0.18188603357174685, (0, 3): 0.20904546694576082, (0, 4): 0.23902953029676482, (0, 5): 0.26969203759681937, (0, 6): 0.3034496202702788, (0, 7): 0.3373188844330637, (1, 0): 0.12823184328589746, (1, 1): 0.15182891350903316, (1, 2): 0.1772906773985086, (1, 3): 0.2074139976540806, (1, 4): 0.26236167496658924, (1, 5): 0.3010586695908172, (1, 6): 0.3456905569225149, (1, 7): 0.3884654606746773, (2, 0): 0.1111189667780016, (2, 1): 0.1289018593028692, (2, 2): 0.13798341877723452, (2, 3): 0, (2, 4): 0.26964139919834035, (2, 5): 0.31073155937319563, (2, 6): 0.3939882837906249, (2, 7): 0.4477876675656367, (3, 0): 0.11085357264711243, (3, 1): 0.13018226482534295, (3, 2): 0.1516867336627813, (3, 3): 0.17897693668201597, (3, 4): 0.24859110458625588, (3, 5): 0, (3, 6): 0.4498062467293623, (3, 7): 0.5167127813873957, (4, 0): 0.09716780698273429, (4, 1): 0.11199227585525347, (4, 2): 0.11891701754502164, (4, 3): 0, (4, 4): 0.32290348166896854, (4, 5): 0.37616195657628193, (4, 6): 0.4702088716229825, (4, 7): 0.5968435592466783, (5, 0): 0.07495219335232393, (5, 1): 0, (5, 2): 0, (5, 3): 0.2553590644958923, (5, 4): 0.3299660920969702, (5, 5): 0.41792458002582766, (5, 6): 0, (5, 7): 0.6955681680956406, (6, 0): 0.06321680722171048, (6, 1): 0, (6, 2): 0.15293838751312944, (6, 3): 0.19761580615849778, (6, 4): 0, (6, 5): 0.5392052337146783, (6, 6): 0, (6, 7): 0.8791208791208791, (7, 0): 0.08022277365753674, (7, 1): 0.0937177366638787, (7, 2): 0.11851253857454065, (7, 3): 0, (7, 4): 0.5925332237857637, (7, 5): 0.7488961581667261, (7, 6): 0.8791208791208791, (7, 7): 0} {(0, 0): 0.12809908717664237, (0, 1): 0.15383883035331822, (0, 2): 0.18005965399959706, (0, 3): 0.20811235177037352, (0, 4): 0.23847855340551083, (0, 5): 0.26941802047350755, (0, 6): 0.30328309792866587, (0, 7): 0.33723805805477447, (1, 0): 0.1240653093932481, (1, 1): 0.14889145633357734, (1, 2): 0.1759974604123794, (1, 3): 0.20678663149399346, (1, 4): 0.2620609527704819, (1, 5): 0.30089539161738094, (1, 6): 0.3456257961149074, (1, 7): 0.38843330610354726, (2, 0): 0.10556752088693269, (2, 1): 0.1251694142257924, (2, 2): 0.13554370958743953, (2, 3): 0, (2, 4): 0.26948803550643297, (2, 5): 0.31067193939409027, (2, 6): 0.3939596862883768, (2, 7): 0.4477779742708561, (3, 0): 0.10923456322265264, (3, 1): 0.12890208047503426, (3, 2): 0.1513070748720292, (3, 3): 0.17895558293325936, (3, 4): 0.24857907872502216, (3, 5): 0, (3, 6): 0.44979800739185344, (3, 7): 0.5167101084934802, (4, 0): 0.09492219805848662, (4, 1): 0.1108435959684509, (4, 2): 0.11821977875516651, (4, 3): 0, (4, 4): 0.32289597516980906, (4, 5): 0.37615910061215935, (4, 6): 0.4702066316455846, (4, 7): 0.5968431263301606, (5, 0): 0.07342456389126176, (5, 1): 0, (5, 2): 0, (5, 3): 0.25535362114460963, (5, 4): 0.3299645793662422, (5, 5): 0.41792424212734347, (5, 6): 0, (5, 7): 0.6955681680956406, (6, 0): 0.06269328201578248, (6, 1): 0, (6, 2): 0.15290221038198698, (6, 3): 0.1976063039133102, (6, 4): 0, (6, 5): 0.5392052331706471, (6, 6): 0, (6, 7): 0.8791208791208791, (7, 0): 0.07996446088929175, (7, 1): 0.09358830110566674, (7, 2): 0.1184649855060676, (7, 3): 0, (7, 4): 0.5925332230120597, (7, 5): 0.7488961579370532, (7, 6): 0.8791208791208791, (7, 7): 0}\n",
            "iter   19   |   diff: 0.00555   |   V(start): 0.133 \n",
            "{(0, 0): 0.13651200092554389, (0, 1): 0.15874252728880844, (0, 2): 0.18283864018827078, (0, 3): 0.2095826136276564, (0, 4): 0.23930347554341186, (0, 5): 0.269851290241488, (0, 6): 0.30352818396690023, (0, 7): 0.3373642971090685, (1, 0): 0.13132881255563517, (1, 1): 0.1533704359655222, (1, 2): 0.17812632902234637, (1, 3): 0.20771449800106273, (1, 4): 0.2625426257599479, (1, 5): 0.30113532471151205, (1, 6): 0.34572873605314447, (1, 7): 0.3884811622310057, (2, 0): 0.11432702613203674, (2, 1): 0.13173603242647514, (2, 2): 0.13925045506418443, (2, 3): 0, (2, 4): 0.2697124729084569, (2, 5): 0.3107668445924235, (2, 6): 0.3940018329759274, (2, 7): 0.44779303822098854, (3, 0): 0.11247704031271318, (3, 1): 0.13089492040143358, (3, 2): 0.1519844336800546, (3, 3): 0.17898559530210426, (3, 4): 0.2485984311030388, (3, 5): 0, (3, 6): 0.4498109465861497, (3, 7): 0.5167140751881166, (4, 0): 0.09863897976133985, (4, 1): 0.11317886488174497, (4, 2): 0.11929375306417536, (4, 3): 0, (4, 4): 0.32290675643641337, (4, 5): 0.37616359977087194, (4, 6): 0.470209924863251, (4, 7): 0.5968437998071308, (5, 0): 0.07670651842927784, (5, 1): 0, (5, 2): 0, (5, 3): 0.25536100886408336, (5, 4): 0.32996701096880315, (5, 5): 0.4179247165632958, (5, 6): 0, (5, 7): 0.6955681680956406, (6, 0): 0.0634499096833804, (6, 1): 0, (6, 2): 0.1529495089058271, (6, 3): 0.19762298131322414, (6, 4): 0, (6, 5): 0.5392052338800427, (6, 6): 0, (6, 7): 0.8791208791208791, (7, 0): 0.08038633267712493, (7, 1): 0.09376362407341837, (7, 2): 0.11855023530920229, (7, 3): 0, (7, 4): 0.5925332240207615, (7, 5): 0.7488961582363592, (7, 6): 0.8791208791208791, (7, 7): 0} {(0, 0): 0.1334587535456793, (0, 1): 0.1568886766815305, (0, 2): 0.18188603357174685, (0, 3): 0.20904546694576082, (0, 4): 0.23902953029676482, (0, 5): 0.26969203759681937, (0, 6): 0.3034496202702788, (0, 7): 0.3373188844330637, (1, 0): 0.12823184328589746, (1, 1): 0.15182891350903316, (1, 2): 0.1772906773985086, (1, 3): 0.2074139976540806, (1, 4): 0.26236167496658924, (1, 5): 0.3010586695908172, (1, 6): 0.3456905569225149, (1, 7): 0.3884654606746773, (2, 0): 0.1111189667780016, (2, 1): 0.1289018593028692, (2, 2): 0.13798341877723452, (2, 3): 0, (2, 4): 0.26964139919834035, (2, 5): 0.31073155937319563, (2, 6): 0.3939882837906249, (2, 7): 0.4477876675656367, (3, 0): 0.11085357264711243, (3, 1): 0.13018226482534295, (3, 2): 0.1516867336627813, (3, 3): 0.17897693668201597, (3, 4): 0.24859110458625588, (3, 5): 0, (3, 6): 0.4498062467293623, (3, 7): 0.5167127813873957, (4, 0): 0.09716780698273429, (4, 1): 0.11199227585525347, (4, 2): 0.11891701754502164, (4, 3): 0, (4, 4): 0.32290348166896854, (4, 5): 0.37616195657628193, (4, 6): 0.4702088716229825, (4, 7): 0.5968435592466783, (5, 0): 0.07495219335232393, (5, 1): 0, (5, 2): 0, (5, 3): 0.2553590644958923, (5, 4): 0.3299660920969702, (5, 5): 0.41792458002582766, (5, 6): 0, (5, 7): 0.6955681680956406, (6, 0): 0.06321680722171048, (6, 1): 0, (6, 2): 0.15293838751312944, (6, 3): 0.19761580615849778, (6, 4): 0, (6, 5): 0.5392052337146783, (6, 6): 0, (6, 7): 0.8791208791208791, (7, 0): 0.08022277365753674, (7, 1): 0.0937177366638787, (7, 2): 0.11851253857454065, (7, 3): 0, (7, 4): 0.5925332237857637, (7, 5): 0.7488961581667261, (7, 6): 0.8791208791208791, (7, 7): 0}\n",
            "iter   20   |   diff: 0.00321   |   V(start): 0.137 \n",
            "{(0, 0): 0.1384002928612482, (0, 1): 0.15973398762844476, (0, 2): 0.18338632904086818, (0, 3): 0.2098552424378413, (0, 4): 0.23945907809117378, (0, 5): 0.2699290878019382, (0, 6): 0.3035740928198142, (0, 7): 0.3373867601031613, (1, 0): 0.13300222633035824, (1, 1): 0.15439402727046492, (1, 2): 0.17854245713348618, (1, 3): 0.2078931257736516, (1, 4): 0.2626288691529569, (1, 5): 0.30118032209331613, (1, 6): 0.3457468035674943, (1, 7): 0.3884898783646853, (2, 0): 0.11679247010521346, (2, 1): 0.1332486872028359, (2, 2): 0.14010719981447217, (2, 3): 0, (2, 4): 0.26975482322421374, (2, 5): 0.3107834989667038, (2, 6): 0.3940095589566483, (2, 7): 0.4477956725431665, (3, 0): 0.11341128321943608, (3, 1): 0.13147113300737912, (3, 2): 0.15213860734906748, (3, 3): 0.17899087039418796, (3, 4): 0.248601568211407, (3, 5): 0, (3, 6): 0.44981319234097006, (3, 7): 0.5167147878208181, (4, 0): 0.10004707504303112, (4, 1): 0.11385828864332856, (4, 2): 0.11961489008899635, (4, 3): 0, (4, 4): 0.3229086816214936, (4, 5): 0.3761643703922374, (4, 6): 0.4702105210538876, (4, 7): 0.5968439162491955, (5, 0): 0.0779236520867997, (5, 1): 0, (5, 2): 0, (5, 3): 0.25536231621572847, (5, 4): 0.3299674040048502, (5, 5): 0.4179247993808231, (5, 6): 0, (5, 7): 0.6955681680956406, (6, 0): 0.06358865139903419, (6, 1): 0, (6, 2): 0.1529580677233496, (6, 3): 0.19762538218366446, (6, 4): 0, (6, 5): 0.5392052339301786, (6, 6): 0, (6, 7): 0.8791208791208791, (7, 0): 0.08045507114530671, (7, 1): 0.0937948955892333, (7, 2): 0.11856237257880317, (7, 3): 0, (7, 4): 0.5925332240920471, (7, 5): 0.7488961582575091, (7, 6): 0.8791208791208791, (7, 7): 0} {(0, 0): 0.13651200092554389, (0, 1): 0.15874252728880844, (0, 2): 0.18283864018827078, (0, 3): 0.2095826136276564, (0, 4): 0.23930347554341186, (0, 5): 0.269851290241488, (0, 6): 0.30352818396690023, (0, 7): 0.3373642971090685, (1, 0): 0.13132881255563517, (1, 1): 0.1533704359655222, (1, 2): 0.17812632902234637, (1, 3): 0.20771449800106273, (1, 4): 0.2625426257599479, (1, 5): 0.30113532471151205, (1, 6): 0.34572873605314447, (1, 7): 0.3884811622310057, (2, 0): 0.11432702613203674, (2, 1): 0.13173603242647514, (2, 2): 0.13925045506418443, (2, 3): 0, (2, 4): 0.2697124729084569, (2, 5): 0.3107668445924235, (2, 6): 0.3940018329759274, (2, 7): 0.44779303822098854, (3, 0): 0.11247704031271318, (3, 1): 0.13089492040143358, (3, 2): 0.1519844336800546, (3, 3): 0.17898559530210426, (3, 4): 0.2485984311030388, (3, 5): 0, (3, 6): 0.4498109465861497, (3, 7): 0.5167140751881166, (4, 0): 0.09863897976133985, (4, 1): 0.11317886488174497, (4, 2): 0.11929375306417536, (4, 3): 0, (4, 4): 0.32290675643641337, (4, 5): 0.37616359977087194, (4, 6): 0.470209924863251, (4, 7): 0.5968437998071308, (5, 0): 0.07670651842927784, (5, 1): 0, (5, 2): 0, (5, 3): 0.25536100886408336, (5, 4): 0.32996701096880315, (5, 5): 0.4179247165632958, (5, 6): 0, (5, 7): 0.6955681680956406, (6, 0): 0.0634499096833804, (6, 1): 0, (6, 2): 0.1529495089058271, (6, 3): 0.19762298131322414, (6, 4): 0, (6, 5): 0.5392052338800427, (6, 6): 0, (6, 7): 0.8791208791208791, (7, 0): 0.08038633267712493, (7, 1): 0.09376362407341837, (7, 2): 0.11855023530920229, (7, 3): 0, (7, 4): 0.5925332240207615, (7, 5): 0.7488961582363592, (7, 6): 0.8791208791208791, (7, 7): 0}\n",
            "iter   21   |   diff: 0.00247   |   V(start): 0.138 \n",
            "{(0, 0): 0.1394346978197248, (0, 1): 0.16030967825032694, (0, 2): 0.1836693653109376, (0, 3): 0.2100078893646795, (0, 4): 0.2395368584693673, (0, 5): 0.26997319372083917, (0, 6): 0.3035961248800549, (0, 7): 0.33739918918564127, (1, 0): 0.1341310483017163, (1, 1): 0.1549190098709253, (1, 2): 0.1787974681540098, (1, 3): 0.20797975760953472, (1, 4): 0.26267908302557247, (1, 5): 0.30120183137777373, (1, 6): 0.34575720049000686, (1, 7): 0.38849418560497606, (2, 0): 0.11826530711558239, (2, 1): 0.13428466992750646, (2, 2): 0.14054295098436528, (2, 3): 0, (2, 4): 0.26977485861881956, (2, 5): 0.3107931114371852, (2, 6): 0.3940132838628417, (2, 7): 0.44779711806597244, (3, 0): 0.11417477482865498, (3, 1): 0.1317794251174834, (3, 2): 0.15224841477512752, (3, 3): 0.17899312911221305, (3, 4): 0.24860342910295233, (3, 5): 0, (3, 6): 0.44981445443193735, (3, 7): 0.5167151379139817, (4, 0): 0.10090760664976635, (4, 1): 0.11442879262719544, (4, 2): 0.11978704326922816, (4, 3): 0, (4, 4): 0.32290955418187406, (4, 5): 0.37616480710307315, (4, 6): 0.4702108070101081, (4, 7): 0.5968439803861387, (5, 0): 0.07904702271879438, (5, 1): 0, (5, 2): 0, (5, 3): 0.25536281528002197, (5, 4): 0.32996763690012704, (5, 5): 0.4179248347901651, (5, 6): 0, (5, 7): 0.6955681680956406, (6, 0): 0.06365062985053392, (6, 1): 0, (6, 2): 0.15296088870433072, (6, 3): 0.19762709377042598, (6, 4): 0, (6, 5): 0.5392052339454065, (6, 6): 0, (6, 7): 0.8791208791208791, (7, 0): 0.08049625985323866, (7, 1): 0.09380644885976928, (7, 2): 0.11857134936384271, (7, 3): 0, (7, 4): 0.5925332241136908, (7, 5): 0.7488961582639247, (7, 6): 0.8791208791208791, (7, 7): 0} {(0, 0): 0.1384002928612482, (0, 1): 0.15973398762844476, (0, 2): 0.18338632904086818, (0, 3): 0.2098552424378413, (0, 4): 0.23945907809117378, (0, 5): 0.2699290878019382, (0, 6): 0.3035740928198142, (0, 7): 0.3373867601031613, (1, 0): 0.13300222633035824, (1, 1): 0.15439402727046492, (1, 2): 0.17854245713348618, (1, 3): 0.2078931257736516, (1, 4): 0.2626288691529569, (1, 5): 0.30118032209331613, (1, 6): 0.3457468035674943, (1, 7): 0.3884898783646853, (2, 0): 0.11679247010521346, (2, 1): 0.1332486872028359, (2, 2): 0.14010719981447217, (2, 3): 0, (2, 4): 0.26975482322421374, (2, 5): 0.3107834989667038, (2, 6): 0.3940095589566483, (2, 7): 0.4477956725431665, (3, 0): 0.11341128321943608, (3, 1): 0.13147113300737912, (3, 2): 0.15213860734906748, (3, 3): 0.17899087039418796, (3, 4): 0.248601568211407, (3, 5): 0, (3, 6): 0.44981319234097006, (3, 7): 0.5167147878208181, (4, 0): 0.10004707504303112, (4, 1): 0.11385828864332856, (4, 2): 0.11961489008899635, (4, 3): 0, (4, 4): 0.3229086816214936, (4, 5): 0.3761643703922374, (4, 6): 0.4702105210538876, (4, 7): 0.5968439162491955, (5, 0): 0.0779236520867997, (5, 1): 0, (5, 2): 0, (5, 3): 0.25536231621572847, (5, 4): 0.3299674040048502, (5, 5): 0.4179247993808231, (5, 6): 0, (5, 7): 0.6955681680956406, (6, 0): 0.06358865139903419, (6, 1): 0, (6, 2): 0.1529580677233496, (6, 3): 0.19762538218366446, (6, 4): 0, (6, 5): 0.5392052339301786, (6, 6): 0, (6, 7): 0.8791208791208791, (7, 0): 0.08045507114530671, (7, 1): 0.0937948955892333, (7, 2): 0.11856237257880317, (7, 3): 0, (7, 4): 0.5925332240920471, (7, 5): 0.7488961582575091, (7, 6): 0.8791208791208791, (7, 7): 0}\n",
            "iter   22   |   diff: 0.00147   |   V(start): 0.139 \n",
            "{(0, 0): 0.14004388549116512, (0, 1): 0.1606125249547878, (0, 2): 0.1838276953544145, (0, 3): 0.21008542632562374, (0, 4): 0.2395801342135488, (0, 5): 0.2699949621725147, (0, 6): 0.3036086988143882, (0, 7): 0.33740539190149543, (1, 0): 0.13473468755124388, (1, 1): 0.15524766840689205, (1, 2): 0.17892453394544228, (1, 3): 0.20802964982123334, (1, 4): 0.2627033731299339, (1, 5): 0.30121415181702715, (1, 6): 0.3457622059096935, (1, 7): 0.3884965497560487, (2, 0): 0.11930385271111375, (2, 1): 0.13483443033606152, (2, 2): 0.14081979736436262, (2, 3): 0, (2, 4): 0.26978646632634057, (2, 5): 0.3107977292052456, (2, 6): 0.3940153739504752, (2, 7): 0.4477978354716602, (3, 0): 0.11460674832346944, (3, 1): 0.132003070268015, (3, 2): 0.15230475244361683, (3, 3): 0.17899446895412569, (3, 4): 0.2486042606310485, (3, 5): 0, (3, 6): 0.44981506747663236, (3, 7): 0.5167153291891526, (4, 0): 0.10158611381155816, (4, 1): 0.11474370457729756, (4, 2): 0.11991744997453942, (4, 3): 0, (4, 4): 0.32291005705448983, (4, 5): 0.3761650161783927, (4, 6): 0.47021096677689433, (4, 7): 0.5968440118945235, (5, 0): 0.07976770883252328, (5, 1): 0, (5, 2): 0, (5, 3): 0.25536313700742985, (5, 4): 0.3299677409252876, (5, 5): 0.4179248557617042, (5, 6): 0, (5, 7): 0.6955681680956406, (6, 0): 0.06368586378087988, (6, 1): 0, (6, 2): 0.1529629289574526, (6, 3): 0.1976277069850056, (6, 4): 0, (6, 5): 0.5392052339500258, (6, 6): 0, (6, 7): 0.8791208791208791, (7, 0): 0.08051386325237343, (7, 1): 0.093813951939346, (7, 2): 0.11857442026449735, (7, 3): 0, (7, 4): 0.592533224120258, (7, 5): 0.7488961582658727, (7, 6): 0.8791208791208791, (7, 7): 0} {(0, 0): 0.1394346978197248, (0, 1): 0.16030967825032694, (0, 2): 0.1836693653109376, (0, 3): 0.2100078893646795, (0, 4): 0.2395368584693673, (0, 5): 0.26997319372083917, (0, 6): 0.3035961248800549, (0, 7): 0.33739918918564127, (1, 0): 0.1341310483017163, (1, 1): 0.1549190098709253, (1, 2): 0.1787974681540098, (1, 3): 0.20797975760953472, (1, 4): 0.26267908302557247, (1, 5): 0.30120183137777373, (1, 6): 0.34575720049000686, (1, 7): 0.38849418560497606, (2, 0): 0.11826530711558239, (2, 1): 0.13428466992750646, (2, 2): 0.14054295098436528, (2, 3): 0, (2, 4): 0.26977485861881956, (2, 5): 0.3107931114371852, (2, 6): 0.3940132838628417, (2, 7): 0.44779711806597244, (3, 0): 0.11417477482865498, (3, 1): 0.1317794251174834, (3, 2): 0.15224841477512752, (3, 3): 0.17899312911221305, (3, 4): 0.24860342910295233, (3, 5): 0, (3, 6): 0.44981445443193735, (3, 7): 0.5167151379139817, (4, 0): 0.10090760664976635, (4, 1): 0.11442879262719544, (4, 2): 0.11978704326922816, (4, 3): 0, (4, 4): 0.32290955418187406, (4, 5): 0.37616480710307315, (4, 6): 0.4702108070101081, (4, 7): 0.5968439803861387, (5, 0): 0.07904702271879438, (5, 1): 0, (5, 2): 0, (5, 3): 0.25536281528002197, (5, 4): 0.32996763690012704, (5, 5): 0.4179248347901651, (5, 6): 0, (5, 7): 0.6955681680956406, (6, 0): 0.06365062985053392, (6, 1): 0, (6, 2): 0.15296088870433072, (6, 3): 0.19762709377042598, (6, 4): 0, (6, 5): 0.5392052339454065, (6, 6): 0, (6, 7): 0.8791208791208791, (7, 0): 0.08049625985323866, (7, 1): 0.09380644885976928, (7, 2): 0.11857134936384271, (7, 3): 0, (7, 4): 0.5925332241136908, (7, 5): 0.7488961582639247, (7, 6): 0.8791208791208791, (7, 7): 0}\n",
            "iter   23   |   diff: 0.00104   |   V(start): 0.140 \n",
            "{(0, 0): 0.14037108954126407, (0, 1): 0.16078335805772964, (0, 2): 0.1839092075914362, (0, 3): 0.21012805348697228, (0, 4): 0.23960188842512403, (0, 5): 0.27000708340541824, (0, 6): 0.30361482012164026, (0, 7): 0.3374087839887846, (1, 0): 0.13511961769116737, (1, 1): 0.15541589041689488, (1, 2): 0.17899962221597795, (1, 3): 0.2080541170228586, (1, 4): 0.2627171833568496, (1, 5): 0.3012201304789778, (1, 6): 0.34576503238591894, (1, 7): 0.38849772954951217, (2, 0): 0.11988142051114137, (2, 1): 0.13518944975975514, (2, 2): 0.14096076317096398, (2, 3): 0, (2, 4): 0.2697920520662653, (2, 5): 0.31080034290787456, (2, 6): 0.39401639614436473, (2, 7): 0.4477982258641821, (3, 0): 0.11492230758001126, (3, 1): 0.13212145390160643, (3, 2): 0.1523423699074717, (3, 3): 0.17899506765435494, (3, 4): 0.248604743285104, (3, 5): 0, (3, 6): 0.4498154076816532, (3, 7): 0.5167154242639777, (4, 0): 0.10198654244789501, (4, 1): 0.11497753133371957, (4, 2): 0.1199863551713609, (4, 3): 0, (4, 4): 0.322910291788513, (4, 5): 0.3761651330979173, (4, 6): 0.47021104463695396, (4, 7): 0.5968440291092889, (5, 0): 0.08032109573924898, (5, 1): 0, (5, 2): 0, (5, 3): 0.25536326709485757, (5, 4): 0.3299678012833311, (5, 5): 0.4179248651272945, (5, 6): 0, (5, 7): 0.6955681680956406, (6, 0): 0.06370170928198807, (6, 1): 0, (6, 2): 0.15296364685300878, (6, 3): 0.19762812225152027, (6, 4): 0, (6, 5): 0.5392052339514284, (6, 6): 0, (6, 7): 0.8791208791208791, (7, 0): 0.08052402082932192, (7, 1): 0.09381683826497925, (7, 2): 0.11857656452390702, (7, 3): 0, (7, 4): 0.5925332241222516, (7, 5): 0.7488961582664637, (7, 6): 0.8791208791208791, (7, 7): 0} {(0, 0): 0.14004388549116512, (0, 1): 0.1606125249547878, (0, 2): 0.1838276953544145, (0, 3): 0.21008542632562374, (0, 4): 0.2395801342135488, (0, 5): 0.2699949621725147, (0, 6): 0.3036086988143882, (0, 7): 0.33740539190149543, (1, 0): 0.13473468755124388, (1, 1): 0.15524766840689205, (1, 2): 0.17892453394544228, (1, 3): 0.20802964982123334, (1, 4): 0.2627033731299339, (1, 5): 0.30121415181702715, (1, 6): 0.3457622059096935, (1, 7): 0.3884965497560487, (2, 0): 0.11930385271111375, (2, 1): 0.13483443033606152, (2, 2): 0.14081979736436262, (2, 3): 0, (2, 4): 0.26978646632634057, (2, 5): 0.3107977292052456, (2, 6): 0.3940153739504752, (2, 7): 0.4477978354716602, (3, 0): 0.11460674832346944, (3, 1): 0.132003070268015, (3, 2): 0.15230475244361683, (3, 3): 0.17899446895412569, (3, 4): 0.2486042606310485, (3, 5): 0, (3, 6): 0.44981506747663236, (3, 7): 0.5167153291891526, (4, 0): 0.10158611381155816, (4, 1): 0.11474370457729756, (4, 2): 0.11991744997453942, (4, 3): 0, (4, 4): 0.32291005705448983, (4, 5): 0.3761650161783927, (4, 6): 0.47021096677689433, (4, 7): 0.5968440118945235, (5, 0): 0.07976770883252328, (5, 1): 0, (5, 2): 0, (5, 3): 0.25536313700742985, (5, 4): 0.3299677409252876, (5, 5): 0.4179248557617042, (5, 6): 0, (5, 7): 0.6955681680956406, (6, 0): 0.06368586378087988, (6, 1): 0, (6, 2): 0.1529629289574526, (6, 3): 0.1976277069850056, (6, 4): 0, (6, 5): 0.5392052339500258, (6, 6): 0, (6, 7): 0.8791208791208791, (7, 0): 0.08051386325237343, (7, 1): 0.093813951939346, (7, 2): 0.11857442026449735, (7, 3): 0, (7, 4): 0.592533224120258, (7, 5): 0.7488961582658727, (7, 6): 0.8791208791208791, (7, 7): 0}\n",
            "iter   24   |   diff: 0.00058   |   V(start): 0.140 \n",
            "{(0, 0): 0.1405581814524842, (0, 1): 0.16087256182855028, (0, 2): 0.1839539931932873, (0, 3): 0.21014975501197408, (0, 4): 0.23961381651227878, (0, 5): 0.2700131197371766, (0, 6): 0.30361825138333987, (0, 7): 0.33741048964558695, (1, 0): 0.1353221670048808, (1, 1): 0.15551728069907778, (1, 2): 0.17903726162507422, (1, 3): 0.20806789683075927, (1, 4): 0.2627239485890891, (1, 5): 0.301223491686058, (1, 6): 0.3457664126265067, (1, 7): 0.38849837119639996, (2, 0): 0.12024250306202121, (2, 1): 0.13537523763155382, (2, 2): 0.1410467784738821, (2, 3): 0, (2, 4): 0.26979522029144554, (2, 5): 0.3108016169670506, (2, 6): 0.39401696222829263, (2, 7): 0.44779842145083315, (3, 0): 0.11509556347546991, (3, 1): 0.13220153463179235, (3, 2): 0.15236168936194477, (3, 3): 0.1789954151652749, (3, 4): 0.2486049661766213, (3, 5): 0, (3, 6): 0.4498155751403826, (3, 7): 0.5167154758337948, (4, 0): 0.10227082809795342, (4, 1): 0.11510500759488966, (4, 2): 0.12003448415341439, (4, 3): 0, (4, 4): 0.3229104248416597, (4, 5): 0.37616519000006343, (4, 6): 0.47021108765003683, (4, 7): 0.5968440376660231, (5, 0): 0.08065920917901682, (5, 1): 0, (5, 2): 0, (5, 3): 0.2553633479266352, (5, 4): 0.32996782915261824, (5, 5): 0.4179248705605283, (5, 6): 0, (5, 7): 0.6955681680956406, (6, 0): 0.06371044883249072, (6, 1): 0, (6, 2): 0.15296413882824625, (6, 3): 0.19762828052506828, (6, 4): 0, (6, 5): 0.5392052339518539, (6, 6): 0, (6, 7): 0.8791208791208791, (7, 0): 0.08052843926080296, (7, 1): 0.0938186419010612, (7, 2): 0.11857734117801447, (7, 3): 0, (7, 4): 0.5925332241228566, (7, 5): 0.7488961582666432, (7, 6): 0.8791208791208791, (7, 7): 0} {(0, 0): 0.14037108954126407, (0, 1): 0.16078335805772964, (0, 2): 0.1839092075914362, (0, 3): 0.21012805348697228, (0, 4): 0.23960188842512403, (0, 5): 0.27000708340541824, (0, 6): 0.30361482012164026, (0, 7): 0.3374087839887846, (1, 0): 0.13511961769116737, (1, 1): 0.15541589041689488, (1, 2): 0.17899962221597795, (1, 3): 0.2080541170228586, (1, 4): 0.2627171833568496, (1, 5): 0.3012201304789778, (1, 6): 0.34576503238591894, (1, 7): 0.38849772954951217, (2, 0): 0.11988142051114137, (2, 1): 0.13518944975975514, (2, 2): 0.14096076317096398, (2, 3): 0, (2, 4): 0.2697920520662653, (2, 5): 0.31080034290787456, (2, 6): 0.39401639614436473, (2, 7): 0.4477982258641821, (3, 0): 0.11492230758001126, (3, 1): 0.13212145390160643, (3, 2): 0.1523423699074717, (3, 3): 0.17899506765435494, (3, 4): 0.248604743285104, (3, 5): 0, (3, 6): 0.4498154076816532, (3, 7): 0.5167154242639777, (4, 0): 0.10198654244789501, (4, 1): 0.11497753133371957, (4, 2): 0.1199863551713609, (4, 3): 0, (4, 4): 0.322910291788513, (4, 5): 0.3761651330979173, (4, 6): 0.47021104463695396, (4, 7): 0.5968440291092889, (5, 0): 0.08032109573924898, (5, 1): 0, (5, 2): 0, (5, 3): 0.25536326709485757, (5, 4): 0.3299678012833311, (5, 5): 0.4179248651272945, (5, 6): 0, (5, 7): 0.6955681680956406, (6, 0): 0.06370170928198807, (6, 1): 0, (6, 2): 0.15296364685300878, (6, 3): 0.19762812225152027, (6, 4): 0, (6, 5): 0.5392052339514284, (6, 6): 0, (6, 7): 0.8791208791208791, (7, 0): 0.08052402082932192, (7, 1): 0.09381683826497925, (7, 2): 0.11857656452390702, (7, 3): 0, (7, 4): 0.5925332241222516, (7, 5): 0.7488961582664637, (7, 6): 0.8791208791208791, (7, 7): 0}\n",
            "iter   25   |   diff: 0.00036   |   V(start): 0.141 \n",
            "{(0, 0): 0.14065747587771907, (0, 1): 0.16092196092665337, (0, 2): 0.18397703654227388, (0, 3): 0.21016153655468675, (0, 4): 0.23961984506989029, (0, 5): 0.27001643602409586, (0, 6): 0.30361994193553354, (0, 7): 0.3374114139540114, (1, 0): 0.1354445037096415, (1, 1): 0.15556913032146283, (1, 2): 0.17905895516819192, (1, 3): 0.20807472093522184, (1, 4): 0.262727727326297, (1, 5): 0.3012251433944653, (1, 6): 0.34576718046379196, (1, 7): 0.38849869398866155, (2, 0): 0.12043755690593595, (2, 1): 0.1354884774415673, (2, 2): 0.1410905997568933, (2, 3): 0, (2, 4): 0.26979676654519036, (2, 5): 0.31080232705611593, (2, 6): 0.39401724234361996, (2, 7): 0.4477985271314537, (3, 0): 0.11521130473928823, (3, 1): 0.13224363841098016, (3, 2): 0.15237401255545463, (3, 3): 0.17899557564716737, (3, 4): 0.24860509325086974, (3, 5): 0, (3, 6): 0.44981566708938203, (3, 7): 0.5167155017072127, (4, 0): 0.10243263091469423, (4, 1): 0.11519258303751362, (4, 2): 0.12005986702414032, (4, 3): 0, (4, 4): 0.32291048837967723, (4, 5): 0.37616522145847414, (4, 6): 0.4702111088821711, (4, 7): 0.5968440423073067, (5, 0): 0.08089432505663799, (5, 1): 0, (5, 2): 0, (5, 3): 0.2553633822371413, (5, 4): 0.3299678450393298, (5, 5): 0.4179248730690705, (5, 6): 0, (5, 7): 0.6955681680956406, (6, 0): 0.06380857100381629, (6, 1): 0, (6, 2): 0.15296432268407048, (6, 3): 0.1976283830017195, (6, 4): 0, (6, 5): 0.5392052339519832, (6, 6): 0, (6, 7): 0.8791208791208791, (7, 0): 0.0805309220971605, (7, 1): 0.09381936341926593, (7, 2): 0.1185778577274328, (7, 3): 0, (7, 4): 0.5925332241230402, (7, 5): 0.7488961582666976, (7, 6): 0.8791208791208791, (7, 7): 0} {(0, 0): 0.1405581814524842, (0, 1): 0.16087256182855028, (0, 2): 0.1839539931932873, (0, 3): 0.21014975501197408, (0, 4): 0.23961381651227878, (0, 5): 0.2700131197371766, (0, 6): 0.30361825138333987, (0, 7): 0.33741048964558695, (1, 0): 0.1353221670048808, (1, 1): 0.15551728069907778, (1, 2): 0.17903726162507422, (1, 3): 0.20806789683075927, (1, 4): 0.2627239485890891, (1, 5): 0.301223491686058, (1, 6): 0.3457664126265067, (1, 7): 0.38849837119639996, (2, 0): 0.12024250306202121, (2, 1): 0.13537523763155382, (2, 2): 0.1410467784738821, (2, 3): 0, (2, 4): 0.26979522029144554, (2, 5): 0.3108016169670506, (2, 6): 0.39401696222829263, (2, 7): 0.44779842145083315, (3, 0): 0.11509556347546991, (3, 1): 0.13220153463179235, (3, 2): 0.15236168936194477, (3, 3): 0.1789954151652749, (3, 4): 0.2486049661766213, (3, 5): 0, (3, 6): 0.4498155751403826, (3, 7): 0.5167154758337948, (4, 0): 0.10227082809795342, (4, 1): 0.11510500759488966, (4, 2): 0.12003448415341439, (4, 3): 0, (4, 4): 0.3229104248416597, (4, 5): 0.37616519000006343, (4, 6): 0.47021108765003683, (4, 7): 0.5968440376660231, (5, 0): 0.08065920917901682, (5, 1): 0, (5, 2): 0, (5, 3): 0.2553633479266352, (5, 4): 0.32996782915261824, (5, 5): 0.4179248705605283, (5, 6): 0, (5, 7): 0.6955681680956406, (6, 0): 0.06371044883249072, (6, 1): 0, (6, 2): 0.15296413882824625, (6, 3): 0.19762828052506828, (6, 4): 0, (6, 5): 0.5392052339518539, (6, 6): 0, (6, 7): 0.8791208791208791, (7, 0): 0.08052843926080296, (7, 1): 0.0938186419010612, (7, 2): 0.11857734117801447, (7, 3): 0, (7, 4): 0.5925332241228566, (7, 5): 0.7488961582666432, (7, 6): 0.8791208791208791, (7, 7): 0}\n",
            "iter   26   |   diff: 0.00024   |   V(start): 0.141 \n",
            "{(0, 0): 0.1407129900300529, (0, 1): 0.16094766452276765, (0, 2): 0.1839895455733164, (0, 3): 0.2101675516244128, (0, 4): 0.2396231154530059, (0, 5): 0.2700181003412547, (0, 6): 0.3036208764319599, (0, 7): 0.3374118817018954, (1, 0): 0.13550832678198219, (1, 1): 0.15559938717423807, (1, 2): 0.17906988634028478, (1, 3): 0.20807850196485567, (1, 4): 0.2627295982893723, (1, 5): 0.30122605861114926, (1, 6): 0.34576755985188784, (1, 7): 0.3884988682353675, (2, 0): 0.12055338576221718, (2, 1): 0.13554730793110786, (2, 2): 0.14111641069083927, (2, 3): 0, (2, 4): 0.2697976293323485, (2, 5): 0.3108026773929083, (2, 6): 0.39401739581443235, (2, 7): 0.4477985804819498, (3, 0): 0.11527373655976245, (3, 1): 0.13227058448304463, (3, 2): 0.15238035647625356, (3, 3): 0.17899566714062623, (3, 4): 0.24860515344161266, (3, 5): 0, (3, 6): 0.4498157128395144, (3, 7): 0.5167155156529545, (4, 0): 0.10253840866798623, (4, 1): 0.11523974447040083, (4, 2): 0.12007662151330356, (4, 3): 0, (4, 4): 0.3229105238962194, (4, 5): 0.3761652369713796, (4, 6): 0.4702111204993053, (4, 7): 0.5968440446359142, (5, 0): 0.08103198351367727, (5, 1): 0, (5, 2): 0, (5, 3): 0.25536340289847226, (5, 4): 0.3299678525639017, (5, 5): 0.4179248744989676, (5, 6): 0, (5, 7): 0.6955681680956406, (6, 0): 0.06398668543112282, (6, 1): 0, (6, 2): 0.152964442956707, (6, 3): 0.19762842425230806, (6, 4): 0, (6, 5): 0.5392052339520224, (6, 6): 0, (6, 7): 0.8791208791208791, (7, 0): 0.08054049604095939, (7, 1): 0.09381980027148555, (7, 2): 0.11857805504026468, (7, 3): 0, (7, 4): 0.592533224123096, (7, 5): 0.7488961582667142, (7, 6): 0.8791208791208791, (7, 7): 0} {(0, 0): 0.14065747587771907, (0, 1): 0.16092196092665337, (0, 2): 0.18397703654227388, (0, 3): 0.21016153655468675, (0, 4): 0.23961984506989029, (0, 5): 0.27001643602409586, (0, 6): 0.30361994193553354, (0, 7): 0.3374114139540114, (1, 0): 0.1354445037096415, (1, 1): 0.15556913032146283, (1, 2): 0.17905895516819192, (1, 3): 0.20807472093522184, (1, 4): 0.262727727326297, (1, 5): 0.3012251433944653, (1, 6): 0.34576718046379196, (1, 7): 0.38849869398866155, (2, 0): 0.12043755690593595, (2, 1): 0.1354884774415673, (2, 2): 0.1410905997568933, (2, 3): 0, (2, 4): 0.26979676654519036, (2, 5): 0.31080232705611593, (2, 6): 0.39401724234361996, (2, 7): 0.4477985271314537, (3, 0): 0.11521130473928823, (3, 1): 0.13224363841098016, (3, 2): 0.15237401255545463, (3, 3): 0.17899557564716737, (3, 4): 0.24860509325086974, (3, 5): 0, (3, 6): 0.44981566708938203, (3, 7): 0.5167155017072127, (4, 0): 0.10243263091469423, (4, 1): 0.11519258303751362, (4, 2): 0.12005986702414032, (4, 3): 0, (4, 4): 0.32291048837967723, (4, 5): 0.37616522145847414, (4, 6): 0.4702111088821711, (4, 7): 0.5968440423073067, (5, 0): 0.08089432505663799, (5, 1): 0, (5, 2): 0, (5, 3): 0.2553633822371413, (5, 4): 0.3299678450393298, (5, 5): 0.4179248730690705, (5, 6): 0, (5, 7): 0.6955681680956406, (6, 0): 0.06380857100381629, (6, 1): 0, (6, 2): 0.15296432268407048, (6, 3): 0.1976283830017195, (6, 4): 0, (6, 5): 0.5392052339519832, (6, 6): 0, (6, 7): 0.8791208791208791, (7, 0): 0.0805309220971605, (7, 1): 0.09381936341926593, (7, 2): 0.1185778577274328, (7, 3): 0, (7, 4): 0.5925332241230402, (7, 5): 0.7488961582666976, (7, 6): 0.8791208791208791, (7, 7): 0}\n",
            "iter   27   |   diff: 0.00018   |   V(start): 0.141 \n",
            "{(0, 0): 0.14074223696947588, (0, 1): 0.16096170746551833, (0, 2): 0.1839959860418013, (0, 3): 0.2101707879491984, (0, 4): 0.23962477648251743, (0, 5): 0.2700190053367275, (0, 6): 0.30362134147724273, (0, 7): 0.3374121333615116, (1, 0): 0.13554553258675572, (1, 1): 0.15561486568585384, (1, 2): 0.17907605747847008, (1, 3): 0.20808039041454524, (1, 4): 0.2627306292307094, (1, 5): 0.30122651308943393, (1, 6): 0.34576776840257784, (1, 7): 0.3884989564748569, (2, 0): 0.12061505771542642, (2, 1): 0.1355818404462265, (2, 2): 0.14112957587880476, (2, 3): 0, (2, 4): 0.2697980553786826, (2, 5): 0.31080287026139475, (2, 6): 0.3940174724892301, (2, 7): 0.44779860913680164, (3, 0): 0.11531308232651044, (3, 1): 0.13228469137903834, (3, 2): 0.15238425323962373, (3, 3): 0.17899571047796115, (3, 4): 0.24860518724793434, (3, 5): 0, (3, 6): 0.4498157377383637, (3, 7): 0.5167155227021805, (4, 0): 0.10259712410548381, (4, 1): 0.11527017354410822, (4, 2): 0.12008543366523863, (4, 3): 0, (4, 4): 0.3229105411598896, (4, 5): 0.3761652454644069, (4, 6): 0.4702111262934146, (4, 7): 0.596844045891031, (5, 0): 0.08112053275718105, (5, 1): 0, (5, 2): 0, (5, 3): 0.255363412028717, (5, 4): 0.3299678567899164, (5, 5): 0.4179248751762073, (5, 6): 0, (5, 7): 0.6955681680956406, (6, 0): 0.0641018298186487, (6, 1): 0, (6, 2): 0.15296449041528565, (6, 3): 0.19762844995300366, (6, 4): 0, (6, 5): 0.5392052339520342, (6, 6): 0, (6, 7): 0.8791208791208791, (7, 0): 0.08055770252795699, (7, 1): 0.09381998165342427, (7, 2): 0.11857818095326274, (7, 3): 0, (7, 4): 0.5925332241231128, (7, 5): 0.7488961582667193, (7, 6): 0.8791208791208791, (7, 7): 0} {(0, 0): 0.1407129900300529, (0, 1): 0.16094766452276765, (0, 2): 0.1839895455733164, (0, 3): 0.2101675516244128, (0, 4): 0.2396231154530059, (0, 5): 0.2700181003412547, (0, 6): 0.3036208764319599, (0, 7): 0.3374118817018954, (1, 0): 0.13550832678198219, (1, 1): 0.15559938717423807, (1, 2): 0.17906988634028478, (1, 3): 0.20807850196485567, (1, 4): 0.2627295982893723, (1, 5): 0.30122605861114926, (1, 6): 0.34576755985188784, (1, 7): 0.3884988682353675, (2, 0): 0.12055338576221718, (2, 1): 0.13554730793110786, (2, 2): 0.14111641069083927, (2, 3): 0, (2, 4): 0.2697976293323485, (2, 5): 0.3108026773929083, (2, 6): 0.39401739581443235, (2, 7): 0.4477985804819498, (3, 0): 0.11527373655976245, (3, 1): 0.13227058448304463, (3, 2): 0.15238035647625356, (3, 3): 0.17899566714062623, (3, 4): 0.24860515344161266, (3, 5): 0, (3, 6): 0.4498157128395144, (3, 7): 0.5167155156529545, (4, 0): 0.10253840866798623, (4, 1): 0.11523974447040083, (4, 2): 0.12007662151330356, (4, 3): 0, (4, 4): 0.3229105238962194, (4, 5): 0.3761652369713796, (4, 6): 0.4702111204993053, (4, 7): 0.5968440446359142, (5, 0): 0.08103198351367727, (5, 1): 0, (5, 2): 0, (5, 3): 0.25536340289847226, (5, 4): 0.3299678525639017, (5, 5): 0.4179248744989676, (5, 6): 0, (5, 7): 0.6955681680956406, (6, 0): 0.06398668543112282, (6, 1): 0, (6, 2): 0.152964442956707, (6, 3): 0.19762842425230806, (6, 4): 0, (6, 5): 0.5392052339520224, (6, 6): 0, (6, 7): 0.8791208791208791, (7, 0): 0.08054049604095939, (7, 1): 0.09381980027148555, (7, 2): 0.11857805504026468, (7, 3): 0, (7, 4): 0.592533224123096, (7, 5): 0.7488961582667142, (7, 6): 0.8791208791208791, (7, 7): 0}\n",
            "iter   28   |   diff: 0.00012   |   V(start): 0.141 \n",
            "{(0, 0): 0.14075832863523405, (0, 1): 0.16096900153372046, (0, 2): 0.1839994512402473, (0, 3): 0.2101724451201495, (0, 4): 0.23962567035663426, (0, 5): 0.27001946252196934, (0, 6): 0.3036215957326976, (0, 7): 0.3374122613973849, (1, 0): 0.135564859815456, (1, 1): 0.15562368069655552, (1, 2): 0.17907918167132714, (1, 3): 0.20808142396153864, (1, 4): 0.2627311442919005, (1, 5): 0.3012267620536871, (1, 6): 0.34576787245303187, (1, 7): 0.3884990038174663, (2, 0): 0.1206505042970129, (2, 1): 0.13559972031729559, (2, 2): 0.14113712702465886, (2, 3): 0, (2, 4): 0.2697982900712822, (2, 5): 0.31080296637029475, (2, 6): 0.39401751413118197, (2, 7): 0.4477986236919128, (3, 0): 0.11533407415678953, (3, 1): 0.13229334359165923, (3, 2): 0.15238626240309594, (3, 3): 0.17899573481851275, (3, 4): 0.24860520357813704, (3, 5): 0, (3, 6): 0.449815750236008, (3, 7): 0.5167155264811913, (4, 0): 0.10263347606355082, (4, 1): 0.11528640799227263, (4, 2): 0.12009097795149885, (4, 3): 0, (4, 4): 0.3229105506977796, (4, 5): 0.3761652496971172, (4, 6): 0.47021112943799515, (4, 7): 0.5968440465254613, (5, 0): 0.08117077730409465, (5, 1): 0, (5, 2): 0, (5, 3): 0.2553634173845102, (5, 4): 0.32996785883125934, (5, 5): 0.41792487555655716, (5, 6): 0, (5, 7): 0.6955681680956406, (6, 0): 0.06417594826884873, (6, 1): 0, (6, 2): 0.15296452025195628, (6, 3): 0.19762846079805196, (6, 4): 0, (6, 5): 0.539205233952038, (6, 6): 0, (6, 7): 0.8791208791208791, (7, 0): 0.08056974470165999, (7, 1): 0.09382008863515737, (7, 2): 0.11857823144781386, (7, 3): 0, (7, 4): 0.5925332241231182, (7, 5): 0.7488961582667208, (7, 6): 0.8791208791208791, (7, 7): 0} {(0, 0): 0.14074223696947588, (0, 1): 0.16096170746551833, (0, 2): 0.1839959860418013, (0, 3): 0.2101707879491984, (0, 4): 0.23962477648251743, (0, 5): 0.2700190053367275, (0, 6): 0.30362134147724273, (0, 7): 0.3374121333615116, (1, 0): 0.13554553258675572, (1, 1): 0.15561486568585384, (1, 2): 0.17907605747847008, (1, 3): 0.20808039041454524, (1, 4): 0.2627306292307094, (1, 5): 0.30122651308943393, (1, 6): 0.34576776840257784, (1, 7): 0.3884989564748569, (2, 0): 0.12061505771542642, (2, 1): 0.1355818404462265, (2, 2): 0.14112957587880476, (2, 3): 0, (2, 4): 0.2697980553786826, (2, 5): 0.31080287026139475, (2, 6): 0.3940174724892301, (2, 7): 0.44779860913680164, (3, 0): 0.11531308232651044, (3, 1): 0.13228469137903834, (3, 2): 0.15238425323962373, (3, 3): 0.17899571047796115, (3, 4): 0.24860518724793434, (3, 5): 0, (3, 6): 0.4498157377383637, (3, 7): 0.5167155227021805, (4, 0): 0.10259712410548381, (4, 1): 0.11527017354410822, (4, 2): 0.12008543366523863, (4, 3): 0, (4, 4): 0.3229105411598896, (4, 5): 0.3761652454644069, (4, 6): 0.4702111262934146, (4, 7): 0.596844045891031, (5, 0): 0.08112053275718105, (5, 1): 0, (5, 2): 0, (5, 3): 0.255363412028717, (5, 4): 0.3299678567899164, (5, 5): 0.4179248751762073, (5, 6): 0, (5, 7): 0.6955681680956406, (6, 0): 0.0641018298186487, (6, 1): 0, (6, 2): 0.15296449041528565, (6, 3): 0.19762844995300366, (6, 4): 0, (6, 5): 0.5392052339520342, (6, 6): 0, (6, 7): 0.8791208791208791, (7, 0): 0.08055770252795699, (7, 1): 0.09381998165342427, (7, 2): 0.11857818095326274, (7, 3): 0, (7, 4): 0.5925332241231128, (7, 5): 0.7488961582667193, (7, 6): 0.8791208791208791, (7, 7): 0}\n",
            "iter   29   |   diff: 0.00007   |   V(start): 0.141 \n",
            "{(0, 0): 0.14076676806484084, (0, 1): 0.16097294629370287, (0, 2): 0.18400123744854935, (0, 3): 0.21017333087412862, (0, 4): 0.2396261263341861, (0, 5): 0.27001970913935136, (0, 6): 0.3036217233189249, (0, 7): 0.3374123298902832, (1, 0): 0.1355758450654222, (1, 1): 0.15562819576994696, (1, 2): 0.1790809172961494, (1, 3): 0.2080819439509818, (1, 4): 0.26273142511716724, (1, 5): 0.30122688676648673, (1, 6): 0.3457679291028548, (1, 7): 0.38849902792252206, (2, 0): 0.12066921928241608, (2, 1): 0.13560993692047044, (2, 2): 0.14114098563191213, (2, 3): 0, (2, 4): 0.2697984070949156, (2, 5): 0.31080301875928285, (2, 6): 0.39401753510019083, (2, 7): 0.4477986314705363, (3, 0): 0.11534676561844538, (3, 1): 0.13229786047809022, (3, 2): 0.15238745851718338, (3, 3): 0.1789957465762587, (3, 4): 0.24860521263606744, (3, 5): 0, (3, 6): 0.4498157569876837, (3, 7): 0.5167155284028802, (4, 0): 0.10265332295791257, (4, 1): 0.11529640824734913, (4, 2): 0.12009388564953363, (4, 3): 0, (4, 4): 0.32291055539877006, (4, 5): 0.3761652519954467, (4, 6): 0.4702111310195729, (4, 7): 0.5968440468655724, (5, 0): 0.08120147272312511, (5, 1): 0, (5, 2): 0, (5, 3): 0.2553634198303314, (5, 4): 0.32996785996352135, (5, 5): 0.4179248757402807, (5, 6): 0, (5, 7): 0.6955681680956406, (6, 0): 0.06421879500314454, (6, 1): 0, (6, 2): 0.15296453260490067, (6, 3): 0.1976284673395234, (6, 4): 0, (6, 5): 0.539205233952039, (6, 6): 0, (6, 7): 0.8791208791208791, (7, 0): 0.0805775761846591, (7, 1): 0.09382013461959016, (7, 2): 0.1185782625585727, (7, 3): 0, (7, 4): 0.5925332241231196, (7, 5): 0.7488961582667213, (7, 6): 0.8791208791208791, (7, 7): 0} {(0, 0): 0.14075832863523405, (0, 1): 0.16096900153372046, (0, 2): 0.1839994512402473, (0, 3): 0.2101724451201495, (0, 4): 0.23962567035663426, (0, 5): 0.27001946252196934, (0, 6): 0.3036215957326976, (0, 7): 0.3374122613973849, (1, 0): 0.135564859815456, (1, 1): 0.15562368069655552, (1, 2): 0.17907918167132714, (1, 3): 0.20808142396153864, (1, 4): 0.2627311442919005, (1, 5): 0.3012267620536871, (1, 6): 0.34576787245303187, (1, 7): 0.3884990038174663, (2, 0): 0.1206505042970129, (2, 1): 0.13559972031729559, (2, 2): 0.14113712702465886, (2, 3): 0, (2, 4): 0.2697982900712822, (2, 5): 0.31080296637029475, (2, 6): 0.39401751413118197, (2, 7): 0.4477986236919128, (3, 0): 0.11533407415678953, (3, 1): 0.13229334359165923, (3, 2): 0.15238626240309594, (3, 3): 0.17899573481851275, (3, 4): 0.24860520357813704, (3, 5): 0, (3, 6): 0.449815750236008, (3, 7): 0.5167155264811913, (4, 0): 0.10263347606355082, (4, 1): 0.11528640799227263, (4, 2): 0.12009097795149885, (4, 3): 0, (4, 4): 0.3229105506977796, (4, 5): 0.3761652496971172, (4, 6): 0.47021112943799515, (4, 7): 0.5968440465254613, (5, 0): 0.08117077730409465, (5, 1): 0, (5, 2): 0, (5, 3): 0.2553634173845102, (5, 4): 0.32996785883125934, (5, 5): 0.41792487555655716, (5, 6): 0, (5, 7): 0.6955681680956406, (6, 0): 0.06417594826884873, (6, 1): 0, (6, 2): 0.15296452025195628, (6, 3): 0.19762846079805196, (6, 4): 0, (6, 5): 0.539205233952038, (6, 6): 0, (6, 7): 0.8791208791208791, (7, 0): 0.08056974470165999, (7, 1): 0.09382008863515737, (7, 2): 0.11857823144781386, (7, 3): 0, (7, 4): 0.5925332241231182, (7, 5): 0.7488961582667208, (7, 6): 0.8791208791208791, (7, 7): 0}\n",
            "iter   30   |   diff: 0.00004   |   V(start): 0.141 \n",
            "{(0, 0): 0.14077135651318975, (0, 1): 0.16097499374868404, (0, 2): 0.18400219215639552, (0, 3): 0.21017378569487394, (0, 4): 0.23962637021095481, (0, 5): 0.27001983442115135, (0, 6): 0.3036217924667226, (0, 7): 0.3374123648930446, (1, 0): 0.13558153981561497, (1, 1): 0.15563071994250316, (1, 2): 0.17908179972194843, (1, 3): 0.208082225863032, (1, 4): 0.2627315664804896, (1, 5): 0.30122695446493253, (1, 6): 0.3457679575941482, (1, 7): 0.38849904079107006, (2, 0): 0.12067973250536378, (2, 1): 0.1356152193966514, (2, 2): 0.1411431547760699, (2, 3): 0, (2, 4): 0.26979847090447484, (2, 5): 0.3108030450811212, (2, 6): 0.39401754640693465, (2, 7): 0.44779863544143916, (3, 0): 0.11535348834585454, (3, 1): 0.1323005411974758, (3, 2): 0.1523880759502364, (3, 3): 0.17899575309796856, (3, 4): 0.24860521707897776, (3, 5): 0, (3, 6): 0.44981576040085247, (3, 7): 0.5167155294283629, (4, 0): 0.10266514705375424, (4, 1): 0.11530170831889514, (4, 2): 0.12009564687463346, (4, 3): 0, (4, 4): 0.32291055797068463, (4, 5): 0.3761652531507178, (4, 6): 0.47021113187210367, (4, 7): 0.5968440470385243, (5, 0): 0.08121852507477831, (5, 1): 0, (5, 2): 0, (5, 3): 0.2553634212342925, (5, 4): 0.32996786051889143, (5, 5): 0.4179248758421851, (5, 6): 0, (5, 7): 0.6955681680956406, (6, 0): 0.06424475191093308, (6, 1): 0, (6, 2): 0.1529645401147284, (6, 3): 0.1976284702122797, (6, 4): 0, (6, 5): 0.5392052339520393, (6, 6): 0, (6, 7): 0.8791208791208791, (7, 0): 0.08058217033300724, (7, 1): 0.09382016115793547, (7, 2): 0.11857827559129161, (7, 3): 0, (7, 4): 0.5925332241231202, (7, 5): 0.7488961582667213, (7, 6): 0.8791208791208791, (7, 7): 0} {(0, 0): 0.14076676806484084, (0, 1): 0.16097294629370287, (0, 2): 0.18400123744854935, (0, 3): 0.21017333087412862, (0, 4): 0.2396261263341861, (0, 5): 0.27001970913935136, (0, 6): 0.3036217233189249, (0, 7): 0.3374123298902832, (1, 0): 0.1355758450654222, (1, 1): 0.15562819576994696, (1, 2): 0.1790809172961494, (1, 3): 0.2080819439509818, (1, 4): 0.26273142511716724, (1, 5): 0.30122688676648673, (1, 6): 0.3457679291028548, (1, 7): 0.38849902792252206, (2, 0): 0.12066921928241608, (2, 1): 0.13560993692047044, (2, 2): 0.14114098563191213, (2, 3): 0, (2, 4): 0.2697984070949156, (2, 5): 0.31080301875928285, (2, 6): 0.39401753510019083, (2, 7): 0.4477986314705363, (3, 0): 0.11534676561844538, (3, 1): 0.13229786047809022, (3, 2): 0.15238745851718338, (3, 3): 0.1789957465762587, (3, 4): 0.24860521263606744, (3, 5): 0, (3, 6): 0.4498157569876837, (3, 7): 0.5167155284028802, (4, 0): 0.10265332295791257, (4, 1): 0.11529640824734913, (4, 2): 0.12009388564953363, (4, 3): 0, (4, 4): 0.32291055539877006, (4, 5): 0.3761652519954467, (4, 6): 0.4702111310195729, (4, 7): 0.5968440468655724, (5, 0): 0.08120147272312511, (5, 1): 0, (5, 2): 0, (5, 3): 0.2553634198303314, (5, 4): 0.32996785996352135, (5, 5): 0.4179248757402807, (5, 6): 0, (5, 7): 0.6955681680956406, (6, 0): 0.06421879500314454, (6, 1): 0, (6, 2): 0.15296453260490067, (6, 3): 0.1976284673395234, (6, 4): 0, (6, 5): 0.539205233952039, (6, 6): 0, (6, 7): 0.8791208791208791, (7, 0): 0.0805775761846591, (7, 1): 0.09382013461959016, (7, 2): 0.1185782625585727, (7, 3): 0, (7, 4): 0.5925332241231196, (7, 5): 0.7488961582667213, (7, 6): 0.8791208791208791, (7, 7): 0}\n",
            "iter   31   |   diff: 0.00003   |   V(start): 0.141 \n",
            "{(0, 0): 0.14077375616864493, (0, 1): 0.16097609258481163, (0, 2): 0.1840026849693602, (0, 3): 0.21017402759209902, (0, 4): 0.23962649508545897, (0, 5): 0.27001990157578787, (0, 6): 0.30362182740606436, (0, 7): 0.3374123835319495, (1, 0): 0.1355847163702721, (1, 1): 0.15563201498288307, (1, 2): 0.17908228384530492, (1, 3): 0.2080823685784912, (1, 4): 0.26273164291514006, (1, 5): 0.30122698862299124, (1, 6): 0.3457679729860332, (1, 7): 0.38849904737250585, (2, 0): 0.12068525433842414, (2, 1): 0.13561817821393132, (2, 2): 0.1411442655455015, (2, 3): 0, (2, 4): 0.26979850297875935, (2, 5): 0.31080305931483687, (2, 6): 0.39401755213738626, (2, 7): 0.4477986375547749, (3, 0): 0.11535742882250322, (3, 1): 0.13230193817856942, (3, 2): 0.15238843437910066, (3, 3): 0.178995756296864, (3, 4): 0.2486052195177101, (3, 5): 0, (3, 6): 0.44981576223353475, (3, 7): 0.5167155299523669, (4, 0): 0.10267152859255373, (4, 1): 0.11530486111573748, (4, 2): 0.12009656843287078, (4, 3): 0, (4, 4): 0.32291055925232504, (4, 5): 0.3761652537737113, (4, 6): 0.4702111323038143, (4, 7): 0.5968440471308178, (5, 0): 0.08122857313543311, (5, 1): 0, (5, 2): 0, (5, 3): 0.255363421892707, (5, 4): 0.3299678608237349, (5, 5): 0.4179248758921686, (5, 6): 0, (5, 7): 0.6955681680956406, (6, 0): 0.06425936572582437, (6, 1): 0, (6, 2): 0.15296454335605764, (6, 3): 0.19762847189901617, (6, 4): 0, (6, 5): 0.5392052339520393, (6, 6): 0, (6, 7): 0.8791208791208791, (7, 0): 0.08058493903566817, (7, 1): 0.09382017292994416, (7, 2): 0.11857828338681865, (7, 3): 0, (7, 4): 0.5925332241231202, (7, 5): 0.7488961582667214, (7, 6): 0.8791208791208791, (7, 7): 0} {(0, 0): 0.14077135651318975, (0, 1): 0.16097499374868404, (0, 2): 0.18400219215639552, (0, 3): 0.21017378569487394, (0, 4): 0.23962637021095481, (0, 5): 0.27001983442115135, (0, 6): 0.3036217924667226, (0, 7): 0.3374123648930446, (1, 0): 0.13558153981561497, (1, 1): 0.15563071994250316, (1, 2): 0.17908179972194843, (1, 3): 0.208082225863032, (1, 4): 0.2627315664804896, (1, 5): 0.30122695446493253, (1, 6): 0.3457679575941482, (1, 7): 0.38849904079107006, (2, 0): 0.12067973250536378, (2, 1): 0.1356152193966514, (2, 2): 0.1411431547760699, (2, 3): 0, (2, 4): 0.26979847090447484, (2, 5): 0.3108030450811212, (2, 6): 0.39401754640693465, (2, 7): 0.44779863544143916, (3, 0): 0.11535348834585454, (3, 1): 0.1323005411974758, (3, 2): 0.1523880759502364, (3, 3): 0.17899575309796856, (3, 4): 0.24860521707897776, (3, 5): 0, (3, 6): 0.44981576040085247, (3, 7): 0.5167155294283629, (4, 0): 0.10266514705375424, (4, 1): 0.11530170831889514, (4, 2): 0.12009564687463346, (4, 3): 0, (4, 4): 0.32291055797068463, (4, 5): 0.3761652531507178, (4, 6): 0.47021113187210367, (4, 7): 0.5968440470385243, (5, 0): 0.08121852507477831, (5, 1): 0, (5, 2): 0, (5, 3): 0.2553634212342925, (5, 4): 0.32996786051889143, (5, 5): 0.4179248758421851, (5, 6): 0, (5, 7): 0.6955681680956406, (6, 0): 0.06424475191093308, (6, 1): 0, (6, 2): 0.1529645401147284, (6, 3): 0.1976284702122797, (6, 4): 0, (6, 5): 0.5392052339520393, (6, 6): 0, (6, 7): 0.8791208791208791, (7, 0): 0.08058217033300724, (7, 1): 0.09382016115793547, (7, 2): 0.11857827559129161, (7, 3): 0, (7, 4): 0.5925332241231202, (7, 5): 0.7488961582667213, (7, 6): 0.8791208791208791, (7, 7): 0}\n",
            "iter   32   |   diff: 0.00001   |   V(start): 0.141 \n",
            "{(0, 0): 0.1407750491895669, (0, 1): 0.1609766628590319, (0, 2): 0.18400294705963116, (0, 3): 0.21017415211688356, (0, 4): 0.23962656155462117, (0, 5): 0.2700199358502565, (0, 6): 0.3036218462096403, (0, 7): 0.33741239309262544, (1, 0): 0.13558636173331204, (1, 1): 0.15563272874050643, (1, 2): 0.17908253092285123, (1, 3): 0.20808244538218978, (1, 4): 0.26273168163433336, (1, 5): 0.30122700703010014, (1, 6): 0.34576798077851284, (1, 7): 0.38849905087170644, (2, 0): 0.12068830471630793, (2, 1): 0.13561970757722913, (2, 2): 0.14114488040787337, (2, 3): 0, (2, 4): 0.26979852032563906, (2, 5): 0.3108030665149873, (2, 6): 0.394017555209199, (2, 7): 0.4477986386379987, (3, 0): 0.11535950595235799, (3, 1): 0.13230274629262267, (3, 2): 0.15238861959179562, (3, 3): 0.17899575805275128, (3, 4): 0.24860522072839178, (3, 5): 0, (3, 6): 0.4498157631654122, (3, 7): 0.51671553023092, (4, 0): 0.10267522382594854, (4, 1): 0.11530652422085819, (4, 2): 0.12009711025336885, (4, 3): 0, (4, 4): 0.32291055994780216, (4, 5): 0.37616525408904145, (4, 6): 0.47021113253520697, (4, 7): 0.5968440471779781, (5, 0): 0.08123407216882766, (5, 1): 0, (5, 2): 0, (5, 3): 0.2553634222640006, (5, 4): 0.3299678609750707, (5, 5): 0.4179248759196045, (5, 6): 0, (5, 7): 0.6955681680956406, (6, 0): 0.06426791557283602, (6, 1): 0, (6, 2): 0.15296454527210532, (6, 3): 0.19762847266479422, (6, 4): 0, (6, 5): 0.5392052339520395, (6, 6): 0, (6, 7): 0.8791208791208791, (7, 0): 0.08058651193809412, (7, 1): 0.09382017960220441, (7, 2): 0.11857828678005648, (7, 3): 0, (7, 4): 0.5925332241231203, (7, 5): 0.7488961582667214, (7, 6): 0.8791208791208791, (7, 7): 0} {(0, 0): 0.14077375616864493, (0, 1): 0.16097609258481163, (0, 2): 0.1840026849693602, (0, 3): 0.21017402759209902, (0, 4): 0.23962649508545897, (0, 5): 0.27001990157578787, (0, 6): 0.30362182740606436, (0, 7): 0.3374123835319495, (1, 0): 0.1355847163702721, (1, 1): 0.15563201498288307, (1, 2): 0.17908228384530492, (1, 3): 0.2080823685784912, (1, 4): 0.26273164291514006, (1, 5): 0.30122698862299124, (1, 6): 0.3457679729860332, (1, 7): 0.38849904737250585, (2, 0): 0.12068525433842414, (2, 1): 0.13561817821393132, (2, 2): 0.1411442655455015, (2, 3): 0, (2, 4): 0.26979850297875935, (2, 5): 0.31080305931483687, (2, 6): 0.39401755213738626, (2, 7): 0.4477986375547749, (3, 0): 0.11535742882250322, (3, 1): 0.13230193817856942, (3, 2): 0.15238843437910066, (3, 3): 0.178995756296864, (3, 4): 0.2486052195177101, (3, 5): 0, (3, 6): 0.44981576223353475, (3, 7): 0.5167155299523669, (4, 0): 0.10267152859255373, (4, 1): 0.11530486111573748, (4, 2): 0.12009656843287078, (4, 3): 0, (4, 4): 0.32291055925232504, (4, 5): 0.3761652537737113, (4, 6): 0.4702111323038143, (4, 7): 0.5968440471308178, (5, 0): 0.08122857313543311, (5, 1): 0, (5, 2): 0, (5, 3): 0.255363421892707, (5, 4): 0.3299678608237349, (5, 5): 0.4179248758921686, (5, 6): 0, (5, 7): 0.6955681680956406, (6, 0): 0.06425936572582437, (6, 1): 0, (6, 2): 0.15296454335605764, (6, 3): 0.19762847189901617, (6, 4): 0, (6, 5): 0.5392052339520393, (6, 6): 0, (6, 7): 0.8791208791208791, (7, 0): 0.08058493903566817, (7, 1): 0.09382017292994416, (7, 2): 0.11857828338681865, (7, 3): 0, (7, 4): 0.5925332241231202, (7, 5): 0.7488961582667214, (7, 6): 0.8791208791208791, (7, 7): 0}\n",
            "iter   33   |   diff: 0.00001   |   V(start): 0.141 \n",
            "average reward:  0.743\n",
            "Well done!\n"
          ]
        }
      ]
    },
    {
      "cell_type": "markdown",
      "source": [
        "## Policy Iteration"
      ],
      "metadata": {
        "id": "XarZRl5GC6rX"
      }
    },
    {
      "cell_type": "code",
      "source": [
        "transition_probs = {\n",
        "    's0': {\n",
        "        'a0': {'s0': 0.5, 's2': 0.5},\n",
        "        'a1': {'s2': 1}\n",
        "    },\n",
        "    's1': {\n",
        "        'a0': {'s0': 0.7, 's1': 0.1, 's2': 0.2},\n",
        "        'a1': {'s1': 0.95, 's2': 0.05}\n",
        "    },\n",
        "    's2': {\n",
        "        'a0': {'s0': 0.4, 's1': 0.6},\n",
        "        'a1': {'s0': 0.3, 's1': 0.3, 's2': 0.4}\n",
        "    }\n",
        "}\n",
        "rewards = {\n",
        "    's1': {'a0': {'s0': +5}},\n",
        "    's2': {'a1': {'s0': -1}}\n",
        "}\n",
        "\n",
        "from mdp import MDP\n",
        "mdp = MDP(transition_probs, rewards, initial_state='s0')"
      ],
      "metadata": {
        "id": "NXE_ifn2EIUK"
      },
      "execution_count": 89,
      "outputs": []
    },
    {
      "cell_type": "code",
      "source": [
        "def compute_vpi(mdp, policy, gamma):\n",
        "    \"\"\"\n",
        "    Computes V^pi(s) FOR ALL STATES under given policy.\n",
        "    :param policy: a dict of currently chosen actions {s : a}\n",
        "    :returns: a dict {state : V^pi(state) for all states}\n",
        "    \"\"\"\n",
        "    Vpi = {s: 0 for s in mdp.get_all_states()}\n",
        "    for state in mdp.get_all_states():\n",
        "      val = 0\n",
        "      for s in mdp.get_all_states():\n",
        "        print(mdp.get_transition_prob(state, policy[s], s))\n",
        "        print(mdp.get_reward(state, policy[s], s))\n",
        "        print(gamma*Vpi[s])\n",
        "        val += mdp.get_transition_prob(state, policy[s], s) * (mdp.get_reward(state, policy[s], s) + gamma*Vpi[s])\n",
        "      Vpi[state] = val\n",
        "    return Vpi"
      ],
      "metadata": {
        "id": "jk5eXIn1ELcU"
      },
      "execution_count": 112,
      "outputs": []
    },
    {
      "cell_type": "code",
      "source": [
        "test_policy = {s: np.random.choice(\n",
        "    mdp.get_possible_actions(s)) for s in mdp.get_all_states()}\n",
        "new_vpi = compute_vpi(mdp, test_policy, gamma)\n",
        "\n",
        "print(new_vpi)\n",
        "\n",
        "assert type(\n",
        "    new_vpi) is dict, \"compute_vpi must return a dict {state : V^pi(state) for all states}\""
      ],
      "metadata": {
        "colab": {
          "base_uri": "https://localhost:8080/"
        },
        "id": "me7NygypFZCt",
        "outputId": "362a3937-afac-40c0-9ea8-11e2c549c7ea"
      },
      "execution_count": 91,
      "outputs": [
        {
          "output_type": "stream",
          "name": "stdout",
          "text": [
            "{'s0': 0.0, 's1': 3.5, 's2': 1.89}\n"
          ]
        }
      ]
    },
    {
      "cell_type": "code",
      "source": [
        "def compute_new_policy(mdp, vpi, gamma, pi, optimal_policy_found):\n",
        "    \"\"\"\n",
        "    Computes new policy as argmax of state values\n",
        "    :param vpi: a dict {state : V^pi(state) for all states}\n",
        "    :returns: a dict {state : optimal action for all states}\n",
        "    \"\"\"\n",
        "    policy = {}\n",
        "    for s in mdp.get_all_states():\n",
        "      val = 0\n",
        "      max_val = vpi[s]\n",
        "      for a in mdp.get_possible_actions(s):\n",
        "        val += mdp.get_transition_prob(state, a, s) * (mdp.get_reward(state, a, s) + gamma*vpi[s])\n",
        "      if val > max_val and pi[s] != a:\n",
        "        max_val = val\n",
        "        policy[s] = a\n",
        "        optimal_policy_found = False\n",
        "    if optimal_policy_found:\n",
        "      return policy "
      ],
      "metadata": {
        "id": "yALinKvnGhh6"
      },
      "execution_count": 100,
      "outputs": []
    },
    {
      "cell_type": "code",
      "source": [
        "pi = {s: 'a0' for s in mdp.get_all_states()}\n",
        "optimal_policy_found = True\n",
        "new_policy = compute_new_policy(mdp, new_vpi, gamma,pi, optimal_policy_found)\n",
        "\n",
        "print(new_policy)\n",
        "\n",
        "assert type(\n",
        "    new_policy) is dict, \"compute_new_policy must return a dict {state : optimal action for all states}\""
      ],
      "metadata": {
        "colab": {
          "base_uri": "https://localhost:8080/"
        },
        "id": "3j44lEjMIw8m",
        "outputId": "938deb77-a6e2-43fa-f2c5-cfc3b54be256"
      },
      "execution_count": 101,
      "outputs": [
        {
          "output_type": "stream",
          "name": "stdout",
          "text": [
            "{}\n"
          ]
        }
      ]
    },
    {
      "cell_type": "code",
      "source": [
        "def policy_iteration(mdp, policy=None, gamma=0.9, num_iter=1000, min_difference=1e-5):\n",
        "    \"\"\" \n",
        "    Run the policy iteration loop for num_iter iterations or till difference between V(s) is below min_difference.\n",
        "    If policy is not given, initialize it at random.\n",
        "    \"\"\"\n",
        "    state_values = {s: 0 for s in mdp.get_all_states()}\n",
        "    policy = {s: np.random.choice(mdp.get_possible_actions(s)) for s in mdp.get_all_states()}\n",
        "\n",
        "    for i in range(num_iter):\n",
        "      optimal_policy_found = True\n",
        "\n",
        "      # policy evaluation\n",
        "\n",
        "      for j in range(num_iter):\n",
        "        diff = 0\n",
        "        new_state_values = {s: 0 for s in mdp.get_all_states()}\n",
        "        new_state_values = compute_vpi(mdp, policy, gamma)\n",
        "\n",
        "        assert isinstance(new_state_values, dict)\n",
        "        # Compute difference\n",
        "        print(new_state_values, state_values)\n",
        "        diff = max(abs(new_state_values[s] - state_values[s])\n",
        "                    for s in mdp.get_all_states())\n",
        "\n",
        "        print(\"iter %4i   |   diff: %6.5f   |   V(start): %.3f \" %\n",
        "              (i, diff, new_state_values[mdp._initial_state]))\n",
        "\n",
        "        state_values = new_state_values\n",
        "        if diff < min_difference:\n",
        "            break\n",
        "    \n",
        "      # policy iteration\n",
        "      policy = compute_new_policy(mdp, state_values, gamma, policy, optimal_policy_found)\n",
        "\n",
        "\n",
        "    return state_values, policy"
      ],
      "metadata": {
        "id": "6XBfsVzgI3aw"
      },
      "execution_count": 110,
      "outputs": []
    },
    {
      "cell_type": "code",
      "source": [
        "state_values, policy = policy_iteration(mdp)"
      ],
      "metadata": {
        "colab": {
          "base_uri": "https://localhost:8080/",
          "height": 1000
        },
        "id": "LqE-dhp6NHQc",
        "outputId": "d30cd12c-cbda-4a1b-abb5-40d2920f6d5d"
      },
      "execution_count": 113,
      "outputs": [
        {
          "output_type": "stream",
          "name": "stdout",
          "text": [
            "0.0\n",
            "0.0\n",
            "0.0\n",
            "0.0\n",
            "0.0\n",
            "0.0\n",
            "1\n",
            "0.0\n",
            "0.0\n",
            "0.0\n",
            "0.0\n",
            "0.0\n",
            "0.1\n",
            "0.0\n",
            "0.0\n",
            "0.05\n",
            "0.0\n",
            "0.0\n",
            "0.3\n",
            "-1\n",
            "0.0\n",
            "0.6\n",
            "0.0\n",
            "0.0\n",
            "0.4\n",
            "0.0\n",
            "0.0\n",
            "{'s0': 0.0, 's1': 0.0, 's2': -0.3} {'s0': 0, 's1': 0, 's2': 0}\n",
            "iter    0   |   diff: 0.30000   |   V(start): 0.000 \n",
            "0.0\n",
            "0.0\n",
            "0.0\n",
            "0.0\n",
            "0.0\n",
            "0.0\n",
            "1\n",
            "0.0\n",
            "0.0\n",
            "0.0\n",
            "0.0\n",
            "0.0\n",
            "0.1\n",
            "0.0\n",
            "0.0\n",
            "0.05\n",
            "0.0\n",
            "0.0\n",
            "0.3\n",
            "-1\n",
            "0.0\n",
            "0.6\n",
            "0.0\n",
            "0.0\n",
            "0.4\n",
            "0.0\n",
            "0.0\n",
            "{'s0': 0.0, 's1': 0.0, 's2': -0.3} {'s0': 0.0, 's1': 0.0, 's2': -0.3}\n",
            "iter    0   |   diff: 0.00000   |   V(start): 0.000 \n"
          ]
        },
        {
          "output_type": "error",
          "ename": "KeyError",
          "evalue": "ignored",
          "traceback": [
            "\u001b[0;31m---------------------------------------------------------------------------\u001b[0m",
            "\u001b[0;31mKeyError\u001b[0m                                  Traceback (most recent call last)",
            "\u001b[0;32m<ipython-input-113-fcdb52824112>\u001b[0m in \u001b[0;36m<module>\u001b[0;34m()\u001b[0m\n\u001b[0;32m----> 1\u001b[0;31m \u001b[0mstate_values\u001b[0m\u001b[0;34m,\u001b[0m \u001b[0mpolicy\u001b[0m \u001b[0;34m=\u001b[0m \u001b[0mpolicy_iteration\u001b[0m\u001b[0;34m(\u001b[0m\u001b[0mmdp\u001b[0m\u001b[0;34m)\u001b[0m\u001b[0;34m\u001b[0m\u001b[0;34m\u001b[0m\u001b[0m\n\u001b[0m",
            "\u001b[0;32m<ipython-input-110-89b298d205bc>\u001b[0m in \u001b[0;36mpolicy_iteration\u001b[0;34m(mdp, policy, gamma, num_iter, min_difference)\u001b[0m\n\u001b[1;32m     15\u001b[0m         \u001b[0mdiff\u001b[0m \u001b[0;34m=\u001b[0m \u001b[0;36m0\u001b[0m\u001b[0;34m\u001b[0m\u001b[0;34m\u001b[0m\u001b[0m\n\u001b[1;32m     16\u001b[0m         \u001b[0mnew_state_values\u001b[0m \u001b[0;34m=\u001b[0m \u001b[0;34m{\u001b[0m\u001b[0ms\u001b[0m\u001b[0;34m:\u001b[0m \u001b[0;36m0\u001b[0m \u001b[0;32mfor\u001b[0m \u001b[0ms\u001b[0m \u001b[0;32min\u001b[0m \u001b[0mmdp\u001b[0m\u001b[0;34m.\u001b[0m\u001b[0mget_all_states\u001b[0m\u001b[0;34m(\u001b[0m\u001b[0;34m)\u001b[0m\u001b[0;34m}\u001b[0m\u001b[0;34m\u001b[0m\u001b[0;34m\u001b[0m\u001b[0m\n\u001b[0;32m---> 17\u001b[0;31m         \u001b[0mnew_state_values\u001b[0m \u001b[0;34m=\u001b[0m \u001b[0mcompute_vpi\u001b[0m\u001b[0;34m(\u001b[0m\u001b[0mmdp\u001b[0m\u001b[0;34m,\u001b[0m \u001b[0mpolicy\u001b[0m\u001b[0;34m,\u001b[0m \u001b[0mgamma\u001b[0m\u001b[0;34m)\u001b[0m\u001b[0;34m\u001b[0m\u001b[0;34m\u001b[0m\u001b[0m\n\u001b[0m\u001b[1;32m     18\u001b[0m \u001b[0;34m\u001b[0m\u001b[0m\n\u001b[1;32m     19\u001b[0m         \u001b[0;32massert\u001b[0m \u001b[0misinstance\u001b[0m\u001b[0;34m(\u001b[0m\u001b[0mnew_state_values\u001b[0m\u001b[0;34m,\u001b[0m \u001b[0mdict\u001b[0m\u001b[0;34m)\u001b[0m\u001b[0;34m\u001b[0m\u001b[0;34m\u001b[0m\u001b[0m\n",
            "\u001b[0;32m<ipython-input-112-f9a7026ec61f>\u001b[0m in \u001b[0;36mcompute_vpi\u001b[0;34m(mdp, policy, gamma)\u001b[0m\n\u001b[1;32m      9\u001b[0m       \u001b[0mval\u001b[0m \u001b[0;34m=\u001b[0m \u001b[0;36m0\u001b[0m\u001b[0;34m\u001b[0m\u001b[0;34m\u001b[0m\u001b[0m\n\u001b[1;32m     10\u001b[0m       \u001b[0;32mfor\u001b[0m \u001b[0ms\u001b[0m \u001b[0;32min\u001b[0m \u001b[0mmdp\u001b[0m\u001b[0;34m.\u001b[0m\u001b[0mget_all_states\u001b[0m\u001b[0;34m(\u001b[0m\u001b[0;34m)\u001b[0m\u001b[0;34m:\u001b[0m\u001b[0;34m\u001b[0m\u001b[0;34m\u001b[0m\u001b[0m\n\u001b[0;32m---> 11\u001b[0;31m         \u001b[0mprint\u001b[0m\u001b[0;34m(\u001b[0m\u001b[0mmdp\u001b[0m\u001b[0;34m.\u001b[0m\u001b[0mget_transition_prob\u001b[0m\u001b[0;34m(\u001b[0m\u001b[0mstate\u001b[0m\u001b[0;34m,\u001b[0m \u001b[0mpolicy\u001b[0m\u001b[0;34m[\u001b[0m\u001b[0ms\u001b[0m\u001b[0;34m]\u001b[0m\u001b[0;34m,\u001b[0m \u001b[0ms\u001b[0m\u001b[0;34m)\u001b[0m\u001b[0;34m)\u001b[0m\u001b[0;34m\u001b[0m\u001b[0;34m\u001b[0m\u001b[0m\n\u001b[0m\u001b[1;32m     12\u001b[0m         \u001b[0mprint\u001b[0m\u001b[0;34m(\u001b[0m\u001b[0mmdp\u001b[0m\u001b[0;34m.\u001b[0m\u001b[0mget_reward\u001b[0m\u001b[0;34m(\u001b[0m\u001b[0mstate\u001b[0m\u001b[0;34m,\u001b[0m \u001b[0mpolicy\u001b[0m\u001b[0;34m[\u001b[0m\u001b[0ms\u001b[0m\u001b[0;34m]\u001b[0m\u001b[0;34m,\u001b[0m \u001b[0ms\u001b[0m\u001b[0;34m)\u001b[0m\u001b[0;34m)\u001b[0m\u001b[0;34m\u001b[0m\u001b[0;34m\u001b[0m\u001b[0m\n\u001b[1;32m     13\u001b[0m         \u001b[0mprint\u001b[0m\u001b[0;34m(\u001b[0m\u001b[0mgamma\u001b[0m\u001b[0;34m*\u001b[0m\u001b[0mVpi\u001b[0m\u001b[0;34m[\u001b[0m\u001b[0ms\u001b[0m\u001b[0;34m]\u001b[0m\u001b[0;34m)\u001b[0m\u001b[0;34m\u001b[0m\u001b[0;34m\u001b[0m\u001b[0m\n",
            "\u001b[0;31mKeyError\u001b[0m: 's0'"
          ]
        }
      ]
    },
    {
      "cell_type": "code",
      "source": [
        "s = mdp.reset()\n",
        "mdp.render()\n",
        "for t in range(100):\n",
        "    a = get_optimal_action(mdp, state_values, s, gamma)\n",
        "    print(a, end='\\n\\n')\n",
        "    s, r, done, _ = mdp.step(a)\n",
        "    mdp.render()\n",
        "    if done:\n",
        "        break"
      ],
      "metadata": {
        "id": "9fhDr65uYOgl"
      },
      "execution_count": null,
      "outputs": []
    }
  ]
}