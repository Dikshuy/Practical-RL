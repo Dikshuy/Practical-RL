{
  "nbformat": 4,
  "nbformat_minor": 0,
  "metadata": {
    "colab": {
      "name": "deep cross entropy method.ipynb",
      "provenance": []
    },
    "kernelspec": {
      "name": "python3",
      "display_name": "Python 3"
    },
    "language_info": {
      "name": "python"
    }
  },
  "cells": [
    {
      "cell_type": "markdown",
      "source": [
        "## Deep Crossentropy method \n",
        "\n",
        "We'll extend your CEM implementation with neural networks!"
      ],
      "metadata": {
        "id": "8pZomVcVmJ7B"
      }
    },
    {
      "cell_type": "code",
      "execution_count": 9,
      "metadata": {
        "id": "0B4XnOzFl-Gd"
      },
      "outputs": [],
      "source": [
        "import sys, os\n",
        "if 'google.colab' in sys.modules and not os.path.exists('.setup_complete'):\n",
        "    !wget -q https://raw.githubusercontent.com/yandexdataschool/Practical_RL/master/setup_colab.sh -O- | bash\n",
        "    !touch .setup_complete\n",
        "\n",
        "# This code creates a virtual display to draw game images on.\n",
        "# It will have no effect if your machine has a monitor.\n",
        "if type(os.environ.get(\"DISPLAY\")) is not str or len(os.environ.get(\"DISPLAY\")) == 0:\n",
        "    !bash ../xvfb start\n",
        "    os.environ['DISPLAY'] = ':1'"
      ]
    },
    {
      "cell_type": "code",
      "source": [
        "import gym\n",
        "import numpy as np\n",
        "import matplotlib.pyplot as plt\n",
        "%matplotlib inline\n",
        "\n",
        "# if you see \"<classname> has no attribute .env\", remove .env or update gym\n",
        "env = gym.make(\"CartPole-v0\").env\n",
        "\n",
        "env.reset()\n",
        "n_actions = env.action_space.n\n",
        "state_dim = env.observation_space.shape[0]\n",
        "\n",
        "plt.imshow(env.render(\"rgb_array\"))\n",
        "print(\"state vector dim =\", state_dim)\n",
        "print(\"n_actions =\", n_actions)"
      ],
      "metadata": {
        "colab": {
          "base_uri": "https://localhost:8080/",
          "height": 304
        },
        "id": "71cIUv59mUvq",
        "outputId": "b744f07b-9465-43ee-f7a9-59618fca3ca4"
      },
      "execution_count": 10,
      "outputs": [
        {
          "output_type": "stream",
          "name": "stdout",
          "text": [
            "state vector dim = 4\n",
            "n_actions = 2\n"
          ]
        },
        {
          "output_type": "display_data",
          "data": {
            "text/plain": [
              "<Figure size 432x288 with 1 Axes>"
            ],
            "image/png": "[encoded data removed]"
          },
          "metadata": {
            "needs_background": "light"
          }
        }
      ]
    },
    {
      "cell_type": "markdown",
      "source": [
        "## Neural Network Policy\n",
        "\n",
        "For this assignment we'll utilize the simplified neural network implementation from Scikit-learn. Here's what you'll need:\n",
        "\n",
        "`agent.partial_fit(states, actions)` - make a single training pass over the data. Maximize the probability of :actions: from :states:\n",
        "`agent.predict_proba(states)` - predict probabilities of all actions, a matrix of shape [len(states), n_actions]"
      ],
      "metadata": {
        "id": "0fpFmkYQmefH"
      }
    },
    {
      "cell_type": "code",
      "source": [
        "from sklearn.neural_network import MLPClassifier\n",
        "\n",
        "agent = MLPClassifier(\n",
        "    hidden_layer_sizes=(20, 20),\n",
        "    activation='tanh',\n",
        ")\n",
        "\n",
        "# initialize agent to the dimension of state space and number of actions\n",
        "agent.partial_fit([env.reset()] * n_actions, range(n_actions), range(n_actions))"
      ],
      "metadata": {
        "colab": {
          "base_uri": "https://localhost:8080/"
        },
        "id": "XhMv_Jdpmo-4",
        "outputId": "41303b38-692a-488f-9356-893159b28c46"
      },
      "execution_count": 11,
      "outputs": [
        {
          "output_type": "execute_result",
          "data": {
            "text/plain": [
              "MLPClassifier(activation='tanh', hidden_layer_sizes=(20, 20))"
            ]
          },
          "metadata": {},
          "execution_count": 11
        }
      ]
    },
    {
      "cell_type": "code",
      "source": [
        "def generate_session(env, agent, t_max=1000):\n",
        "    \"\"\"\n",
        "    Play a single game using agent neural network.\n",
        "    Terminate when game finishes or after :t_max: steps\n",
        "    \"\"\"\n",
        "    states, actions = [], []\n",
        "    total_reward = 0\n",
        "\n",
        "    s = env.reset()\n",
        "\n",
        "    for t in range(t_max):\n",
        "        \n",
        "        # use agent to predict a vector of action probabilities for state :s:\n",
        "        probs = agent.predict_proba([s])\n",
        "        probs = np.reshape(probs, (n_actions,))\n",
        "        assert probs.shape == (env.action_space.n,), \"make sure probabilities are a vector (hint: np.reshape)\"\n",
        "        \n",
        "        # use the probabilities you predicted to pick an action\n",
        "        # sample proportionally to the probabilities, don't just take the most likely action\n",
        "        val = np.random.choice(probs)\n",
        "        a = list(probs).index(val)\n",
        "        \n",
        "        # ^-- hint: try np.random.choice\n",
        "        \n",
        "        new_s, r, done, info = env.step(a)\n",
        "\n",
        "        # record sessions like you did before\n",
        "        states.append(s)\n",
        "        actions.append(a)\n",
        "        total_reward += r\n",
        "\n",
        "        s = new_s\n",
        "        if done:\n",
        "            break\n",
        "    return states, actions, total_reward"
      ],
      "metadata": {
        "id": "p6L1Jc19nBLv"
      },
      "execution_count": 12,
      "outputs": []
    },
    {
      "cell_type": "code",
      "source": [
        "dummy_states, dummy_actions, dummy_reward = generate_session(env, agent, t_max=5)\n",
        "print(\"states:\", np.stack(dummy_states))\n",
        "print(\"actions:\", dummy_actions)\n",
        "print(\"reward:\", dummy_reward)"
      ],
      "metadata": {
        "colab": {
          "base_uri": "https://localhost:8080/"
        },
        "id": "KuCshpSnpJvA",
        "outputId": "d32e7da7-04da-447c-a952-1157326edb40"
      },
      "execution_count": 13,
      "outputs": [
        {
          "output_type": "stream",
          "name": "stdout",
          "text": [
            "states: [[ 0.02403791  0.0191592  -0.02173548 -0.04790791]\n",
            " [ 0.02442109  0.21458596 -0.02269363 -0.34736855]\n",
            " [ 0.02871281  0.41002323 -0.02964101 -0.64712032]\n",
            " [ 0.03691328  0.60554535 -0.04258341 -0.94898785]\n",
            " [ 0.04902418  0.41102176 -0.06156317 -0.66998273]]\n",
            "actions: [1, 1, 1, 0, 0]\n",
            "reward: 5.0\n"
          ]
        }
      ]
    },
    {
      "cell_type": "markdown",
      "source": [
        "## CEM steps"
      ],
      "metadata": {
        "id": "tW_Qu4AuuGiF"
      }
    },
    {
      "cell_type": "code",
      "source": [
        "def select_elites(states_batch, actions_batch, rewards_batch, percentile):\n",
        "  \"\"\"\n",
        "  Select states and actions from games that have rewards >= percentile\n",
        "  :param states_batch: list of lists of states, states_batch[session_i][t]\n",
        "  :param actions_batch: list of lists of actions, actions_batch[session_i][t]\n",
        "  :param rewards_batch: list of rewards, rewards_batch[session_i]\n",
        "\n",
        "  :returns: elite_states,elite_actions, both 1D lists of states and respective actions from elite sessions\n",
        "\n",
        "  Please return elite states and actions in their original order \n",
        "  [i.e. sorted by session number and timestep within session]\n",
        "\n",
        "  If you are confused, see examples below. Please don't assume that states are integers\n",
        "  (they will become different later).\n",
        "  \"\"\"\n",
        "\n",
        "  reward_threshold = np.percentile(rewards_batch, percentile)\n",
        "  elite_states = []\n",
        "  elite_actions = []\n",
        "  print(reward_threshold)\n",
        "  for i in range(len(rewards_batch)):\n",
        "    if rewards_batch[i] >= reward_threshold:\n",
        "      elite_states += states_batch[i]\n",
        "      elite_actions += actions_batch[i]\n",
        "  return elite_states, elite_actions"
      ],
      "metadata": {
        "id": "ypfMxzcmuDu3"
      },
      "execution_count": 14,
      "outputs": []
    },
    {
      "cell_type": "markdown",
      "source": [
        "## Training Loop"
      ],
      "metadata": {
        "id": "_VAKdEsTuXvp"
      }
    },
    {
      "cell_type": "code",
      "source": [
        "from IPython.display import clear_output\n",
        "\n",
        "def show_progress(rewards_batch, log, percentile, reward_range=[-990, +10]):\n",
        "    \"\"\"\n",
        "    A convenience function that displays training progress. \n",
        "    No cool math here, just charts.\n",
        "    \"\"\"\n",
        "\n",
        "    mean_reward = np.mean(rewards_batch)\n",
        "    threshold = np.percentile(rewards_batch, percentile)\n",
        "    log.append([mean_reward, threshold])\n",
        "\n",
        "    clear_output(True)\n",
        "    print(\"mean reward = %.3f, threshold=%.3f\" % (mean_reward, threshold))\n",
        "    plt.figure(figsize=[8, 4])\n",
        "    plt.subplot(1, 2, 1)\n",
        "    plt.plot(list(zip(*log))[0], label='Mean rewards')\n",
        "    plt.plot(list(zip(*log))[1], label='Reward thresholds')\n",
        "    plt.legend()\n",
        "    plt.grid()\n",
        "\n",
        "    plt.subplot(1, 2, 2)\n",
        "    plt.hist(rewards_batch, range=reward_range)\n",
        "    plt.vlines([np.percentile(rewards_batch, percentile)],\n",
        "               [0], [100], label=\"percentile\", color='red')\n",
        "    plt.legend()\n",
        "    plt.grid()\n",
        "\n",
        "    plt.show()"
      ],
      "metadata": {
        "id": "NlXKnsskuXbG"
      },
      "execution_count": 15,
      "outputs": []
    },
    {
      "cell_type": "code",
      "source": [
        "n_sessions = 100\n",
        "percentile = 70\n",
        "log = []\n",
        "\n",
        "for i in range(100):\n",
        "  sessions = []\n",
        "  for _ in range(n_sessions):\n",
        "    sessions.append(generate_session(env, agent))\n",
        "  # print(sessions)\n",
        "  states_batch, actions_batch, rewards_batch = map(np.array, zip(*sessions))\n",
        "\n",
        "  elite_states, elite_actions = select_elites(states_batch, actions_batch, rewards_batch, percentile)\n",
        "\n",
        "  # partial_fit agent to predict elite_actions(y) from elite_states(X)>\n",
        "  agent.partial_fit(elite_states, elite_actions)\n",
        "\n",
        "  show_progress(rewards_batch, log, percentile, reward_range=[0, np.max(rewards_batch)])\n",
        "\n",
        "  if np.mean(rewards_batch) > 190:\n",
        "      print(\"You Win! You may stop training now via KeyboardInterrupt.\")"
      ],
      "metadata": {
        "colab": {
          "base_uri": "https://localhost:8080/",
          "height": 282
        },
        "id": "eCwg6Drqud2V",
        "outputId": "d80e4d6b-d542-4069-fdc0-c52de16a7d71"
      },
      "execution_count": 18,
      "outputs": [
        {
          "output_type": "stream",
          "name": "stdout",
          "text": [
            "mean reward = 22.570, threshold=24.300\n"
          ]
        },
        {
          "output_type": "display_data",
          "data": {
            "text/plain": [
              "<Figure size 576x288 with 2 Axes>"
            ],
            "image/png": "[encoded data removed]"
          },
          "metadata": {
            "needs_background": "light"
          }
        }
      ]
    },
    {
      "cell_type": "markdown",
      "source": [
        "## Results"
      ],
      "metadata": {
        "id": "99q5MtnYtrso"
      }
    },
    {
      "cell_type": "code",
      "source": [
        "# Record sessions\n",
        "\n",
        "import gym.wrappers\n",
        "\n",
        "with gym.wrappers.Monitor(gym.make(\"CartPole-v0\"), directory=\"videos\", force=True) as env_monitor:\n",
        "    sessions = [generate_session(env_monitor, agent) for _ in range(100)]"
      ],
      "metadata": {
        "id": "7rcDTnqOtq-q"
      },
      "execution_count": 19,
      "outputs": []
    },
    {
      "cell_type": "code",
      "source": [
        "from pathlib import Path\n",
        "from base64 import b64encode\n",
        "from IPython.display import HTML\n",
        "\n",
        "video_paths = sorted([s for s in Path('videos').iterdir() if s.suffix == '.mp4'])\n",
        "video_path = video_paths[-1]  # You can also try other indices\n",
        "\n",
        "if 'google.colab' in sys.modules:\n",
        "    # https://stackoverflow.com/a/57378660/1214547\n",
        "    with video_path.open('rb') as fp:\n",
        "        mp4 = fp.read()\n",
        "    data_url = 'data:video/mp4;base64,' + b64encode(mp4).decode()\n",
        "else:\n",
        "    data_url = str(video_path)\n",
        "\n",
        "HTML(\"\"\"\n",
        "<video width=\"640\" height=\"480\" controls>\n",
        "  <source src=\"{}\" type=\"video/mp4\">\n",
        "</video>\n",
        "\"\"\".format(data_url))"
      ],
      "metadata": {
        "colab": {
          "base_uri": "https://localhost:8080/",
          "height": 501
        },
        "id": "2nCnWjHHtzMu",
        "outputId": "316f632e-a463-46cd-e6e4-0753cb5231cf"
      },
      "execution_count": 20,
      "outputs": [
        {
          "output_type": "execute_result",
          "data": {
            "text/plain": [
              "<IPython.core.display.HTML object>"
            ],
            "text/html": [
              "\n",
              "<video width=\"640\" height=\"480\" controls>\n",
              "  <source src=\"data:video/mp4;base64,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\" type=\"video/mp4\">\n",
              "</video>\n"
            ]
          },
          "metadata": {},
          "execution_count": 20
        }
      ]
    }
  ]
}