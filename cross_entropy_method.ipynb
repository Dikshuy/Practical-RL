{
  "nbformat": 4,
  "nbformat_minor": 0,
  "metadata": {
    "colab": {
      "name": "cross entropy method.ipynb",
      "provenance": [],
      "collapsed_sections": []
    },
    "kernelspec": {
      "name": "python3",
      "display_name": "Python 3"
    },
    "language_info": {
      "name": "python"
    }
  },
  "cells": [
    {
      "cell_type": "code",
      "execution_count": 1,
      "metadata": {
        "colab": {
          "base_uri": "https://localhost:8080/"
        },
        "id": "FUmuiRTAHIrM",
        "outputId": "6d33ab27-8851-4e37-cd68-249daad3dd80"
      },
      "outputs": [
        {
          "output_type": "stream",
          "name": "stdout",
          "text": [
            "Starting virtual X frame buffer: Xvfb.\n"
          ]
        }
      ],
      "source": [
        "import sys, os\n",
        "if 'google.colab' in sys.modules and not os.path.exists('.setup_complete'):\n",
        "    !wget -q https://raw.githubusercontent.com/yandexdataschool/Practical_RL/master/setup_colab.sh -O- | bash\n",
        "    !touch .setup_complete\n",
        "\n",
        "# This code creates a virtual display to draw game images on.\n",
        "# It will have no effect if your machine has a monitor.\n",
        "if type(os.environ.get(\"DISPLAY\")) is not str or len(os.environ.get(\"DISPLAY\")) == 0:\n",
        "    !bash ../xvfb start\n",
        "    os.environ['DISPLAY'] = ':1'"
      ]
    },
    {
      "cell_type": "code",
      "source": [
        "import gym\n",
        "import numpy as np\n",
        "\n",
        "env = gym.make(\"Taxi-v3\")\n",
        "env.reset()\n",
        "env.render()"
      ],
      "metadata": {
        "colab": {
          "base_uri": "https://localhost:8080/"
        },
        "id": "5Mmg5lDqHVRB",
        "outputId": "334402d0-ba01-4932-9357-0c32eae8ba31"
      },
      "execution_count": 2,
      "outputs": [
        {
          "output_type": "stream",
          "name": "stdout",
          "text": [
            "+---------+\n",
            "|R: | : :\u001b[35mG\u001b[0m|\n",
            "| : | : : |\n",
            "|\u001b[43m \u001b[0m: : : : |\n",
            "| | : | : |\n",
            "|Y| : |\u001b[34;1mB\u001b[0m: |\n",
            "+---------+\n",
            "\n"
          ]
        }
      ]
    },
    {
      "cell_type": "code",
      "source": [
        "n_states = env.observation_space.n\n",
        "n_actions = env.action_space.n\n",
        "\n",
        "print(\"n_states=%i, n_actions=%i\" % (n_states, n_actions))"
      ],
      "metadata": {
        "colab": {
          "base_uri": "https://localhost:8080/"
        },
        "id": "RfXOTJXDHV4O",
        "outputId": "c549700b-bc46-4a13-f445-a53376f97286"
      },
      "execution_count": 3,
      "outputs": [
        {
          "output_type": "stream",
          "name": "stdout",
          "text": [
            "n_states=500, n_actions=6\n"
          ]
        }
      ]
    },
    {
      "cell_type": "markdown",
      "source": [
        "## Create stochastic policy\n",
        "\n",
        "This time our policy should be a probability distribution.\n",
        "\n",
        "`policy[s,a] = P(take action a | in state s)`\n",
        "\n",
        "Since we still use integer state and action representations, you can use a 2-dimensional array to represent the policy."
      ],
      "metadata": {
        "id": "nsoACs-1HaTg"
      }
    },
    {
      "cell_type": "code",
      "source": [
        "def initialize_policy(n_states, n_actions):\n",
        "  policy = np.zeros((n_states, n_actions))\n",
        "  for i in range(n_states):\n",
        "    policy[i] = [1/n_actions]*n_actions\n",
        "  return policy\n",
        "\n",
        "policy = initialize_policy(n_states, n_actions)"
      ],
      "metadata": {
        "id": "4SuO2GTFHZak"
      },
      "execution_count": 4,
      "outputs": []
    },
    {
      "cell_type": "code",
      "source": [
        "assert type(policy) in (np.ndarray, np.matrix)\n",
        "assert np.allclose(policy, 1./n_actions)\n",
        "assert np.allclose(np.sum(policy, axis=1), 1)"
      ],
      "metadata": {
        "id": "vlGkJvNUIhM_"
      },
      "execution_count": 5,
      "outputs": []
    },
    {
      "cell_type": "markdown",
      "source": [
        "## Play the game"
      ],
      "metadata": {
        "id": "RT1MKze3LTYp"
      }
    },
    {
      "cell_type": "code",
      "source": [
        "def generate_session(env, policy, t_max=10**4):\n",
        "    \"\"\"\n",
        "    Play game until end or for t_max ticks.\n",
        "    :param policy: an array of shape [n_states,n_actions] with action probabilities\n",
        "    :returns: list of states, list of actions and sum of rewards\n",
        "    \"\"\"\n",
        "    states, actions = [], []\n",
        "    total_reward = 0.\n",
        "\n",
        "    s = env.reset()\n",
        "\n",
        "    for t in range(t_max):\n",
        "        a = env.action_space.sample()\n",
        "\n",
        "        new_s, r, done, info = env.step(a)\n",
        "\n",
        "        # Record information we just got from the environment.\n",
        "        states.append(s)\n",
        "        actions.append(a)\n",
        "        total_reward += r\n",
        "\n",
        "        s = new_s\n",
        "        if done:\n",
        "            break\n",
        "\n",
        "    return states, actions, total_reward"
      ],
      "metadata": {
        "id": "cE5JKB7yLVoe"
      },
      "execution_count": 6,
      "outputs": []
    },
    {
      "cell_type": "code",
      "source": [
        "s, a, r = generate_session(env, policy)\n",
        "assert type(s) == type(a) == list\n",
        "assert len(s) == len(a)\n",
        "assert type(r) in [float, np.float]"
      ],
      "metadata": {
        "colab": {
          "base_uri": "https://localhost:8080/"
        },
        "id": "pWHv8ElSLspz",
        "outputId": "e079e57d-18a2-443a-834b-a640066d6220"
      },
      "execution_count": 7,
      "outputs": [
        {
          "output_type": "stream",
          "name": "stderr",
          "text": [
            "/usr/local/lib/python3.7/dist-packages/ipykernel_launcher.py:4: DeprecationWarning: `np.float` is a deprecated alias for the builtin `float`. To silence this warning, use `float` by itself. Doing this will not modify any behavior and is safe. If you specifically wanted the numpy scalar type, use `np.float64` here.\n",
            "Deprecated in NumPy 1.20; for more details and guidance: https://numpy.org/devdocs/release/1.20.0-notes.html#deprecations\n",
            "  after removing the cwd from sys.path.\n"
          ]
        }
      ]
    },
    {
      "cell_type": "code",
      "source": [
        "# let's see the initial reward distribution\n",
        "import matplotlib.pyplot as plt\n",
        "%matplotlib inline\n",
        "\n",
        "sample_rewards = [generate_session(env, policy, t_max=1000)[-1] for _ in range(200)]\n",
        "\n",
        "plt.hist(sample_rewards, bins=20)\n",
        "plt.vlines([np.percentile(sample_rewards, 50)], [0], [100], label=\"50'th percentile\", color='green')\n",
        "plt.vlines([np.percentile(sample_rewards, 90)], [0], [100], label=\"90'th percentile\", color='red')\n",
        "plt.legend()"
      ],
      "metadata": {
        "colab": {
          "base_uri": "https://localhost:8080/",
          "height": 282
        },
        "id": "bGtJ5gxpLzXs",
        "outputId": "45ffb548-3058-490a-eb16-aea805f42b8a"
      },
      "execution_count": 8,
      "outputs": [
        {
          "output_type": "execute_result",
          "data": {
            "text/plain": [
              "<matplotlib.legend.Legend at 0x7fd8b790c6d0>"
            ]
          },
          "metadata": {},
          "execution_count": 8
        },
        {
          "output_type": "display_data",
          "data": {
            "text/plain": [
              "<Figure size 432x288 with 1 Axes>"
            ],
            "image/png": "[encoded data removed]"
          },
          "metadata": {
            "needs_background": "light"
          }
        }
      ]
    },
    {
      "cell_type": "code",
      "source": [
        "def select_elites(states_batch, actions_batch, rewards_batch, percentile):\n",
        "  \"\"\"\n",
        "  Select states and actions from games that have rewards >= percentile\n",
        "  :param states_batch: list of lists of states, states_batch[session_i][t]\n",
        "  :param actions_batch: list of lists of actions, actions_batch[session_i][t]\n",
        "  :param rewards_batch: list of rewards, rewards_batch[session_i]\n",
        "\n",
        "  :returns: elite_states,elite_actions, both 1D lists of states and respective actions from elite sessions\n",
        "\n",
        "  Please return elite states and actions in their original order \n",
        "  [i.e. sorted by session number and timestep within session]\n",
        "\n",
        "  If you are confused, see examples below. Please don't assume that states are integers\n",
        "  (they will become different later).\n",
        "  \"\"\"\n",
        "\n",
        "  reward_threshold = np.percentile(rewards_batch, percentile)\n",
        "  elite_states = []\n",
        "  elite_actions = []\n",
        "  print(reward_threshold)\n",
        "  for i in range(len(rewards_batch)):\n",
        "    if rewards_batch[i] >= reward_threshold:\n",
        "      elite_states += states_batch[i]\n",
        "      elite_actions += actions_batch[i]\n",
        "  return elite_states, elite_actions"
      ],
      "metadata": {
        "id": "oHxsaUHpMPUl"
      },
      "execution_count": 9,
      "outputs": []
    },
    {
      "cell_type": "code",
      "source": [
        "states_batch = [\n",
        "    [1, 2, 3],     # game1\n",
        "    [4, 2, 0, 2],  # game2\n",
        "    [3, 1],        # game3\n",
        "]\n",
        "\n",
        "actions_batch = [\n",
        "    [0, 2, 4],     # game1\n",
        "    [3, 2, 0, 1],  # game2\n",
        "    [3, 3],        # game3\n",
        "]\n",
        "rewards_batch = [\n",
        "    3,  # game1\n",
        "    4,  # game2\n",
        "    5,  # game3\n",
        "]\n",
        "\n",
        "test_result_0 = select_elites(states_batch, actions_batch, rewards_batch, percentile=0)\n",
        "test_result_30 = select_elites(states_batch, actions_batch, rewards_batch, percentile=30)\n",
        "test_result_90 = select_elites(states_batch, actions_batch, rewards_batch, percentile=90)\n",
        "test_result_100 = select_elites(states_batch, actions_batch, rewards_batch, percentile=100)\n",
        "\n",
        "print(test_result_0)\n",
        "assert np.all(test_result_0[0] == [1, 2, 3, 4, 2, 0, 2, 3, 1])  \\\n",
        "    and np.all(test_result_0[1] == [0, 2, 4, 3, 2, 0, 1, 3, 3]), \\\n",
        "    \"For percentile 0 you should return all states and actions in chronological order\"\n",
        "assert np.all(test_result_30[0] == [4, 2, 0, 2, 3, 1]) and \\\n",
        "    np.all(test_result_30[1] == [3, 2, 0, 1, 3, 3]), \\\n",
        "    \"For percentile 30 you should only select states/actions from two first\"\n",
        "assert np.all(test_result_90[0] == [3, 1]) and \\\n",
        "    np.all(test_result_90[1] == [3, 3]), \\\n",
        "    \"For percentile 90 you should only select states/actions from one game\"\n",
        "assert np.all(test_result_100[0] == [3, 1]) and\\\n",
        "    np.all(test_result_100[1] == [3, 3]), \\\n",
        "    \"Please make sure you use >=, not >. Also double-check how you compute percentile.\"\n",
        "\n",
        "print(\"Ok!\")\n"
      ],
      "metadata": {
        "colab": {
          "base_uri": "https://localhost:8080/"
        },
        "id": "JlvqdbFqNFjn",
        "outputId": "892f015a-a64a-413b-a8a0-d418574d7821"
      },
      "execution_count": 10,
      "outputs": [
        {
          "output_type": "stream",
          "name": "stdout",
          "text": [
            "3.0\n",
            "3.6\n",
            "4.8\n",
            "5.0\n",
            "([1, 2, 3, 4, 2, 0, 2, 3, 1], [0, 2, 4, 3, 2, 0, 1, 3, 3])\n",
            "Ok!\n"
          ]
        }
      ]
    },
    {
      "cell_type": "code",
      "source": [
        "def get_new_policy(elite_states, elite_actions):\n",
        "    \"\"\"\n",
        "    Given a list of elite states/actions from select_elites,\n",
        "    return a new policy where each action probability is proportional to\n",
        "\n",
        "        policy[s_i,a_i] ~ #[occurrences of s_i and a_i in elite states/actions]\n",
        "\n",
        "    Don't forget to normalize the policy to get valid probabilities and handle the 0/0 case.\n",
        "    For states that you never visited, use a uniform distribution (1/n_actions for all states).\n",
        "\n",
        "    :param elite_states: 1D list of states from elite sessions\n",
        "    :param elite_actions: 1D list of actions from elite sessions\n",
        "\n",
        "    \"\"\"\n",
        "\n",
        "    new_policy = np.zeros([n_states, n_actions])\n",
        "\n",
        "    for s in range(n_states):\n",
        "      if s in elite_states:\n",
        "        sum = elite_states.count(s)\n",
        "        for j in range(sum):\n",
        "          idx = elite_states.index(s)\n",
        "          a = elite_actions[idx]\n",
        "          new_policy[s][a] += 1/sum\n",
        "          elite_states[idx] = -1\n",
        "          elite_actions[idx] = -1\n",
        "      else:\n",
        "        new_policy[s] = [1/n_actions]*n_actions\n",
        "    return new_policy\n",
        "\n",
        "elite_states = [1, 2, 3, 4, 2, 0, 2, 3, 1]\n",
        "elite_actions = [0, 2, 4, 3, 2, 0, 1, 3, 3]\n",
        "\n",
        "new_policy = get_new_policy(elite_states, elite_actions)"
      ],
      "metadata": {
        "id": "EKqnk258WXdO"
      },
      "execution_count": 11,
      "outputs": []
    },
    {
      "cell_type": "code",
      "source": [
        "elite_states = [1, 2, 3, 4, 2, 0, 2, 3, 1]\n",
        "elite_actions = [0, 2, 4, 3, 2, 0, 1, 3, 3]\n",
        "\n",
        "new_policy = get_new_policy(elite_states, elite_actions)\n",
        "\n",
        "assert np.isfinite(new_policy).all(), \\\n",
        "    \"Your new policy contains NaNs or +-inf. Make sure you don't divide by zero.\"\n",
        "assert np.all(new_policy >= 0), \\\n",
        "    \"Your new policy can't have negative action probabilities\"\n",
        "assert np.allclose(new_policy.sum(axis=-1), 1), \\\n",
        "    \"Your new policy should be a valid probability distribution over actions\"\n",
        "\n",
        "reference_answer = np.array([\n",
        "    [1.,  0.,  0.,  0.,  0.],\n",
        "    [0.5,  0.,  0.,  0.5,  0.],\n",
        "    [0.,  0.33333333,  0.66666667,  0.,  0.],\n",
        "    [0.,  0.,  0.,  0.5,  0.5]])\n",
        "assert np.allclose(new_policy[:4, :5], reference_answer)\n",
        "\n",
        "print(\"Ok!\")"
      ],
      "metadata": {
        "colab": {
          "base_uri": "https://localhost:8080/"
        },
        "id": "At9bisAgXO0k",
        "outputId": "3b048234-3bd4-4dd9-c092-8c3eaadc3b9b"
      },
      "execution_count": 12,
      "outputs": [
        {
          "output_type": "stream",
          "name": "stdout",
          "text": [
            "Ok!\n"
          ]
        }
      ]
    },
    {
      "cell_type": "code",
      "source": [
        "from IPython.display import clear_output\n",
        "\n",
        "def show_progress(rewards_batch, log, percentile, reward_range=[-990, +10]):\n",
        "    \"\"\"\n",
        "    A convenience function that displays training progress. \n",
        "    No cool math here, just charts.\n",
        "    \"\"\"\n",
        "\n",
        "    mean_reward = np.mean(rewards_batch)\n",
        "    threshold = np.percentile(rewards_batch, percentile)\n",
        "    log.append([mean_reward, threshold])\n",
        "    \n",
        "    plt.figure(figsize=[8, 4])\n",
        "    plt.subplot(1, 2, 1)\n",
        "    plt.plot(list(zip(*log))[0], label='Mean rewards')\n",
        "    plt.plot(list(zip(*log))[1], label='Reward thresholds')\n",
        "    plt.legend()\n",
        "    plt.grid()\n",
        "\n",
        "    plt.subplot(1, 2, 2)\n",
        "    plt.hist(rewards_batch, range=reward_range)\n",
        "    plt.vlines([np.percentile(rewards_batch, percentile)],\n",
        "               [0], [100], label=\"percentile\", color='red')\n",
        "    plt.legend()\n",
        "    plt.grid()\n",
        "    clear_output(True)\n",
        "    print(\"mean reward = %.3f, threshold=%.3f\" % (mean_reward, threshold))\n",
        "    plt.show()"
      ],
      "metadata": {
        "id": "K7KCXBOujOdT"
      },
      "execution_count": 13,
      "outputs": []
    },
    {
      "cell_type": "code",
      "source": [
        "# reset policy just in case\n",
        "policy = initialize_policy(n_states, n_actions)"
      ],
      "metadata": {
        "id": "0UFEQvjgjT_e"
      },
      "execution_count": 14,
      "outputs": []
    },
    {
      "cell_type": "code",
      "source": [
        "n_sessions = 250     # sample this many sessions\n",
        "percentile = 50      # discard this percentage of sessions with lowest rewards\n",
        "learning_rate = 0.5  # how quickly the policy is updated, on a scale from 0 to 1\n",
        "\n",
        "log = []\n",
        "\n",
        "for i in range(100):\n",
        "  sessions = []\n",
        "  for _ in range(n_sessions):\n",
        "    sessions.append(generate_session(env, policy))\n",
        "\n",
        "  states_batch, actions_batch, rewards_batch = zip(*sessions)\n",
        "\n",
        "  elite_states, elite_actions = select_elites(states_batch, actions_batch, rewards_batch, percentile)\n",
        "\n",
        "  new_policy = get_new_policy(elite_states, elite_actions)\n",
        "\n",
        "  policy = learning_rate * new_policy + (1 - learning_rate) * policy\n",
        "\n",
        "  # display results on chart\n",
        "  show_progress(rewards_batch, log, percentile)"
      ],
      "metadata": {
        "colab": {
          "base_uri": "https://localhost:8080/",
          "height": 286
        },
        "id": "HG-S71sXjWS_",
        "outputId": "ec10a282-69c7-4899-9165-765700c977c0"
      },
      "execution_count": 15,
      "outputs": [
        {
          "output_type": "stream",
          "name": "stdout",
          "text": [
            "mean reward = -776.904, threshold=-785.000\n"
          ]
        },
        {
          "output_type": "display_data",
          "data": {
            "text/plain": [
              "<Figure size 576x288 with 2 Axes>"
            ],
            "image/png": "[encoded data removed]"
          },
          "metadata": {
            "needs_background": "light"
          }
        }
      ]
    }
  ]
}